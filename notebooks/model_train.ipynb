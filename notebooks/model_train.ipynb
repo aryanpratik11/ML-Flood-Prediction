{
 "cells": [
  {
   "cell_type": "code",
   "execution_count": 3,
   "metadata": {},
   "outputs": [],
   "source": [
    "import pandas as pd\n",
    "import numpy as np\n",
    "import joblib\n",
    "from sklearn.model_selection import train_test_split, GridSearchCV\n",
    "from sklearn.preprocessing import StandardScaler\n",
    "from sklearn.metrics import accuracy_score, mean_squared_error\n",
    "from xgboost import XGBClassifier, XGBRegressor"
   ]
  },
  {
   "cell_type": "code",
   "execution_count": 4,
   "metadata": {},
   "outputs": [],
   "source": [
    "df = pd.read_csv(\"../data/preproc.csv\")"
   ]
  },
  {
   "cell_type": "code",
   "execution_count": 5,
   "metadata": {},
   "outputs": [],
   "source": [
    "X = df.drop(columns=['Year-Month', 'Flood Risk', 'Area affected in (m.ha)', 'Population affected in (million)', 'Damage to Crops', 'Damage to Houses', 'Flood Occurred'])\n",
    "y_risk = df[\"Flood Risk\"]\n",
    "y_area = df[\"Area affected in (m.ha)\"].fillna(df[\"Area affected in (m.ha)\"].median())\n",
    "y_pop = df[\"Population affected in (million)\"].fillna(df[\"Population affected in (million)\"].median())\n",
    "y_crops = df[\"Damage to Crops\"].fillna(df[\"Damage to Crops\"].median())\n",
    "y_houses = df[\"Damage to Houses\"].fillna(df[\"Damage to Houses\"].median())"
   ]
  },
  {
   "cell_type": "code",
   "execution_count": 6,
   "metadata": {},
   "outputs": [],
   "source": [
    "from sklearn.preprocessing import FunctionTransformer\n",
    "\n",
    "# Define log transformation scalers\n",
    "log_transformer = FunctionTransformer(np.log1p, inverse_func=np.expm1, validate=True)\n",
    "\n",
    "scalers = {\n",
    "    \"area\": log_transformer,\n",
    "    \"population\": log_transformer,\n",
    "    \"crops\": log_transformer,\n",
    "    \"houses\": log_transformer\n",
    "}\n",
    "\n",
    "y_area_scaled = scalers[\"area\"].fit_transform(y_area.values.reshape(-1, 1))\n",
    "y_pop_scaled = scalers[\"population\"].fit_transform(y_pop.values.reshape(-1, 1))\n",
    "y_crops_scaled = scalers[\"crops\"].fit_transform(y_crops.values.reshape(-1, 1))\n",
    "y_houses_scaled = scalers[\"houses\"].fit_transform(y_houses.values.reshape(-1, 1))\n",
    "\n",
    "for name, scaler in scalers.items():\n",
    "    joblib.dump(scaler, f\"../models/scaler_{name}.pkl\")\n"
   ]
  },
  {
   "cell_type": "code",
   "execution_count": 7,
   "metadata": {},
   "outputs": [],
   "source": [
    "X_train, X_test, y_risk_train, y_risk_test, y_area_train, y_area_test, y_pop_train, y_pop_test, y_crops_train, y_crops_test, y_houses_train, y_houses_test = train_test_split(\n",
    "    X, y_risk, y_area_scaled, y_pop_scaled, y_crops_scaled, y_houses_scaled, test_size=0.2, random_state=42\n",
    ")"
   ]
  },
  {
   "cell_type": "code",
   "execution_count": 8,
   "metadata": {},
   "outputs": [],
   "source": [
    "param_grid = {\n",
    "    'n_estimators': [100, 200, 300],\n",
    "    'learning_rate': [0.05, 0.1],\n",
    "    'max_depth': [3, 6],\n",
    "    'subsample': [0.7],\n",
    "    'colsample_bytree': [0.7]\n",
    "}"
   ]
  },
  {
   "cell_type": "code",
   "execution_count": 9,
   "metadata": {},
   "outputs": [
    {
     "name": "stdout",
     "output_type": "stream",
     "text": [
      "Flood Risk Accuracy: 0.8754950495049505\n"
     ]
    }
   ],
   "source": [
    "clf = GridSearchCV(XGBClassifier(random_state=42), param_grid, cv=3, scoring='accuracy', n_jobs=-1)\n",
    "clf.fit(X_train, y_risk_train)\n",
    "best_clf = clf.best_estimator_\n",
    "y_pred_risk = best_clf.predict(X_test)\n",
    "print(f\"Flood Risk Accuracy: {accuracy_score(y_risk_test, y_pred_risk)}\")"
   ]
  },
  {
   "cell_type": "code",
   "execution_count": 10,
   "metadata": {},
   "outputs": [
    {
     "data": {
      "text/plain": [
       "['../models/xgb_flood_risk_model.pkl']"
      ]
     },
     "execution_count": 10,
     "metadata": {},
     "output_type": "execute_result"
    }
   ],
   "source": [
    "joblib.dump(best_clf, \"../models/xgb_flood_risk_model.pkl\")"
   ]
  },
  {
   "cell_type": "code",
   "execution_count": 11,
   "metadata": {},
   "outputs": [],
   "source": [
    "def train_and_save_regressor(X_train, y_train, X_test, y_test, target_name):\n",
    "    print(f\"Tuning {target_name}...\")\n",
    "    reg = GridSearchCV(XGBRegressor(random_state=42), param_grid, cv=3, scoring='neg_mean_squared_error', n_jobs=-1)\n",
    "    reg.fit(X_train, y_train)\n",
    "    best_reg = reg.best_estimator_\n",
    "    \n",
    "    y_pred = best_reg.predict(X_test)\n",
    "    y_pred_unscaled = scalers[target_name].inverse_transform(y_pred.reshape(-1, 1))\n",
    "    y_pred_unscaled = np.clip(y_pred_unscaled, 0, None)  # 👈 Clip to avoid negatives\n",
    "    \n",
    "    y_test_unscaled = scalers[target_name].inverse_transform(y_test.reshape(-1, 1))\n",
    "    rmse = np.sqrt(mean_squared_error(y_test_unscaled, y_pred_unscaled))\n",
    "    print(f\"{target_name.capitalize()} RMSE: {rmse}\")\n",
    "\n",
    "    joblib.dump(best_reg, f\"../models/xgb_{target_name}_model.pkl\")\n"
   ]
  },
  {
   "cell_type": "code",
   "execution_count": 12,
   "metadata": {},
   "outputs": [
    {
     "name": "stdout",
     "output_type": "stream",
     "text": [
      "Tuning area...\n",
      "Area RMSE: 9.840557025325266\n"
     ]
    }
   ],
   "source": [
    "train_and_save_regressor(X_train, y_area_train, X_test, y_area_test, \"area\")"
   ]
  },
  {
   "cell_type": "code",
   "execution_count": 13,
   "metadata": {},
   "outputs": [
    {
     "name": "stdout",
     "output_type": "stream",
     "text": [
      "Tuning population...\n",
      "Population RMSE: 35.081503267547454\n"
     ]
    }
   ],
   "source": [
    "train_and_save_regressor(X_train, y_pop_train, X_test, y_pop_test, \"population\")"
   ]
  },
  {
   "cell_type": "code",
   "execution_count": 14,
   "metadata": {},
   "outputs": [
    {
     "name": "stdout",
     "output_type": "stream",
     "text": [
      "Tuning crops...\n",
      "Crops RMSE: 47.97465974734991\n"
     ]
    }
   ],
   "source": [
    "train_and_save_regressor(X_train, y_crops_train, X_test, y_crops_test, \"crops\")"
   ]
  },
  {
   "cell_type": "code",
   "execution_count": 15,
   "metadata": {},
   "outputs": [
    {
     "name": "stdout",
     "output_type": "stream",
     "text": [
      "Tuning houses...\n",
      "Houses RMSE: 856.3776284060484\n"
     ]
    }
   ],
   "source": [
    "train_and_save_regressor(X_train, y_houses_train, X_test, y_houses_test, \"houses\")"
   ]
  }
 ],
 "metadata": {
  "kernelspec": {
   "display_name": "Python 3",
   "language": "python",
   "name": "python3"
  },
  "language_info": {
   "codemirror_mode": {
    "name": "ipython",
    "version": 3
   },
   "file_extension": ".py",
   "mimetype": "text/x-python",
   "name": "python",
   "nbconvert_exporter": "python",
   "pygments_lexer": "ipython3",
   "version": "3.10.0"
  }
 },
 "nbformat": 4,
 "nbformat_minor": 2
}
