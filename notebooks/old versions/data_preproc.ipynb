{
 "cells": [
  {
   "cell_type": "code",
   "execution_count": 1,
   "metadata": {},
   "outputs": [],
   "source": [
    "import numpy as np\n",
    "import pandas as pd\n",
    "import joblib\n",
    "from sklearn.preprocessing import LabelEncoder, StandardScaler\n",
    "import os"
   ]
  },
  {
   "cell_type": "code",
   "execution_count": 2,
   "metadata": {},
   "outputs": [
    {
     "data": {
      "text/html": [
       "<div>\n",
       "<style scoped>\n",
       "    .dataframe tbody tr th:only-of-type {\n",
       "        vertical-align: middle;\n",
       "    }\n",
       "\n",
       "    .dataframe tbody tr th {\n",
       "        vertical-align: top;\n",
       "    }\n",
       "\n",
       "    .dataframe thead th {\n",
       "        text-align: right;\n",
       "    }\n",
       "</style>\n",
       "<table border=\"1\" class=\"dataframe\">\n",
       "  <thead>\n",
       "    <tr style=\"text-align: right;\">\n",
       "      <th></th>\n",
       "      <th>Year-Month</th>\n",
       "      <th>District</th>\n",
       "      <th>Rainfall (mm)</th>\n",
       "      <th>River</th>\n",
       "      <th>River Level</th>\n",
       "      <th>Flood Risk</th>\n",
       "      <th>Flood Occurred</th>\n",
       "      <th>Area affected in (m.ha)</th>\n",
       "      <th>Population affected in (million)</th>\n",
       "      <th>Damage to Crops</th>\n",
       "      <th>Damage to Houses</th>\n",
       "    </tr>\n",
       "  </thead>\n",
       "  <tbody>\n",
       "    <tr>\n",
       "      <th>0</th>\n",
       "      <td>1981-06</td>\n",
       "      <td>0</td>\n",
       "      <td>29.000000</td>\n",
       "      <td>3</td>\n",
       "      <td>67.21750</td>\n",
       "      <td>0</td>\n",
       "      <td>No</td>\n",
       "      <td>-0.221896</td>\n",
       "      <td>-0.218068</td>\n",
       "      <td>-0.221629</td>\n",
       "      <td>-0.230728</td>\n",
       "    </tr>\n",
       "    <tr>\n",
       "      <th>1</th>\n",
       "      <td>1989-06</td>\n",
       "      <td>0</td>\n",
       "      <td>12.600000</td>\n",
       "      <td>3</td>\n",
       "      <td>67.09450</td>\n",
       "      <td>0</td>\n",
       "      <td>No</td>\n",
       "      <td>-0.226377</td>\n",
       "      <td>-0.226563</td>\n",
       "      <td>-0.221941</td>\n",
       "      <td>-0.202502</td>\n",
       "    </tr>\n",
       "    <tr>\n",
       "      <th>2</th>\n",
       "      <td>1989-07</td>\n",
       "      <td>0</td>\n",
       "      <td>171.400001</td>\n",
       "      <td>3</td>\n",
       "      <td>68.26360</td>\n",
       "      <td>0</td>\n",
       "      <td>No</td>\n",
       "      <td>-0.223359</td>\n",
       "      <td>-0.223544</td>\n",
       "      <td>-0.218925</td>\n",
       "      <td>-0.202502</td>\n",
       "    </tr>\n",
       "    <tr>\n",
       "      <th>3</th>\n",
       "      <td>1989-08</td>\n",
       "      <td>0</td>\n",
       "      <td>114.199998</td>\n",
       "      <td>3</td>\n",
       "      <td>67.61575</td>\n",
       "      <td>0</td>\n",
       "      <td>No</td>\n",
       "      <td>-0.224452</td>\n",
       "      <td>-0.224637</td>\n",
       "      <td>-0.220017</td>\n",
       "      <td>-0.202502</td>\n",
       "    </tr>\n",
       "    <tr>\n",
       "      <th>4</th>\n",
       "      <td>1989-09</td>\n",
       "      <td>0</td>\n",
       "      <td>450.200000</td>\n",
       "      <td>3</td>\n",
       "      <td>71.35000</td>\n",
       "      <td>2</td>\n",
       "      <td>Yes</td>\n",
       "      <td>-0.176487</td>\n",
       "      <td>-0.176668</td>\n",
       "      <td>-0.172093</td>\n",
       "      <td>-0.184149</td>\n",
       "    </tr>\n",
       "  </tbody>\n",
       "</table>\n",
       "</div>"
      ],
      "text/plain": [
       "  Year-Month  District  Rainfall (mm)  River  River Level  Flood Risk  \\\n",
       "0    1981-06         0      29.000000      3     67.21750           0   \n",
       "1    1989-06         0      12.600000      3     67.09450           0   \n",
       "2    1989-07         0     171.400001      3     68.26360           0   \n",
       "3    1989-08         0     114.199998      3     67.61575           0   \n",
       "4    1989-09         0     450.200000      3     71.35000           2   \n",
       "\n",
       "  Flood Occurred  Area affected in (m.ha)  Population affected in (million)  \\\n",
       "0             No                -0.221896                         -0.218068   \n",
       "1             No                -0.226377                         -0.226563   \n",
       "2             No                -0.223359                         -0.223544   \n",
       "3             No                -0.224452                         -0.224637   \n",
       "4            Yes                -0.176487                         -0.176668   \n",
       "\n",
       "   Damage to Crops  Damage to Houses  \n",
       "0        -0.221629         -0.230728  \n",
       "1        -0.221941         -0.202502  \n",
       "2        -0.218925         -0.202502  \n",
       "3        -0.220017         -0.202502  \n",
       "4        -0.172093         -0.184149  "
      ]
     },
     "execution_count": 2,
     "metadata": {},
     "output_type": "execute_result"
    }
   ],
   "source": [
    "# Load dataset\n",
    "df = pd.read_csv(\"../data/11.csv\")\n",
    "\n",
    "# Drop 'Year' column if present\n",
    "df.drop(columns=[\"Year\"], inplace=True, errors=\"ignore\")\n",
    "\n",
    "# Display first few rows\n",
    "df.head()"
   ]
  },
  {
   "cell_type": "code",
   "execution_count": 3,
   "metadata": {},
   "outputs": [],
   "source": [
    "# Create interaction term\n",
    "df[\"Rainfall × River Level\"] = df[\"Rainfall (mm)\"] * df[\"River Level\"]"
   ]
  },
  {
   "cell_type": "code",
   "execution_count": 4,
   "metadata": {},
   "outputs": [
    {
     "data": {
      "text/plain": [
       "['label_encoders.pkl']"
      ]
     },
     "execution_count": 4,
     "metadata": {},
     "output_type": "execute_result"
    }
   ],
   "source": [
    "label_encoders = {}\n",
    "\n",
    "for col in [\"River\", \"District\"]:\n",
    "    le = LabelEncoder()\n",
    "    df[col] = le.fit_transform(df[col])\n",
    "    label_encoders[col] = le  # Save encoders for later use\n",
    "\n",
    "# Save encoders\n",
    "joblib.dump(label_encoders, \"label_encoders.pkl\")"
   ]
  },
  {
   "cell_type": "code",
   "execution_count": 5,
   "metadata": {},
   "outputs": [],
   "source": [
    "# Define target variables and fill missing values\n",
    "y_flood_risk = df[\"Flood Risk\"].fillna(df[\"Flood Risk\"].mode()[0]).astype(int)\n",
    "y_area_affected = df[\"Area affected in (m.ha)\"].fillna(df[\"Area affected in (m.ha)\"].median())\n",
    "y_population_affected = df[\"Population affected in (million)\"].fillna(df[\"Population affected in (million)\"].median())\n",
    "y_damage_crops = df[\"Damage to Crops\"].fillna(df[\"Damage to Crops\"].median())\n",
    "y_damage_houses = df[\"Damage to Houses\"].fillna(df[\"Damage to Houses\"].median())"
   ]
  },
  {
   "cell_type": "code",
   "execution_count": 6,
   "metadata": {},
   "outputs": [
    {
     "data": {
      "text/plain": [
       "['scaler_houses.pkl']"
      ]
     },
     "execution_count": 6,
     "metadata": {},
     "output_type": "execute_result"
    }
   ],
   "source": [
    "# Initialize scalers\n",
    "scaler_area = StandardScaler()\n",
    "scaler_population = StandardScaler()\n",
    "scaler_crops = StandardScaler()\n",
    "scaler_houses = StandardScaler()\n",
    "\n",
    "# Apply scaling\n",
    "y_area_affected_scaled = scaler_area.fit_transform(y_area_affected.values.reshape(-1, 1))\n",
    "y_population_affected_scaled = scaler_population.fit_transform(y_population_affected.values.reshape(-1, 1))\n",
    "y_damage_crops_scaled = scaler_crops.fit_transform(y_damage_crops.values.reshape(-1, 1))\n",
    "y_damage_houses_scaled = scaler_houses.fit_transform(y_damage_houses.values.reshape(-1, 1))\n",
    "\n",
    "# Save scalers for later use\n",
    "joblib.dump(scaler_area, \"scaler_area.pkl\")\n",
    "joblib.dump(scaler_population, \"scaler_population.pkl\")\n",
    "joblib.dump(scaler_crops, \"scaler_crops.pkl\")\n",
    "joblib.dump(scaler_houses, \"scaler_houses.pkl\")"
   ]
  },
  {
   "cell_type": "code",
   "execution_count": 7,
   "metadata": {},
   "outputs": [
    {
     "name": "stdout",
     "output_type": "stream",
     "text": [
      "Preprocessing Complete. Data Saved.\n"
     ]
    }
   ],
   "source": [
    "# Define feature columns\n",
    "X = df[[\"River\", \"River Level\", \"Rainfall (mm)\", \"District\", \"Rainfall × River Level\"]]\n",
    "\n",
    "# Save processed data\n",
    "joblib.dump((X, y_flood_risk, y_area_affected_scaled, y_population_affected_scaled, y_damage_crops_scaled, y_damage_houses_scaled), \"processed_data.pkl\")\n",
    "\n",
    "print(\"Preprocessing Complete. Data Saved.\")"
   ]
  },
  {
   "cell_type": "code",
   "execution_count": null,
   "metadata": {},
   "outputs": [
    {
     "name": "stdout",
     "output_type": "stream",
     "text": [
      "Encoding Complete. New dataset shape: (27376, 12)\n",
      "Category mappings saved to ../data/category_mappings.json\n"
     ]
    }
   ],
   "source": [
    "import pandas as pd\n",
    "from sklearn.preprocessing import LabelEncoder\n",
    "import json\n",
    "\n",
    "file_path = \"../data/imputed_flood_data.csv\"\n",
    "df = pd.read_csv(file_path)\n",
    "\n",
    "df[['Year', 'Month']] = df['Year-Month'].str.split('-', expand=True)\n",
    "df['Year'] = df['Year'].astype(int)\n",
    "df['Month'] = df['Month'].astype(int)\n",
    "df.drop(columns=['Year-Month'], inplace=True)\n",
    "\n",
    "#categorical columns\n",
    "cat_cols = df.select_dtypes(include=['object']).columns.tolist()\n",
    "cat_cols = [col for col in cat_cols if col not in ['Year', 'Month']]\n",
    "\n",
    "\n",
    "label_enc_cols = ['Flood Risk']\n",
    "one_hot_enc_cols = [col for col in cat_cols if col not in label_enc_cols]\n",
    "le = LabelEncoder()\n",
    "for col in label_enc_cols:\n",
    "    df[col] = le.fit_transform(df[col])\n",
    "mappings = {}\n",
    "for col in one_hot_enc_cols:\n",
    "    le = LabelEncoder()\n",
    "    df[col] = le.fit_transform(df[col])\n",
    "    mappings[col] = {str(k): int(v) for k, v in zip(le.classes_, le.transform(le.classes_))}\n",
    "\n",
    "\n",
    "df.to_csv(\"../data/encoded_flood_data.csv\", index=False)\n",
    "\n",
    "mapping_file = \"../data/category_mappings.json\"\n",
    "with open(mapping_file, \"w\") as f:\n",
    "    json.dump(mappings, f, indent=4)\n",
    "\n",
    "print(f\"Encoding Complete. New dataset shape: {df.shape}\")\n",
    "print(f\"Category mappings saved to {mapping_file}\")\n"
   ]
  },
  {
   "cell_type": "code",
   "execution_count": null,
   "metadata": {},
   "outputs": [
    {
     "name": "stdout",
     "output_type": "stream",
     "text": [
      "Feature Scaling Complete. New dataset shape: (27376, 13)\n"
     ]
    }
   ],
   "source": [
    "import pandas as pd\n",
    "import numpy as np\n",
    "from sklearn.preprocessing import StandardScaler\n",
    "\n",
    "file_path = \"../data/encoded_flood_data.csv\"\n",
    "df = pd.read_csv(file_path)\n",
    "\n",
    "df['Month_sin'] = np.sin(2 * np.pi * df['Month'] / 12)\n",
    "df['Month_cos'] = np.cos(2 * np.pi * df['Month'] / 12)\n",
    "\n",
    "\n",
    "df.drop(columns=['Month'], inplace=True)\n",
    "\n",
    "\n",
    "features_to_scale = ['Rainfall (mm)', 'River Level', 'Area affected in (m.ha)',\n",
    "                     'Population affected in (million)', 'Damage to Crops', 'Damage to Houses']\n",
    "\n",
    "\n",
    "scaler = StandardScaler()\n",
    "df[features_to_scale] = scaler.fit_transform(df[features_to_scale])\n",
    "\n",
    "\n",
    "df.to_csv(\"../data/scaled_flood_data.csv\", index=False)\n",
    "\n",
    "print(f\"Feature Scaling Complete. New dataset shape: {df.shape}\")"
   ]
  }
 ],
 "metadata": {
  "kernelspec": {
   "display_name": "Python 3",
   "language": "python",
   "name": "python3"
  },
  "language_info": {
   "codemirror_mode": {
    "name": "ipython",
    "version": 3
   },
   "file_extension": ".py",
   "mimetype": "text/x-python",
   "name": "python",
   "nbconvert_exporter": "python",
   "pygments_lexer": "ipython3",
   "version": "3.10.0"
  }
 },
 "nbformat": 4,
 "nbformat_minor": 2
}
