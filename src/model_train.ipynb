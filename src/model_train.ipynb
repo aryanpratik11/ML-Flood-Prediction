{
 "cells": [
  {
   "cell_type": "code",
   "execution_count": 24,
   "metadata": {},
   "outputs": [
    {
     "name": "stdout",
     "output_type": "stream",
     "text": [
      "Training Set: (26280, 8), Testing Set: (6571, 8)\n"
     ]
    }
   ],
   "source": [
    "import pandas as pd\n",
    "from sklearn.model_selection import train_test_split\n",
    "\n",
    "# Load the final processed dataset\n",
    "file_path = \"../data/scaled_flood_data.csv\"\n",
    "df = pd.read_csv(file_path)\n",
    "\n",
    "# Define features (X) - Remove \"Effect\" Variables\n",
    "features_to_remove = ['Flood Occurred', 'Damage to Crops', 'Damage to Houses', \n",
    "                      'Area affected in (m.ha)', 'Population affected in (million)']\n",
    "\n",
    "X = df.drop(columns=features_to_remove)  # Keep only predictive features\n",
    "y = df['Flood Occurred']  # Target (0 = No, 1 = Yes)\n",
    "\n",
    "# Perform train-test split (80% train, 20% test)\n",
    "X_train, X_test, y_train, y_test = train_test_split(\n",
    "    X, y, test_size=0.2, random_state=42, stratify=y\n",
    ")\n",
    "\n",
    "# Display dataset shapes\n",
    "print(f\"Training Set: {X_train.shape}, Testing Set: {X_test.shape}\")"
   ]
  },
  {
   "cell_type": "code",
   "execution_count": 26,
   "metadata": {},
   "outputs": [
    {
     "name": "stdout",
     "output_type": "stream",
     "text": [
      "Updated Random Forest Accuracy: 0.8891\n",
      "\n",
      "Updated Classification Report:\n",
      "               precision    recall  f1-score   support\n",
      "\n",
      "           0       1.00      0.85      0.92      4940\n",
      "           1       0.69      1.00      0.82      1631\n",
      "\n",
      "    accuracy                           0.89      6571\n",
      "   macro avg       0.85      0.93      0.87      6571\n",
      "weighted avg       0.92      0.89      0.89      6571\n",
      "\n",
      "\n",
      "Updated Cross-Validation Accuracy: 0.9012 ± 0.0027\n"
     ]
    }
   ],
   "source": [
    "import pandas as pd\n",
    "from sklearn.ensemble import RandomForestClassifier\n",
    "from sklearn.metrics import accuracy_score, classification_report\n",
    "from sklearn.model_selection import train_test_split, cross_val_score\n",
    "\n",
    "# Load dataset\n",
    "file_path = \"../data/scaled_flood_data.csv\"\n",
    "df = pd.read_csv(file_path)\n",
    "\n",
    "# Remove post-flood effect variables & highly correlated 'Flood Risk'\n",
    "features_to_remove = ['Flood Occurred', 'Damage to Crops', 'Damage to Houses', \n",
    "                      'Area affected in (m.ha)', 'Population affected in (million)', \n",
    "                      'Flood Risk']  # Remove Flood Risk to prevent leakage\n",
    "\n",
    "X = df.drop(columns=features_to_remove)\n",
    "y = df['Flood Occurred']\n",
    "\n",
    "# Train-Test Split (80% train, 20% test)\n",
    "X_train, X_test, y_train, y_test = train_test_split(\n",
    "    X, y, test_size=0.2, random_state=42, stratify=y\n",
    ")\n",
    "\n",
    "# Initialize Random Forest with constraints to reduce overfitting\n",
    "rf_model = RandomForestClassifier(\n",
    "    n_estimators=50,          # Reduce number of trees\n",
    "    max_depth=5,              # Limit tree depth\n",
    "    min_samples_split=10,     # Require at least 10 samples to split a node\n",
    "    min_samples_leaf=5,       # Require at least 5 samples per leaf\n",
    "    class_weight=\"balanced\",  # Handle class imbalance\n",
    "    random_state=42\n",
    ")\n",
    "\n",
    "# Train the model\n",
    "rf_model.fit(X_train, y_train)\n",
    "\n",
    "# Predict on test set\n",
    "y_pred = rf_model.predict(X_test)\n",
    "\n",
    "# Model Evaluation\n",
    "accuracy = accuracy_score(y_test, y_pred)\n",
    "report = classification_report(y_test, y_pred)\n",
    "\n",
    "# Perform Cross-Validation (5-Fold)\n",
    "cv_scores = cross_val_score(rf_model, X_train, y_train, cv=5, scoring='accuracy')\n",
    "\n",
    "# Print results\n",
    "print(f\"Updated Random Forest Accuracy: {accuracy:.4f}\")\n",
    "print(\"\\nUpdated Classification Report:\\n\", report)\n",
    "print(f\"\\nUpdated Cross-Validation Accuracy: {cv_scores.mean():.4f} ± {cv_scores.std():.4f}\")"
   ]
  }
 ],
 "metadata": {
  "kernelspec": {
   "display_name": "Python 3",
   "language": "python",
   "name": "python3"
  },
  "language_info": {
   "codemirror_mode": {
    "name": "ipython",
    "version": 3
   },
   "file_extension": ".py",
   "mimetype": "text/x-python",
   "name": "python",
   "nbconvert_exporter": "python",
   "pygments_lexer": "ipython3",
   "version": "3.10.0"
  }
 },
 "nbformat": 4,
 "nbformat_minor": 2
}
