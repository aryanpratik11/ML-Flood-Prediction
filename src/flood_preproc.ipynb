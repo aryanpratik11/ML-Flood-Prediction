{
 "cells": [
  {
   "cell_type": "code",
   "execution_count": 13,
   "metadata": {},
   "outputs": [
    {
     "name": "stdout",
     "output_type": "stream",
     "text": [
      "  Year-Month District  Rainfall (mm)    River  River Level Flood Risk  \\\n",
      "0    1981-06   Araria      29.000000  Unknown          0.0       Safe   \n",
      "1    1989-06   Araria      12.600000  Unknown          0.0       Safe   \n",
      "2    1989-07   Araria     171.400001  Unknown          0.0       Safe   \n",
      "3    1989-08   Araria     114.199998  Unknown          0.0       Safe   \n",
      "4    1989-09   Araria     450.200000  Unknown          0.0     DANGER   \n",
      "\n",
      "  Flood Occurred  Area affected in (m.ha)  Population affected in (million)  \\\n",
      "0             No                      1.3                               7.0   \n",
      "1             No                      0.0                               0.0   \n",
      "2             No                      0.0                               0.0   \n",
      "3             No                      0.0                               0.0   \n",
      "4            Yes                      0.0                               0.0   \n",
      "\n",
      "   Damage to Crops Damage to Houses  \n",
      "0              0.6             72.1  \n",
      "1              0.0          Unknown  \n",
      "2              0.0          Unknown  \n",
      "3              0.0          Unknown  \n",
      "4              0.0          Unknown  \n"
     ]
    },
    {
     "name": "stderr",
     "output_type": "stream",
     "text": [
      "C:\\Users\\Aryan Pratik\\AppData\\Local\\Temp\\ipykernel_13972\\4220470770.py:17: FutureWarning: A value is trying to be set on a copy of a DataFrame or Series through chained assignment using an inplace method.\n",
      "The behavior will change in pandas 3.0. This inplace method will never work because the intermediate object on which we are setting values always behaves as a copy.\n",
      "\n",
      "For example, when doing 'df[col].method(value, inplace=True)', try using 'df.method({col: value}, inplace=True)' or df[col] = df[col].method(value) instead, to perform the operation inplace on the original object.\n",
      "\n",
      "\n",
      "  df[col].fillna(\"Unknown\", inplace=True)  # Fill categorical values with 'Unknown'\n",
      "C:\\Users\\Aryan Pratik\\AppData\\Local\\Temp\\ipykernel_13972\\4220470770.py:19: FutureWarning: A value is trying to be set on a copy of a DataFrame or Series through chained assignment using an inplace method.\n",
      "The behavior will change in pandas 3.0. This inplace method will never work because the intermediate object on which we are setting values always behaves as a copy.\n",
      "\n",
      "For example, when doing 'df[col].method(value, inplace=True)', try using 'df.method({col: value}, inplace=True)' or df[col] = df[col].method(value) instead, to perform the operation inplace on the original object.\n",
      "\n",
      "\n",
      "  df[col].fillna(0, inplace=True)  # Fill numerical values with 0\n"
     ]
    }
   ],
   "source": [
    "import pandas as pd\n",
    "\n",
    "def preprocess_flood_data(file_path, output_path):\n",
    "    # Load the dataset\n",
    "    df = pd.read_csv(file_path)\n",
    "    \n",
    "    # Identify input features and output labels\n",
    "    input_features = ['Year-Month', 'District', 'Rainfall (mm)', 'River', 'River Level']\n",
    "    output_labels = ['Flood Risk', 'Flood Occurred', 'Area affected in (m.ha)', 'Population affected in (million)', 'Damage to Crops', 'Damage to Houses']\n",
    "    \n",
    "    # Keep only the necessary columns\n",
    "    df = df[input_features + output_labels]\n",
    "    \n",
    "    # Handle missing values\n",
    "    for col in df.columns:\n",
    "        if df[col].dtype == 'object':\n",
    "            df[col].fillna(\"Unknown\", inplace=True)  # Fill categorical values with 'Unknown'\n",
    "        else:\n",
    "            df[col].fillna(0, inplace=True)  # Fill numerical values with 0\n",
    "    \n",
    "    # Ensure consistent formatting\n",
    "    for col in df.select_dtypes(include=['number']).columns:\n",
    "        df[col] = df[col].astype(float)  # Convert numerical columns to float\n",
    "    \n",
    "    for col in df.select_dtypes(include=['object']).columns:\n",
    "        df[col] = df[col].astype(str)  # Convert categorical columns to string\n",
    "    \n",
    "    # Save the processed dataset\n",
    "    df.to_csv(output_path, index=False)\n",
    "    \n",
    "    return df\n",
    "\n",
    "# Example usage\n",
    "input_file = \"../data/modified_flood_data.csv\"\n",
    "output_file = \"../data/processed_flood_data.csv\"\n",
    "df_processed = preprocess_flood_data(input_file, output_file)\n",
    "\n",
    "# Display first few rows\n",
    "print(df_processed.head())\n"
   ]
  },
  {
   "cell_type": "code",
   "execution_count": 3,
   "metadata": {},
   "outputs": [
    {
     "name": "stdout",
     "output_type": "stream",
     "text": [
      "Imputation complete. New dataset size: (27376, 11)\n"
     ]
    }
   ],
   "source": [
    "import pandas as pd\n",
    "\n",
    "# Load dataset\n",
    "file_path = \"../data/processed_flood_data.csv\"\n",
    "df = pd.read_csv(file_path)\n",
    "\n",
    "# Convert \"Unknown\" to NaN for processing\n",
    "df.replace(\"Unknown\", pd.NA, inplace=True)\n",
    "\n",
    "# Separate numerical and categorical columns\n",
    "num_cols = df.select_dtypes(include=['number']).columns\n",
    "cat_cols = df.select_dtypes(include=['object']).columns\n",
    "\n",
    "# Impute numerical columns with median\n",
    "df[num_cols] = df[num_cols].fillna(df[num_cols].median())\n",
    "\n",
    "# Impute categorical columns with mode (most frequent value)\n",
    "for col in cat_cols:\n",
    "    df[col] = df[col].fillna(df[col].mode()[0])  # mode()[0] gets the most frequent value\n",
    "\n",
    "# Save cleaned dataset\n",
    "df.to_csv(\"../data/imputed_flood_data.csv\", index=False)\n",
    "\n",
    "# Display confirmation\n",
    "print(f\"Imputation complete. New dataset size: {df.shape}\")\n"
   ]
  }
 ],
 "metadata": {
  "kernelspec": {
   "display_name": "Python 3",
   "language": "python",
   "name": "python3"
  },
  "language_info": {
   "codemirror_mode": {
    "name": "ipython",
    "version": 3
   },
   "file_extension": ".py",
   "mimetype": "text/x-python",
   "name": "python",
   "nbconvert_exporter": "python",
   "pygments_lexer": "ipython3",
   "version": "3.10.0"
  }
 },
 "nbformat": 4,
 "nbformat_minor": 2
}
