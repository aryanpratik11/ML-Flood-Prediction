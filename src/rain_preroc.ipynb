{
 "cells": [
  {
   "cell_type": "code",
   "execution_count": 2,
   "metadata": {},
   "outputs": [],
   "source": [
    "import pandas as pd\n",
    "import matplotlib.pyplot as plt\n",
    "\n",
    "def flood_risk(rain):\n",
    "    if rain >= 300:\n",
    "        return \"DANGER\"\n",
    "    elif rain >= 200:\n",
    "        return \"WARNING\"\n",
    "    else:\n",
    "        return \"Safe\""
   ]
  },
  {
   "cell_type": "code",
   "execution_count": 3,
   "metadata": {},
   "outputs": [
    {
     "name": "stderr",
     "output_type": "stream",
     "text": [
      "C:\\Users\\Aryan Pratik\\AppData\\Local\\Temp\\ipykernel_21600\\1148144974.py:4: UserWarning: Could not infer format, so each element will be parsed individually, falling back to `dateutil`. To ensure parsing is consistent and as-expected, please specify a format.\n",
      "  df[\"Timestamp\"] = pd.to_datetime(df[\"Timestamp\"], errors=\"coerce\")\n",
      "C:\\Users\\Aryan Pratik\\AppData\\Local\\Temp\\ipykernel_21600\\1148144974.py:14: UserWarning: Could not infer format, so each element will be parsed individually, falling back to `dateutil`. To ensure parsing is consistent and as-expected, please specify a format.\n",
      "  df[\"Timestamp\"] = pd.to_datetime(df[\"Timestamp\"], errors=\"coerce\")\n"
     ]
    },
    {
     "name": "stdout",
     "output_type": "stream",
     "text": [
      "\n",
      "SUCCESS\n"
     ]
    },
    {
     "name": "stderr",
     "output_type": "stream",
     "text": [
      "C:\\Users\\Aryan Pratik\\AppData\\Local\\Temp\\ipykernel_21600\\1148144974.py:24: UserWarning: Could not infer format, so each element will be parsed individually, falling back to `dateutil`. To ensure parsing is consistent and as-expected, please specify a format.\n",
      "  df[\"Timestamp\"] = pd.to_datetime(df[\"Timestamp\"], errors=\"coerce\")\n"
     ]
    }
   ],
   "source": [
    "#Araria.csv\n",
    "df = pd.read_excel(\"Rainfall_Araria.xlsx\", sheet_name=\"Rainfall - Rainfall_Araria\", skiprows=5)\n",
    "df.columns = [\"Source\", \"Rain Type\", \"Timestamp\", \"Rainfall (mm)\", \"Unit\"]\n",
    "df[\"Timestamp\"] = pd.to_datetime(df[\"Timestamp\"], errors=\"coerce\")\n",
    "df = df.dropna()\n",
    "df[\"Year-Month\"] = df[\"Timestamp\"].dt.to_period(\"M\")\n",
    "df[\"Rainfall (mm)\"] = pd.to_numeric(df[\"Rainfall (mm)\"], errors=\"coerce\").fillna(0)\n",
    "monthly_rainfall = df.groupby(\"Year-Month\")[\"Rainfall (mm)\"].sum().reset_index()\n",
    "monthly_rainfall[\"Flood Risk\"] = monthly_rainfall[\"Rainfall (mm)\"].apply(flood_risk)\n",
    "monthly_rainfall.to_csv(\"Araria1.csv\", index=False)\n",
    "\n",
    "df = pd.read_excel(\"Rainfall_Bathnaha.xlsx\", sheet_name=\"Rainfall - Rainfall_Bathnaha\", skiprows=5)\n",
    "df.columns = [\"Source\", \"Rain Type\", \"Timestamp\", \"Rainfall (mm)\", \"Unit\"]\n",
    "df[\"Timestamp\"] = pd.to_datetime(df[\"Timestamp\"], errors=\"coerce\")\n",
    "df = df.dropna()\n",
    "df[\"Year-Month\"] = df[\"Timestamp\"].dt.to_period(\"M\")\n",
    "df[\"Rainfall (mm)\"] = pd.to_numeric(df[\"Rainfall (mm)\"], errors=\"coerce\").fillna(0)\n",
    "monthly_rainfall = df.groupby(\"Year-Month\")[\"Rainfall (mm)\"].sum().reset_index()\n",
    "monthly_rainfall[\"Flood Risk\"] = monthly_rainfall[\"Rainfall (mm)\"].apply(flood_risk)\n",
    "monthly_rainfall.to_csv(\"Araria2.csv\", index=False)\n",
    "\n",
    "df = pd.read_excel(\"Rainfall_Sikti.xlsx\", sheet_name=\"Rainfall - Rainfall_Sikti\", skiprows=5)\n",
    "df.columns = [\"Source\", \"Rain Type\", \"Timestamp\", \"Rainfall (mm)\", \"Unit\"]\n",
    "df[\"Timestamp\"] = pd.to_datetime(df[\"Timestamp\"], errors=\"coerce\")\n",
    "df = df.dropna()\n",
    "df[\"Year-Month\"] = df[\"Timestamp\"].dt.to_period(\"M\")\n",
    "df[\"Rainfall (mm)\"] = pd.to_numeric(df[\"Rainfall (mm)\"], errors=\"coerce\").fillna(0)\n",
    "monthly_rainfall = df.groupby(\"Year-Month\")[\"Rainfall (mm)\"].sum().reset_index()\n",
    "monthly_rainfall[\"Flood Risk\"] = monthly_rainfall[\"Rainfall (mm)\"].apply(flood_risk)\n",
    "monthly_rainfall.to_csv(\"Araria3.csv\", index=False)\n",
    "\n",
    "df_combined = pd.concat([\n",
    "    pd.read_csv(\"Araria1.csv\").assign(Sub_District=\"Araria\"),\n",
    "    pd.read_csv(\"Araria2.csv\").assign(Sub_District=\"Bathnaha\"),\n",
    "    pd.read_csv(\"Araria3.csv\").assign(Sub_District=\"Sikti\"),\n",
    "])\n",
    "\n",
    "df_combined.to_csv(\"Araria.csv\", index=False)\n",
    "print(\"\\nSUCCESS\")"
   ]
  },
  {
   "cell_type": "code",
   "execution_count": 17,
   "metadata": {},
   "outputs": [
    {
     "name": "stdout",
     "output_type": "stream",
     "text": [
      "\n",
      "SUCCESS\n"
     ]
    },
    {
     "name": "stderr",
     "output_type": "stream",
     "text": [
      "C:\\Users\\Aryan Pratik\\AppData\\Local\\Temp\\ipykernel_21600\\468219377.py:4: UserWarning: Could not infer format, so each element will be parsed individually, falling back to `dateutil`. To ensure parsing is consistent and as-expected, please specify a format.\n",
      "  df[\"Timestamp\"] = pd.to_datetime(df[\"Timestamp\"], errors=\"coerce\")\n"
     ]
    }
   ],
   "source": [
    "# Arwal.csv\n",
    "df = pd.read_excel(\"Rainfall_Kinjer.xlsx\", sheet_name=\"Rainfall - Rainfall_Kinjer\", skiprows=5)\n",
    "df.columns = [\"Source\", \"Rain Type\", \"Timestamp\", \"Rainfall (mm)\", \"Unit\"]\n",
    "df[\"Timestamp\"] = pd.to_datetime(df[\"Timestamp\"], errors=\"coerce\")\n",
    "df = df.dropna()\n",
    "df[\"Year-Month\"] = df[\"Timestamp\"].dt.to_period(\"M\")\n",
    "df[\"Rainfall (mm)\"] = pd.to_numeric(df[\"Rainfall (mm)\"], errors=\"coerce\").fillna(0)\n",
    "monthly_rainfall = df.groupby(\"Year-Month\")[\"Rainfall (mm)\"].sum().reset_index()\n",
    "monthly_rainfall[\"Flood Risk\"] = monthly_rainfall[\"Rainfall (mm)\"].apply(flood_risk)\n",
    "monthly_rainfall[\"Sub_District\"] = \"Kinjer\"\n",
    "monthly_rainfall = monthly_rainfall[[\"Year-Month\", \"Rainfall (mm)\", \"Flood Risk\", \"Sub_District\"]]\n",
    "monthly_rainfall.to_csv(\"Arwal.csv\", index=False)\n",
    "print(\"\\nSUCCESS\")"
   ]
  },
  {
   "cell_type": "code",
   "execution_count": 20,
   "metadata": {},
   "outputs": [
    {
     "name": "stdout",
     "output_type": "stream",
     "text": [
      "\n",
      "SUCCESS\n"
     ]
    },
    {
     "name": "stderr",
     "output_type": "stream",
     "text": [
      "C:\\Users\\Aryan Pratik\\AppData\\Local\\Temp\\ipykernel_21600\\3369604702.py:4: UserWarning: Could not infer format, so each element will be parsed individually, falling back to `dateutil`. To ensure parsing is consistent and as-expected, please specify a format.\n",
      "  df[\"Timestamp\"] = pd.to_datetime(df[\"Timestamp\"], errors=\"coerce\")\n"
     ]
    }
   ],
   "source": [
    "#Aurangabad.csv\n",
    "df = pd.read_excel(\"Rainfall_Palmerganj.xlsx\", sheet_name=\"Rainfall - Rainfall_Palmerganj\", skiprows=5)\n",
    "df.columns = [\"Source\", \"Rain Type\", \"Timestamp\", \"Rainfall (mm)\", \"Unit\"]\n",
    "df[\"Timestamp\"] = pd.to_datetime(df[\"Timestamp\"], errors=\"coerce\")\n",
    "df = df.dropna()\n",
    "df[\"Year-Month\"] = df[\"Timestamp\"].dt.to_period(\"M\")\n",
    "df[\"Rainfall (mm)\"] = pd.to_numeric(df[\"Rainfall (mm)\"], errors=\"coerce\").fillna(0)\n",
    "monthly_rainfall = df.groupby(\"Year-Month\")[\"Rainfall (mm)\"].sum().reset_index()\n",
    "monthly_rainfall[\"Flood Risk\"] = monthly_rainfall[\"Rainfall (mm)\"].apply(flood_risk)\n",
    "monthly_rainfall[\"Sub_District\"] = \"Palmerganj\"\n",
    "monthly_rainfall = monthly_rainfall[[\"Year-Month\", \"Rainfall (mm)\", \"Flood Risk\", \"Sub_District\"]]\n",
    "monthly_rainfall.to_csv(\"Aurangabad.csv\", index=False)\n",
    "print(\"\\nSUCCESS\")"
   ]
  },
  {
   "cell_type": "code",
   "execution_count": 12,
   "metadata": {},
   "outputs": [
    {
     "name": "stderr",
     "output_type": "stream",
     "text": [
      "C:\\Users\\Aryan Pratik\\AppData\\Local\\Temp\\ipykernel_21600\\215369645.py:4: UserWarning: Could not infer format, so each element will be parsed individually, falling back to `dateutil`. To ensure parsing is consistent and as-expected, please specify a format.\n",
      "  df[\"Timestamp\"] = pd.to_datetime(df[\"Timestamp\"], errors=\"coerce\")\n"
     ]
    },
    {
     "name": "stdout",
     "output_type": "stream",
     "text": [
      "\n",
      "SUCCESS\n"
     ]
    },
    {
     "name": "stderr",
     "output_type": "stream",
     "text": [
      "C:\\Users\\Aryan Pratik\\AppData\\Local\\Temp\\ipykernel_21600\\215369645.py:14: UserWarning: Could not infer format, so each element will be parsed individually, falling back to `dateutil`. To ensure parsing is consistent and as-expected, please specify a format.\n",
      "  df[\"Timestamp\"] = pd.to_datetime(df[\"Timestamp\"], errors=\"coerce\")\n"
     ]
    }
   ],
   "source": [
    "#Banka.csv\n",
    "df = pd.read_excel(\"Rainfall_Ahiro.xlsx\", sheet_name=\"Rainfall - Rainfall_Ahiro\", skiprows=5)\n",
    "df.columns = [\"Source\", \"Rain Type\", \"Timestamp\", \"Rainfall (mm)\", \"Unit\"]\n",
    "df[\"Timestamp\"] = pd.to_datetime(df[\"Timestamp\"], errors=\"coerce\")\n",
    "df = df.dropna()\n",
    "df[\"Year-Month\"] = df[\"Timestamp\"].dt.to_period(\"M\")\n",
    "df[\"Rainfall (mm)\"] = pd.to_numeric(df[\"Rainfall (mm)\"], errors=\"coerce\").fillna(0)\n",
    "monthly_rainfall = df.groupby(\"Year-Month\")[\"Rainfall (mm)\"].sum().reset_index()\n",
    "monthly_rainfall[\"Flood Risk\"] = monthly_rainfall[\"Rainfall (mm)\"].apply(flood_risk)\n",
    "monthly_rainfall.to_csv(\"Banka1.csv\", index=False)\n",
    "\n",
    "df = pd.read_excel(\"Rainfall_Banka.xlsx\", sheet_name=\"Rainfall - Rainfall_Banka\", skiprows=5)\n",
    "df.columns = [\"Source\", \"Rain Type\", \"Timestamp\", \"Rainfall (mm)\", \"Unit\"]\n",
    "df[\"Timestamp\"] = pd.to_datetime(df[\"Timestamp\"], errors=\"coerce\")\n",
    "df = df.dropna()\n",
    "df[\"Year-Month\"] = df[\"Timestamp\"].dt.to_period(\"M\")\n",
    "df[\"Rainfall (mm)\"] = pd.to_numeric(df[\"Rainfall (mm)\"], errors=\"coerce\").fillna(0)\n",
    "monthly_rainfall = df.groupby(\"Year-Month\")[\"Rainfall (mm)\"].sum().reset_index()\n",
    "monthly_rainfall[\"Flood Risk\"] = monthly_rainfall[\"Rainfall (mm)\"].apply(flood_risk)\n",
    "monthly_rainfall.to_csv(\"Banka2.csv\", index=False)\n",
    "df_combined = pd.concat([\n",
    "    pd.read_csv(\"Banka1.csv\").assign(Sub_District=\"Ahiro\"),\n",
    "    pd.read_csv(\"Banka2.csv\").assign(Sub_District=\"Banka\"),\n",
    "])\n",
    "\n",
    "df_combined.to_csv(\"Banka.csv\", index=False)\n",
    "print(\"\\nSUCCESS\")\n"
   ]
  },
  {
   "cell_type": "code",
   "execution_count": 22,
   "metadata": {},
   "outputs": [
    {
     "name": "stdout",
     "output_type": "stream",
     "text": [
      "\n",
      "SUCCESS: Rainfall data processed 8\n"
     ]
    },
    {
     "name": "stderr",
     "output_type": "stream",
     "text": [
      "C:\\Users\\Aryan Pratik\\AppData\\Local\\Temp\\ipykernel_21600\\1685615802.py:4: UserWarning: Could not infer format, so each element will be parsed individually, falling back to `dateutil`. To ensure parsing is consistent and as-expected, please specify a format.\n",
      "  df[\"Timestamp\"] = pd.to_datetime(df[\"Timestamp\"], errors=\"coerce\")\n"
     ]
    }
   ],
   "source": [
    "#Begusarai.csv\n",
    "df = pd.read_excel(\"Rainfall_Bachhwara.xlsx\", sheet_name=\"Rainfall - Rainfall_Bachhwara\", skiprows=5)\n",
    "df.columns = [\"Source\", \"Rain Type\", \"Timestamp\", \"Rainfall (mm)\", \"Unit\"]\n",
    "df[\"Timestamp\"] = pd.to_datetime(df[\"Timestamp\"], errors=\"coerce\")\n",
    "df = df.dropna()\n",
    "df[\"Year-Month\"] = df[\"Timestamp\"].dt.to_period(\"M\")\n",
    "df[\"Rainfall (mm)\"] = pd.to_numeric(df[\"Rainfall (mm)\"], errors=\"coerce\").fillna(0)\n",
    "monthly_rainfall = df.groupby(\"Year-Month\")[\"Rainfall (mm)\"].sum().reset_index()\n",
    "monthly_rainfall[\"Flood Risk\"] = monthly_rainfall[\"Rainfall (mm)\"].apply(flood_risk)\n",
    "monthly_rainfall[\"Sub_District\"] = \"Bachhwara\"\n",
    "monthly_rainfall = monthly_rainfall[[\"Year-Month\", \"Rainfall (mm)\", \"Flood Risk\", \"Sub_District\"]]\n",
    "monthly_rainfall.to_csv(\"Begusarai.csv\", index=False)\n",
    "print(\"\\nSUCCESS: Rainfall data processed 8\")"
   ]
  },
  {
   "cell_type": "code",
   "execution_count": 23,
   "metadata": {},
   "outputs": [
    {
     "name": "stderr",
     "output_type": "stream",
     "text": [
      "C:\\Users\\Aryan Pratik\\AppData\\Local\\Temp\\ipykernel_21600\\4273742361.py:4: UserWarning: Could not infer format, so each element will be parsed individually, falling back to `dateutil`. To ensure parsing is consistent and as-expected, please specify a format.\n",
      "  df[\"Timestamp\"] = pd.to_datetime(df[\"Timestamp\"], errors=\"coerce\")\n",
      "C:\\Users\\Aryan Pratik\\AppData\\Local\\Temp\\ipykernel_21600\\4273742361.py:14: UserWarning: Could not infer format, so each element will be parsed individually, falling back to `dateutil`. To ensure parsing is consistent and as-expected, please specify a format.\n",
      "  df[\"Timestamp\"] = pd.to_datetime(df[\"Timestamp\"], errors=\"coerce\")\n",
      "C:\\Users\\Aryan Pratik\\AppData\\Local\\Temp\\ipykernel_21600\\4273742361.py:24: UserWarning: Could not infer format, so each element will be parsed individually, falling back to `dateutil`. To ensure parsing is consistent and as-expected, please specify a format.\n",
      "  df[\"Timestamp\"] = pd.to_datetime(df[\"Timestamp\"], errors=\"coerce\")\n"
     ]
    },
    {
     "name": "stdout",
     "output_type": "stream",
     "text": [
      "\n",
      "SUCCESS\n"
     ]
    },
    {
     "name": "stderr",
     "output_type": "stream",
     "text": [
      "C:\\Users\\Aryan Pratik\\AppData\\Local\\Temp\\ipykernel_21600\\4273742361.py:34: UserWarning: Could not infer format, so each element will be parsed individually, falling back to `dateutil`. To ensure parsing is consistent and as-expected, please specify a format.\n",
      "  df[\"Timestamp\"] = pd.to_datetime(df[\"Timestamp\"], errors=\"coerce\")\n",
      "C:\\Users\\Aryan Pratik\\AppData\\Local\\Temp\\ipykernel_21600\\4273742361.py:44: UserWarning: Could not infer format, so each element will be parsed individually, falling back to `dateutil`. To ensure parsing is consistent and as-expected, please specify a format.\n",
      "  df[\"Timestamp\"] = pd.to_datetime(df[\"Timestamp\"], errors=\"coerce\")\n"
     ]
    }
   ],
   "source": [
    "#Bhagalpur.csv\n",
    "df = pd.read_excel(\"Rainfall_Azmabad.xlsx\", sheet_name=\"Rainfall - Rainfall_Azmabad\", skiprows=5)\n",
    "df.columns = [\"Source\", \"Rain Type\", \"Timestamp\", \"Rainfall (mm)\", \"Unit\"]\n",
    "df[\"Timestamp\"] = pd.to_datetime(df[\"Timestamp\"], errors=\"coerce\")\n",
    "df = df.dropna()\n",
    "df[\"Year-Month\"] = df[\"Timestamp\"].dt.to_period(\"M\")\n",
    "df[\"Rainfall (mm)\"] = pd.to_numeric(df[\"Rainfall (mm)\"], errors=\"coerce\").fillna(0)\n",
    "monthly_rainfall = df.groupby(\"Year-Month\")[\"Rainfall (mm)\"].sum().reset_index()\n",
    "monthly_rainfall[\"Flood Risk\"] = monthly_rainfall[\"Rainfall (mm)\"].apply(flood_risk)\n",
    "monthly_rainfall.to_csv(\"Bhagalpur1.csv\", index=False)\n",
    "\n",
    "df = pd.read_excel(\"Rainfall_Bhagalpur.xlsx\", sheet_name=\"Rainfall - Rainfall_Bhagalpur\", skiprows=5)\n",
    "df.columns = [\"Source\", \"Rain Type\", \"Timestamp\", \"Rainfall (mm)\", \"Unit\"]\n",
    "df[\"Timestamp\"] = pd.to_datetime(df[\"Timestamp\"], errors=\"coerce\")\n",
    "df = df.dropna()\n",
    "df[\"Year-Month\"] = df[\"Timestamp\"].dt.to_period(\"M\")\n",
    "df[\"Rainfall (mm)\"] = pd.to_numeric(df[\"Rainfall (mm)\"], errors=\"coerce\").fillna(0)\n",
    "monthly_rainfall = df.groupby(\"Year-Month\")[\"Rainfall (mm)\"].sum().reset_index()\n",
    "monthly_rainfall[\"Flood Risk\"] = monthly_rainfall[\"Rainfall (mm)\"].apply(flood_risk)\n",
    "monthly_rainfall.to_csv(\"Bhagalpur2.csv\", index=False)\n",
    "\n",
    "df = pd.read_excel(\"Rainfall_Ekchari.xlsx\", sheet_name=\"Rainfall - Rainfall_Ekchari\", skiprows=5)\n",
    "df.columns = [\"Source\", \"Rain Type\", \"Timestamp\", \"Rainfall (mm)\", \"Unit\"]\n",
    "df[\"Timestamp\"] = pd.to_datetime(df[\"Timestamp\"], errors=\"coerce\")\n",
    "df = df.dropna()\n",
    "df[\"Year-Month\"] = df[\"Timestamp\"].dt.to_period(\"M\")\n",
    "df[\"Rainfall (mm)\"] = pd.to_numeric(df[\"Rainfall (mm)\"], errors=\"coerce\").fillna(0)\n",
    "monthly_rainfall = df.groupby(\"Year-Month\")[\"Rainfall (mm)\"].sum().reset_index()\n",
    "monthly_rainfall[\"Flood Risk\"] = monthly_rainfall[\"Rainfall (mm)\"].apply(flood_risk)\n",
    "monthly_rainfall.to_csv(\"Bhagalpur3.csv\", index=False)\n",
    "\n",
    "df = pd.read_excel(\"Rainfall_Kahalgaon.xlsx\", sheet_name=\"Rainfall - Rainfall_Kahalgaon\", skiprows=5)\n",
    "df.columns = [\"Source\", \"Rain Type\", \"Timestamp\", \"Rainfall (mm)\", \"Unit\"]\n",
    "df[\"Timestamp\"] = pd.to_datetime(df[\"Timestamp\"], errors=\"coerce\")\n",
    "df = df.dropna()\n",
    "df[\"Year-Month\"] = df[\"Timestamp\"].dt.to_period(\"M\")\n",
    "df[\"Rainfall (mm)\"] = pd.to_numeric(df[\"Rainfall (mm)\"], errors=\"coerce\").fillna(0)\n",
    "monthly_rainfall = df.groupby(\"Year-Month\")[\"Rainfall (mm)\"].sum().reset_index()\n",
    "monthly_rainfall[\"Flood Risk\"] = monthly_rainfall[\"Rainfall (mm)\"].apply(flood_risk)\n",
    "monthly_rainfall.to_csv(\"Bhagalpur4.csv\", index=False)\n",
    "\n",
    "df = pd.read_excel(\"Rainfall_Sultanganj.xlsx\", sheet_name=\"Rainfall - Rainfall_Sultanganj\", skiprows=5)\n",
    "df.columns = [\"Source\", \"Rain Type\", \"Timestamp\", \"Rainfall (mm)\", \"Unit\"]\n",
    "df[\"Timestamp\"] = pd.to_datetime(df[\"Timestamp\"], errors=\"coerce\")\n",
    "df = df.dropna()\n",
    "df[\"Year-Month\"] = df[\"Timestamp\"].dt.to_period(\"M\")\n",
    "df[\"Rainfall (mm)\"] = pd.to_numeric(df[\"Rainfall (mm)\"], errors=\"coerce\").fillna(0)\n",
    "monthly_rainfall = df.groupby(\"Year-Month\")[\"Rainfall (mm)\"].sum().reset_index()\n",
    "monthly_rainfall[\"Flood Risk\"] = monthly_rainfall[\"Rainfall (mm)\"].apply(flood_risk)\n",
    "monthly_rainfall.to_csv(\"Bhagalpur5.csv\", index=False)\n",
    "df_combined = pd.concat([\n",
    "    pd.read_csv(\"Bhagalpur1.csv\").assign(Sub_District=\"Azmabad\"),\n",
    "    pd.read_csv(\"Bhagalpur2.csv\").assign(Sub_District=\"Bhagalpur\"),\n",
    "    pd.read_csv(\"Bhagalpur3.csv\").assign(Sub_District=\"Ekchari\"),\n",
    "    pd.read_csv(\"Bhagalpur4.csv\").assign(Sub_District=\"Kahalgaon\"),\n",
    "    pd.read_csv(\"Bhagalpur5.csv\").assign(Sub_District=\"Sultanganj\"),\n",
    "])\n",
    "\n",
    "df_combined.to_csv(\"Bhagalpur.csv\", index=False)\n",
    "\n",
    "print(\"\\nSUCCESS\")"
   ]
  },
  {
   "cell_type": "code",
   "execution_count": 24,
   "metadata": {},
   "outputs": [
    {
     "name": "stdout",
     "output_type": "stream",
     "text": [
      "\n",
      "SUCCESS: Rainfall data processed 14\n",
      "\n",
      "SUCCESS: Rainfall data processed 15\n",
      "\n",
      "SUCCESS: Combined data saved to Bhojpur.csv\n"
     ]
    },
    {
     "name": "stderr",
     "output_type": "stream",
     "text": [
      "C:\\Users\\Aryan Pratik\\AppData\\Local\\Temp\\ipykernel_21600\\3630566744.py:6: UserWarning: Could not infer format, so each element will be parsed individually, falling back to `dateutil`. To ensure parsing is consistent and as-expected, please specify a format.\n",
      "  df[\"Timestamp\"] = pd.to_datetime(df[\"Timestamp\"], errors=\"coerce\")\n",
      "C:\\Users\\Aryan Pratik\\AppData\\Local\\Temp\\ipykernel_21600\\3630566744.py:18: UserWarning: Could not infer format, so each element will be parsed individually, falling back to `dateutil`. To ensure parsing is consistent and as-expected, please specify a format.\n",
      "  df[\"Timestamp\"] = pd.to_datetime(df[\"Timestamp\"], errors=\"coerce\")\n"
     ]
    }
   ],
   "source": [
    "# Bhojpur.csv\n",
    "df = pd.read_excel(\"Rainfall_Maujampur.xlsx\", sheet_name=\"Rainfall - Rainfall_Maujampur\", skiprows=5)\n",
    "df.columns = [\"Source\", \"Rain Type\", \"Timestamp\", \"Rainfall (mm)\", \"Unit\"]\n",
    "df[\"Timestamp\"] = pd.to_datetime(df[\"Timestamp\"], errors=\"coerce\")\n",
    "df = df.dropna()\n",
    "df[\"Year-Month\"] = df[\"Timestamp\"].dt.to_period(\"M\")\n",
    "df[\"Rainfall (mm)\"] = pd.to_numeric(df[\"Rainfall (mm)\"], errors=\"coerce\").fillna(0)\n",
    "monthly_rainfall = df.groupby(\"Year-Month\")[\"Rainfall (mm)\"].sum().reset_index()\n",
    "monthly_rainfall[\"Flood Risk\"] = monthly_rainfall[\"Rainfall (mm)\"].apply(flood_risk)\n",
    "monthly_rainfall.to_csv(\"Bhojpur1.csv\", index=False)\n",
    "print(\"\\nSUCCESS: Rainfall data processed 14\")\n",
    "\n",
    "df = pd.read_excel(\"Rainfall_Udwantnagar.xlsx\", sheet_name=\"Rainfall - Rainfall_Udwantnagar\", skiprows=5)\n",
    "df.columns = [\"Source\", \"Rain Type\", \"Timestamp\", \"Rainfall (mm)\", \"Unit\"]\n",
    "df[\"Timestamp\"] = pd.to_datetime(df[\"Timestamp\"], errors=\"coerce\")\n",
    "df = df.dropna()\n",
    "df[\"Year-Month\"] = df[\"Timestamp\"].dt.to_period(\"M\")\n",
    "df[\"Rainfall (mm)\"] = pd.to_numeric(df[\"Rainfall (mm)\"], errors=\"coerce\").fillna(0)\n",
    "monthly_rainfall = df.groupby(\"Year-Month\")[\"Rainfall (mm)\"].sum().reset_index()\n",
    "monthly_rainfall[\"Flood Risk\"] = monthly_rainfall[\"Rainfall (mm)\"].apply(flood_risk)\n",
    "monthly_rainfall.to_csv(\"Bhojpur2.csv\", index=False)\n",
    "print(\"\\nSUCCESS: Rainfall data processed 15\")\n",
    "\n",
    "df_combined = pd.concat([\n",
    "    pd.read_csv(\"Bhojpur1.csv\").assign(Sub_District=\"Maujampur\"),\n",
    "    pd.read_csv(\"Bhojpur2.csv\").assign(Sub_District=\"Udwantnagar\"),\n",
    "])\n",
    "\n",
    "df_combined.to_csv(\"Bhojpur.csv\", index=False)\n",
    "\n",
    "print(\"\\nSUCCESS: Combined data saved to Bhojpur.csv\")\n"
   ]
  },
  {
   "cell_type": "code",
   "execution_count": 25,
   "metadata": {},
   "outputs": [
    {
     "name": "stderr",
     "output_type": "stream",
     "text": [
      "C:\\Users\\Aryan Pratik\\AppData\\Local\\Temp\\ipykernel_21600\\3976888284.py:6: UserWarning: Could not infer format, so each element will be parsed individually, falling back to `dateutil`. To ensure parsing is consistent and as-expected, please specify a format.\n",
      "  df[\"Timestamp\"] = pd.to_datetime(df[\"Timestamp\"], errors=\"coerce\")\n",
      "C:\\Users\\Aryan Pratik\\AppData\\Local\\Temp\\ipykernel_21600\\3976888284.py:18: UserWarning: Could not infer format, so each element will be parsed individually, falling back to `dateutil`. To ensure parsing is consistent and as-expected, please specify a format.\n",
      "  df[\"Timestamp\"] = pd.to_datetime(df[\"Timestamp\"], errors=\"coerce\")\n"
     ]
    },
    {
     "name": "stdout",
     "output_type": "stream",
     "text": [
      "\n",
      "SUCCESS: Rainfall data processed 16\n",
      "\n",
      "SUCCESS: Rainfall data processed 17\n",
      "\n",
      "SUCCESS: Combined data saved to Buxar.csv\n"
     ]
    }
   ],
   "source": [
    "# Buxar.csv\n",
    "\n",
    "df = pd.read_excel(\"Rainfall_Buxar.xlsx\", sheet_name=\"Rainfall - Rainfall_Buxar\", skiprows=5)\n",
    "df.columns = [\"Source\", \"Rain Type\", \"Timestamp\", \"Rainfall (mm)\", \"Unit\"]\n",
    "df[\"Timestamp\"] = pd.to_datetime(df[\"Timestamp\"], errors=\"coerce\")\n",
    "df = df.dropna()\n",
    "df[\"Year-Month\"] = df[\"Timestamp\"].dt.to_period(\"M\")\n",
    "df[\"Rainfall (mm)\"] = pd.to_numeric(df[\"Rainfall (mm)\"], errors=\"coerce\").fillna(0)\n",
    "monthly_rainfall = df.groupby(\"Year-Month\")[\"Rainfall (mm)\"].sum().reset_index()\n",
    "monthly_rainfall[\"Flood Risk\"] = monthly_rainfall[\"Rainfall (mm)\"].apply(flood_risk)\n",
    "monthly_rainfall.to_csv(\"Buxar1.csv\", index=False)\n",
    "print(\"\\nSUCCESS: Rainfall data processed 16\")\n",
    "\n",
    "df = pd.read_excel(\"Rainfall_Chousa.xlsx\", sheet_name=\"Rainfall - Rainfall_Chousa\", skiprows=5)\n",
    "df.columns = [\"Source\", \"Rain Type\", \"Timestamp\", \"Rainfall (mm)\", \"Unit\"]\n",
    "df[\"Timestamp\"] = pd.to_datetime(df[\"Timestamp\"], errors=\"coerce\")\n",
    "df = df.dropna()\n",
    "df[\"Year-Month\"] = df[\"Timestamp\"].dt.to_period(\"M\")\n",
    "df[\"Rainfall (mm)\"] = pd.to_numeric(df[\"Rainfall (mm)\"], errors=\"coerce\").fillna(0)\n",
    "monthly_rainfall = df.groupby(\"Year-Month\")[\"Rainfall (mm)\"].sum().reset_index()\n",
    "monthly_rainfall[\"Flood Risk\"] = monthly_rainfall[\"Rainfall (mm)\"].apply(flood_risk)\n",
    "monthly_rainfall.to_csv(\"Buxar2.csv\", index=False)\n",
    "print(\"\\nSUCCESS: Rainfall data processed 17\")\n",
    "\n",
    "df_combined = pd.concat([\n",
    "    pd.read_csv(\"Buxar1.csv\").assign(Sub_District=\"Buxar\"),\n",
    "    pd.read_csv(\"Buxar2.csv\").assign(Sub_District=\"Chousa\"),\n",
    "])\n",
    "\n",
    "df_combined.to_csv(\"Buxar.csv\", index=False)\n",
    "\n",
    "print(\"\\nSUCCESS: Combined data saved to Buxar.csv\")\n"
   ]
  },
  {
   "cell_type": "code",
   "execution_count": 27,
   "metadata": {},
   "outputs": [
    {
     "name": "stderr",
     "output_type": "stream",
     "text": [
      "C:\\Users\\Aryan Pratik\\AppData\\Local\\Temp\\ipykernel_21600\\904567165.py:6: UserWarning: Could not infer format, so each element will be parsed individually, falling back to `dateutil`. To ensure parsing is consistent and as-expected, please specify a format.\n",
      "  df[\"Timestamp\"] = pd.to_datetime(df[\"Timestamp\"], errors=\"coerce\")\n"
     ]
    },
    {
     "name": "stdout",
     "output_type": "stream",
     "text": [
      "\n",
      "SUCCESS: Rainfall data processed 18\n"
     ]
    },
    {
     "name": "stderr",
     "output_type": "stream",
     "text": [
      "C:\\Users\\Aryan Pratik\\AppData\\Local\\Temp\\ipykernel_21600\\904567165.py:18: UserWarning: Could not infer format, so each element will be parsed individually, falling back to `dateutil`. To ensure parsing is consistent and as-expected, please specify a format.\n",
      "  df[\"Timestamp\"] = pd.to_datetime(df[\"Timestamp\"], errors=\"coerce\")\n"
     ]
    },
    {
     "name": "stdout",
     "output_type": "stream",
     "text": [
      "\n",
      "SUCCESS: Rainfall data processed 19\n"
     ]
    },
    {
     "name": "stderr",
     "output_type": "stream",
     "text": [
      "C:\\Users\\Aryan Pratik\\AppData\\Local\\Temp\\ipykernel_21600\\904567165.py:30: UserWarning: Could not infer format, so each element will be parsed individually, falling back to `dateutil`. To ensure parsing is consistent and as-expected, please specify a format.\n",
      "  df[\"Timestamp\"] = pd.to_datetime(df[\"Timestamp\"], errors=\"coerce\")\n",
      "C:\\Users\\Aryan Pratik\\AppData\\Local\\Temp\\ipykernel_21600\\904567165.py:42: UserWarning: Could not infer format, so each element will be parsed individually, falling back to `dateutil`. To ensure parsing is consistent and as-expected, please specify a format.\n",
      "  df[\"Timestamp\"] = pd.to_datetime(df[\"Timestamp\"], errors=\"coerce\")\n"
     ]
    },
    {
     "name": "stdout",
     "output_type": "stream",
     "text": [
      "\n",
      "SUCCESS: Rainfall data processed 20\n",
      "\n",
      "SUCCESS: Rainfall data processed 21\n"
     ]
    },
    {
     "name": "stderr",
     "output_type": "stream",
     "text": [
      "C:\\Users\\Aryan Pratik\\AppData\\Local\\Temp\\ipykernel_21600\\904567165.py:54: UserWarning: Could not infer format, so each element will be parsed individually, falling back to `dateutil`. To ensure parsing is consistent and as-expected, please specify a format.\n",
      "  df[\"Timestamp\"] = pd.to_datetime(df[\"Timestamp\"], errors=\"coerce\")\n"
     ]
    },
    {
     "name": "stdout",
     "output_type": "stream",
     "text": [
      "\n",
      "SUCCESS: Rainfall data processed 22\n",
      "\n",
      "SUCCESS: Rainfall data processed 23\n",
      "\n",
      "SUCCESS: Combined data saved to Darbhanga.csv\n"
     ]
    },
    {
     "name": "stderr",
     "output_type": "stream",
     "text": [
      "C:\\Users\\Aryan Pratik\\AppData\\Local\\Temp\\ipykernel_21600\\904567165.py:66: UserWarning: Could not infer format, so each element will be parsed individually, falling back to `dateutil`. To ensure parsing is consistent and as-expected, please specify a format.\n",
      "  df[\"Timestamp\"] = pd.to_datetime(df[\"Timestamp\"], errors=\"coerce\")\n"
     ]
    }
   ],
   "source": [
    "# Darbhanga.csv\n",
    "\n",
    "# Process data for Bishunpur sub-district\n",
    "df = pd.read_excel(\"Rainfall_Bishunpur.xlsx\", sheet_name=\"Rainfall - Rainfall_Bishunpur\", skiprows=5)\n",
    "df.columns = [\"Source\", \"Rain Type\", \"Timestamp\", \"Rainfall (mm)\", \"Unit\"]\n",
    "df[\"Timestamp\"] = pd.to_datetime(df[\"Timestamp\"], errors=\"coerce\")\n",
    "df = df.dropna()\n",
    "df[\"Year-Month\"] = df[\"Timestamp\"].dt.to_period(\"M\")\n",
    "df[\"Rainfall (mm)\"] = pd.to_numeric(df[\"Rainfall (mm)\"], errors=\"coerce\").fillna(0)\n",
    "monthly_rainfall = df.groupby(\"Year-Month\")[\"Rainfall (mm)\"].sum().reset_index()\n",
    "monthly_rainfall[\"Flood Risk\"] = monthly_rainfall[\"Rainfall (mm)\"].apply(flood_risk)\n",
    "monthly_rainfall.to_csv(\"Darbhanga1.csv\", index=False)\n",
    "print(\"\\nSUCCESS: Rainfall data processed 18\")\n",
    "\n",
    "# Process data for Ekmighat sub-district\n",
    "df = pd.read_excel(\"Rainfall_Ekmighat.xlsx\", sheet_name=\"Rainfall - Rainfall_Ekmighat\", skiprows=5)\n",
    "df.columns = [\"Source\", \"Rain Type\", \"Timestamp\", \"Rainfall (mm)\", \"Unit\"]\n",
    "df[\"Timestamp\"] = pd.to_datetime(df[\"Timestamp\"], errors=\"coerce\")\n",
    "df = df.dropna()\n",
    "df[\"Year-Month\"] = df[\"Timestamp\"].dt.to_period(\"M\")\n",
    "df[\"Rainfall (mm)\"] = pd.to_numeric(df[\"Rainfall (mm)\"], errors=\"coerce\").fillna(0)\n",
    "monthly_rainfall = df.groupby(\"Year-Month\")[\"Rainfall (mm)\"].sum().reset_index()\n",
    "monthly_rainfall[\"Flood Risk\"] = monthly_rainfall[\"Rainfall (mm)\"].apply(flood_risk)\n",
    "monthly_rainfall.to_csv(\"Darbhanga2.csv\", index=False)\n",
    "print(\"\\nSUCCESS: Rainfall data processed 19\")\n",
    "\n",
    "# Process data for Hayaghat sub-district\n",
    "df = pd.read_excel(\"Rainfall_Hayaghat.xlsx\", sheet_name=\"Rainfall - Rainfall_Hayaghat\", skiprows=5)\n",
    "df.columns = [\"Source\", \"Rain Type\", \"Timestamp\", \"Rainfall (mm)\", \"Unit\"]\n",
    "df[\"Timestamp\"] = pd.to_datetime(df[\"Timestamp\"], errors=\"coerce\")\n",
    "df = df.dropna()\n",
    "df[\"Year-Month\"] = df[\"Timestamp\"].dt.to_period(\"M\")\n",
    "df[\"Rainfall (mm)\"] = pd.to_numeric(df[\"Rainfall (mm)\"], errors=\"coerce\").fillna(0)\n",
    "monthly_rainfall = df.groupby(\"Year-Month\")[\"Rainfall (mm)\"].sum().reset_index()\n",
    "monthly_rainfall[\"Flood Risk\"] = monthly_rainfall[\"Rainfall (mm)\"].apply(flood_risk)\n",
    "monthly_rainfall.to_csv(\"Darbhanga3.csv\", index=False)\n",
    "print(\"\\nSUCCESS: Rainfall data processed 20\")\n",
    "\n",
    "# Process data for Jahagarua sub-district\n",
    "df = pd.read_excel(\"Rainfall_Jhagarua.xlsx\", sheet_name=\"Rainfall - Rainfall_Jhagarua\", skiprows=5)\n",
    "df.columns = [\"Source\", \"Rain Type\", \"Timestamp\", \"Rainfall (mm)\", \"Unit\"]\n",
    "df[\"Timestamp\"] = pd.to_datetime(df[\"Timestamp\"], errors=\"coerce\")\n",
    "df = df.dropna()\n",
    "df[\"Year-Month\"] = df[\"Timestamp\"].dt.to_period(\"M\")\n",
    "df[\"Rainfall (mm)\"] = pd.to_numeric(df[\"Rainfall (mm)\"], errors=\"coerce\").fillna(0)\n",
    "monthly_rainfall = df.groupby(\"Year-Month\")[\"Rainfall (mm)\"].sum().reset_index()\n",
    "monthly_rainfall[\"Flood Risk\"] = monthly_rainfall[\"Rainfall (mm)\"].apply(flood_risk)\n",
    "monthly_rainfall.to_csv(\"Darbhanga4.csv\", index=False)\n",
    "print(\"\\nSUCCESS: Rainfall data processed 21\")\n",
    "\n",
    "# Process data for Kakarghatti sub-district\n",
    "df = pd.read_excel(\"Rainfall_Kakarghatti.xlsx\", sheet_name=\"Rainfall - Rainfall_Kakarghatti\", skiprows=5)\n",
    "df.columns = [\"Source\", \"Rain Type\", \"Timestamp\", \"Rainfall (mm)\", \"Unit\"]\n",
    "df[\"Timestamp\"] = pd.to_datetime(df[\"Timestamp\"], errors=\"coerce\")\n",
    "df = df.dropna()\n",
    "df[\"Year-Month\"] = df[\"Timestamp\"].dt.to_period(\"M\")\n",
    "df[\"Rainfall (mm)\"] = pd.to_numeric(df[\"Rainfall (mm)\"], errors=\"coerce\").fillna(0)\n",
    "monthly_rainfall = df.groupby(\"Year-Month\")[\"Rainfall (mm)\"].sum().reset_index()\n",
    "monthly_rainfall[\"Flood Risk\"] = monthly_rainfall[\"Rainfall (mm)\"].apply(flood_risk)\n",
    "monthly_rainfall.to_csv(\"Darbhanga5.csv\", index=False)\n",
    "print(\"\\nSUCCESS: Rainfall data processed 22\")\n",
    "\n",
    "# Process data for Kamtaul sub-district\n",
    "df = pd.read_excel(\"Rainfall_Kamtaul.xlsx\", sheet_name=\"Rainfall - Rainfall_Kamtaul\", skiprows=5)\n",
    "df.columns = [\"Source\", \"Rain Type\", \"Timestamp\", \"Rainfall (mm)\", \"Unit\"]\n",
    "df[\"Timestamp\"] = pd.to_datetime(df[\"Timestamp\"], errors=\"coerce\")\n",
    "df = df.dropna()\n",
    "df[\"Year-Month\"] = df[\"Timestamp\"].dt.to_period(\"M\")\n",
    "df[\"Rainfall (mm)\"] = pd.to_numeric(df[\"Rainfall (mm)\"], errors=\"coerce\").fillna(0)\n",
    "monthly_rainfall = df.groupby(\"Year-Month\")[\"Rainfall (mm)\"].sum().reset_index()\n",
    "monthly_rainfall[\"Flood Risk\"] = monthly_rainfall[\"Rainfall (mm)\"].apply(flood_risk)\n",
    "monthly_rainfall.to_csv(\"Darbhanga6.csv\", index=False)\n",
    "print(\"\\nSUCCESS: Rainfall data processed 23\")\n",
    "\n",
    "# Combine all processed data for Darbhanga\n",
    "df_combined = pd.concat([\n",
    "    pd.read_csv(\"Darbhanga1.csv\").assign(Sub_District=\"Bishunpur\"),\n",
    "    pd.read_csv(\"Darbhanga2.csv\").assign(Sub_District=\"Ekmighat\"),\n",
    "    pd.read_csv(\"Darbhanga3.csv\").assign(Sub_District=\"Hayaghat\"),\n",
    "    pd.read_csv(\"Darbhanga4.csv\").assign(Sub_District=\"Jahagarua\"),\n",
    "    pd.read_csv(\"Darbhanga5.csv\").assign(Sub_District=\"Kakarghatti\"),\n",
    "    pd.read_csv(\"Darbhanga6.csv\").assign(Sub_District=\"Kamtaul\"),\n",
    "])\n",
    "\n",
    "df_combined.to_csv(\"Darbhanga.csv\", index=False)\n",
    "print(\"\\nSUCCESS: Combined data saved to Darbhanga.csv\")\n"
   ]
  },
  {
   "cell_type": "code",
   "execution_count": 4,
   "metadata": {},
   "outputs": [
    {
     "name": "stderr",
     "output_type": "stream",
     "text": [
      "C:\\Users\\Aryan Pratik\\AppData\\Local\\Temp\\ipykernel_28288\\4016467083.py:4: UserWarning: Could not infer format, so each element will be parsed individually, falling back to `dateutil`. To ensure parsing is consistent and as-expected, please specify a format.\n",
      "  df[\"Timestamp\"] = pd.to_datetime(df[\"Timestamp\"], errors=\"coerce\")\n"
     ]
    },
    {
     "name": "stdout",
     "output_type": "stream",
     "text": [
      "\n",
      "SUCCESS: Rainfall data processed 24\n",
      "\n",
      "SUCCESS: Rainfall data processed 25\n",
      "\n",
      "SUCCESS: Combined data saved to Gaya.csv\n"
     ]
    },
    {
     "name": "stderr",
     "output_type": "stream",
     "text": [
      "C:\\Users\\Aryan Pratik\\AppData\\Local\\Temp\\ipykernel_28288\\4016467083.py:16: UserWarning: Could not infer format, so each element will be parsed individually, falling back to `dateutil`. To ensure parsing is consistent and as-expected, please specify a format.\n",
      "  df[\"Timestamp\"] = pd.to_datetime(df[\"Timestamp\"], errors=\"coerce\")\n"
     ]
    }
   ],
   "source": [
    "# Process data for Gaya sub-district\n",
    "df = pd.read_excel(\"Rainfall_Gaya.xlsx\", sheet_name=\"Rainfall - Rainfall_Gaya\", skiprows=5)\n",
    "df.columns = [\"Source\", \"Rain Type\", \"Timestamp\", \"Rainfall (mm)\", \"Unit\"]\n",
    "df[\"Timestamp\"] = pd.to_datetime(df[\"Timestamp\"], errors=\"coerce\")\n",
    "df = df.dropna()\n",
    "df[\"Year-Month\"] = df[\"Timestamp\"].dt.to_period(\"M\")\n",
    "df[\"Rainfall (mm)\"] = pd.to_numeric(df[\"Rainfall (mm)\"], errors=\"coerce\").fillna(0)\n",
    "monthly_rainfall = df.groupby(\"Year-Month\")[\"Rainfall (mm)\"].sum().reset_index()\n",
    "monthly_rainfall[\"Flood Risk\"] = monthly_rainfall[\"Rainfall (mm)\"].apply(flood_risk)\n",
    "monthly_rainfall.to_csv(\"Gaya1.csv\", index=False)\n",
    "print(\"\\nSUCCESS: Rainfall data processed 24\")\n",
    "\n",
    "# Process data for Dobhi sub-district\n",
    "df = pd.read_excel(\"Rainfall_Dobhi.xlsx\", sheet_name=\"Rainfall - Rainfall_Dobhi\", skiprows=5)\n",
    "df.columns = [\"Source\", \"Rain Type\", \"Timestamp\", \"Rainfall (mm)\", \"Unit\"]\n",
    "df[\"Timestamp\"] = pd.to_datetime(df[\"Timestamp\"], errors=\"coerce\")\n",
    "df = df.dropna()\n",
    "df[\"Year-Month\"] = df[\"Timestamp\"].dt.to_period(\"M\")\n",
    "df[\"Rainfall (mm)\"] = pd.to_numeric(df[\"Rainfall (mm)\"], errors=\"coerce\").fillna(0)\n",
    "monthly_rainfall = df.groupby(\"Year-Month\")[\"Rainfall (mm)\"].sum().reset_index()\n",
    "monthly_rainfall[\"Flood Risk\"] = monthly_rainfall[\"Rainfall (mm)\"].apply(flood_risk)\n",
    "monthly_rainfall.to_csv(\"Gaya2.csv\", index=False)\n",
    "print(\"\\nSUCCESS: Rainfall data processed 25\")\n",
    "\n",
    "# Combine all processed data for Gaya\n",
    "df_combined = pd.concat([\n",
    "    pd.read_csv(\"Gaya1.csv\").assign(Sub_District=\"Gaya\"),\n",
    "    pd.read_csv(\"Gaya2.csv\").assign(Sub_District=\"Dobhi\"),\n",
    "])\n",
    "\n",
    "df_combined.to_csv(\"Gaya.csv\", index=False)\n",
    "print(\"\\nSUCCESS: Combined data saved to Gaya.csv\")\n"
   ]
  },
  {
   "cell_type": "code",
   "execution_count": 5,
   "metadata": {},
   "outputs": [
    {
     "name": "stderr",
     "output_type": "stream",
     "text": [
      "C:\\Users\\Aryan Pratik\\AppData\\Local\\Temp\\ipykernel_28288\\3156567806.py:4: UserWarning: Could not infer format, so each element will be parsed individually, falling back to `dateutil`. To ensure parsing is consistent and as-expected, please specify a format.\n",
      "  df[\"Timestamp\"] = pd.to_datetime(df[\"Timestamp\"], errors=\"coerce\")\n"
     ]
    },
    {
     "name": "stdout",
     "output_type": "stream",
     "text": [
      "\n",
      "SUCCESS: Rainfall data processed 26\n",
      "\n",
      "SUCCESS: Rainfall data processed 27\n",
      "\n",
      "SUCCESS: Combined data saved to Gopalganj.csv\n"
     ]
    },
    {
     "name": "stderr",
     "output_type": "stream",
     "text": [
      "C:\\Users\\Aryan Pratik\\AppData\\Local\\Temp\\ipykernel_28288\\3156567806.py:16: UserWarning: Could not infer format, so each element will be parsed individually, falling back to `dateutil`. To ensure parsing is consistent and as-expected, please specify a format.\n",
      "  df[\"Timestamp\"] = pd.to_datetime(df[\"Timestamp\"], errors=\"coerce\")\n"
     ]
    }
   ],
   "source": [
    "# Process data for Gopalganj sub-district\n",
    "df = pd.read_excel(\"Rainfall_Dumariaghat.xlsx\", sheet_name=\"Rainfall - Rainfall_Dumariaghat\", skiprows=5)\n",
    "df.columns = [\"Source\", \"Rain Type\", \"Timestamp\", \"Rainfall (mm)\", \"Unit\"]\n",
    "df[\"Timestamp\"] = pd.to_datetime(df[\"Timestamp\"], errors=\"coerce\")\n",
    "df = df.dropna()\n",
    "df[\"Year-Month\"] = df[\"Timestamp\"].dt.to_period(\"M\")\n",
    "df[\"Rainfall (mm)\"] = pd.to_numeric(df[\"Rainfall (mm)\"], errors=\"coerce\").fillna(0)\n",
    "monthly_rainfall = df.groupby(\"Year-Month\")[\"Rainfall (mm)\"].sum().reset_index()\n",
    "monthly_rainfall[\"Flood Risk\"] = monthly_rainfall[\"Rainfall (mm)\"].apply(flood_risk)\n",
    "monthly_rainfall.to_csv(\"Gopalganj1.csv\", index=False)\n",
    "print(\"\\nSUCCESS: Rainfall data processed 26\")\n",
    "\n",
    "# Process data for Kukraha sub-district\n",
    "df = pd.read_excel(\"Rainfall_Kukraha.xlsx\", sheet_name=\"Rainfall - Rainfall_Kukraha\", skiprows=5)\n",
    "df.columns = [\"Source\", \"Rain Type\", \"Timestamp\", \"Rainfall (mm)\", \"Unit\"]\n",
    "df[\"Timestamp\"] = pd.to_datetime(df[\"Timestamp\"], errors=\"coerce\")\n",
    "df = df.dropna()\n",
    "df[\"Year-Month\"] = df[\"Timestamp\"].dt.to_period(\"M\")\n",
    "df[\"Rainfall (mm)\"] = pd.to_numeric(df[\"Rainfall (mm)\"], errors=\"coerce\").fillna(0)\n",
    "monthly_rainfall = df.groupby(\"Year-Month\")[\"Rainfall (mm)\"].sum().reset_index()\n",
    "monthly_rainfall[\"Flood Risk\"] = monthly_rainfall[\"Rainfall (mm)\"].apply(flood_risk)\n",
    "monthly_rainfall.to_csv(\"Gopalganj2.csv\", index=False)\n",
    "print(\"\\nSUCCESS: Rainfall data processed 27\")\n",
    "\n",
    "# Combine all processed data for Gopalganj\n",
    "df_combined = pd.concat([\n",
    "    pd.read_csv(\"Gopalganj1.csv\").assign(Sub_District=\"Dumariaghat\"),\n",
    "    pd.read_csv(\"Gopalganj2.csv\").assign(Sub_District=\"Kukraha\"),\n",
    "])\n",
    "\n",
    "df_combined.to_csv(\"Gopalganj.csv\", index=False)\n",
    "print(\"\\nSUCCESS: Combined data saved to Gopalganj.csv\")\n"
   ]
  },
  {
   "cell_type": "code",
   "execution_count": 6,
   "metadata": {},
   "outputs": [
    {
     "name": "stdout",
     "output_type": "stream",
     "text": [
      "\n",
      "SUCCESS: Rainfall data processed 28\n"
     ]
    },
    {
     "name": "stderr",
     "output_type": "stream",
     "text": [
      "C:\\Users\\Aryan Pratik\\AppData\\Local\\Temp\\ipykernel_28288\\1123377381.py:4: UserWarning: Could not infer format, so each element will be parsed individually, falling back to `dateutil`. To ensure parsing is consistent and as-expected, please specify a format.\n",
      "  df[\"Timestamp\"] = pd.to_datetime(df[\"Timestamp\"], errors=\"coerce\")\n"
     ]
    }
   ],
   "source": [
    "#Jamui.csv\n",
    "df = pd.read_excel(\"Rainfall_Jamui.xlsx\", sheet_name=\"Rainfall - Rainfall_Jamui\", skiprows=5)\n",
    "df.columns = [\"Source\", \"Rain Type\", \"Timestamp\", \"Rainfall (mm)\", \"Unit\"]\n",
    "df[\"Timestamp\"] = pd.to_datetime(df[\"Timestamp\"], errors=\"coerce\")\n",
    "df = df.dropna()\n",
    "df[\"Year-Month\"] = df[\"Timestamp\"].dt.to_period(\"M\")\n",
    "df[\"Rainfall (mm)\"] = pd.to_numeric(df[\"Rainfall (mm)\"], errors=\"coerce\").fillna(0)\n",
    "monthly_rainfall = df.groupby(\"Year-Month\")[\"Rainfall (mm)\"].sum().reset_index()\n",
    "monthly_rainfall[\"Flood Risk\"] = monthly_rainfall[\"Rainfall (mm)\"].apply(flood_risk)\n",
    "monthly_rainfall[\"Sub_District\"] = \"Jamui\"\n",
    "monthly_rainfall = monthly_rainfall[[\"Year-Month\", \"Rainfall (mm)\", \"Flood Risk\", \"Sub_District\"]]\n",
    "monthly_rainfall.to_csv(\"Jamui.csv\", index=False)\n",
    "print(\"\\nSUCCESS: Rainfall data processed 28\")"
   ]
  },
  {
   "cell_type": "code",
   "execution_count": 7,
   "metadata": {},
   "outputs": [
    {
     "name": "stdout",
     "output_type": "stream",
     "text": [
      "\n",
      "SUCCESS: Rainfall data processed 29\n"
     ]
    },
    {
     "name": "stderr",
     "output_type": "stream",
     "text": [
      "C:\\Users\\Aryan Pratik\\AppData\\Local\\Temp\\ipykernel_28288\\1883374361.py:4: UserWarning: Could not infer format, so each element will be parsed individually, falling back to `dateutil`. To ensure parsing is consistent and as-expected, please specify a format.\n",
      "  df[\"Timestamp\"] = pd.to_datetime(df[\"Timestamp\"], errors=\"coerce\")\n"
     ]
    }
   ],
   "source": [
    "#Jehanabad.csv\n",
    "df = pd.read_excel(\"Rainfall_Jehanabad.xlsx\", sheet_name=\"Rainfall - Rainfall_Jehanabad\", skiprows=5)\n",
    "df.columns = [\"Source\", \"Rain Type\", \"Timestamp\", \"Rainfall (mm)\", \"Unit\"]\n",
    "df[\"Timestamp\"] = pd.to_datetime(df[\"Timestamp\"], errors=\"coerce\")\n",
    "df = df.dropna()\n",
    "df[\"Year-Month\"] = df[\"Timestamp\"].dt.to_period(\"M\")\n",
    "df[\"Rainfall (mm)\"] = pd.to_numeric(df[\"Rainfall (mm)\"], errors=\"coerce\").fillna(0)\n",
    "monthly_rainfall = df.groupby(\"Year-Month\")[\"Rainfall (mm)\"].sum().reset_index()\n",
    "monthly_rainfall[\"Flood Risk\"] = monthly_rainfall[\"Rainfall (mm)\"].apply(flood_risk)\n",
    "monthly_rainfall[\"Sub_District\"] = \"Jehanabad\"\n",
    "monthly_rainfall = monthly_rainfall[[\"Year-Month\", \"Rainfall (mm)\", \"Flood Risk\", \"Sub_District\"]]\n",
    "monthly_rainfall.to_csv(\"Jehanabad.csv\", index=False)\n",
    "print(\"\\nSUCCESS: Rainfall data processed 29\")"
   ]
  },
  {
   "cell_type": "code",
   "execution_count": 8,
   "metadata": {},
   "outputs": [
    {
     "name": "stdout",
     "output_type": "stream",
     "text": [
      "\n",
      "SUCCESS: Rainfall data processed 30\n"
     ]
    },
    {
     "name": "stderr",
     "output_type": "stream",
     "text": [
      "C:\\Users\\Aryan Pratik\\AppData\\Local\\Temp\\ipykernel_28288\\1613921071.py:4: UserWarning: Could not infer format, so each element will be parsed individually, falling back to `dateutil`. To ensure parsing is consistent and as-expected, please specify a format.\n",
      "  df[\"Timestamp\"] = pd.to_datetime(df[\"Timestamp\"], errors=\"coerce\")\n"
     ]
    }
   ],
   "source": [
    "# Kaimur.csv (Durgawati sub)\n",
    "df = pd.read_excel(\"Rainfall_Durgawati.xlsx\", sheet_name=\"Rainfall - Rainfall_Durgawati\", skiprows=5)\n",
    "df.columns = [\"Source\", \"Rain Type\", \"Timestamp\", \"Rainfall (mm)\", \"Unit\"]\n",
    "df[\"Timestamp\"] = pd.to_datetime(df[\"Timestamp\"], errors=\"coerce\")\n",
    "df = df.dropna()\n",
    "df[\"Year-Month\"] = df[\"Timestamp\"].dt.to_period(\"M\")\n",
    "df[\"Rainfall (mm)\"] = pd.to_numeric(df[\"Rainfall (mm)\"], errors=\"coerce\").fillna(0)\n",
    "monthly_rainfall = df.groupby(\"Year-Month\")[\"Rainfall (mm)\"].sum().reset_index()\n",
    "monthly_rainfall[\"Flood Risk\"] = monthly_rainfall[\"Rainfall (mm)\"].apply(flood_risk)\n",
    "monthly_rainfall[\"Sub_District\"] = \"Durgawati\"\n",
    "monthly_rainfall = monthly_rainfall[[\"Year-Month\", \"Rainfall (mm)\", \"Flood Risk\", \"Sub_District\"]]\n",
    "monthly_rainfall.to_csv(\"Kaimur.csv\", index=False)\n",
    "print(\"\\nSUCCESS: Rainfall data processed 30\")"
   ]
  },
  {
   "cell_type": "code",
   "execution_count": 9,
   "metadata": {},
   "outputs": [
    {
     "name": "stderr",
     "output_type": "stream",
     "text": [
      "C:\\Users\\Aryan Pratik\\AppData\\Local\\Temp\\ipykernel_28288\\1579305250.py:4: UserWarning: Could not infer format, so each element will be parsed individually, falling back to `dateutil`. To ensure parsing is consistent and as-expected, please specify a format.\n",
      "  df[\"Timestamp\"] = pd.to_datetime(df[\"Timestamp\"], errors=\"coerce\")\n"
     ]
    },
    {
     "name": "stdout",
     "output_type": "stream",
     "text": [
      "\n",
      "SUCCESS: Rainfall data processed 32 (Jhawa)\n"
     ]
    },
    {
     "name": "stderr",
     "output_type": "stream",
     "text": [
      "C:\\Users\\Aryan Pratik\\AppData\\Local\\Temp\\ipykernel_28288\\1579305250.py:16: UserWarning: Could not infer format, so each element will be parsed individually, falling back to `dateutil`. To ensure parsing is consistent and as-expected, please specify a format.\n",
      "  df[\"Timestamp\"] = pd.to_datetime(df[\"Timestamp\"], errors=\"coerce\")\n"
     ]
    },
    {
     "name": "stdout",
     "output_type": "stream",
     "text": [
      "\n",
      "SUCCESS: Rainfall data processed 33 (Kursela)\n",
      "\n",
      "SUCCESS: Rainfall data processed 34 (Labha)\n",
      "\n",
      "SUCCESS: Combined data saved to Katihar.csv\n"
     ]
    },
    {
     "name": "stderr",
     "output_type": "stream",
     "text": [
      "C:\\Users\\Aryan Pratik\\AppData\\Local\\Temp\\ipykernel_28288\\1579305250.py:28: UserWarning: Could not infer format, so each element will be parsed individually, falling back to `dateutil`. To ensure parsing is consistent and as-expected, please specify a format.\n",
      "  df[\"Timestamp\"] = pd.to_datetime(df[\"Timestamp\"], errors=\"coerce\")\n"
     ]
    }
   ],
   "source": [
    "# Process data for Jhawa sub-district\n",
    "df = pd.read_excel(\"Rainfall_Jhawa.xlsx\", sheet_name=\"Rainfall - Rainfall_Jhawa\", skiprows=5)\n",
    "df.columns = [\"Source\", \"Rain Type\", \"Timestamp\", \"Rainfall (mm)\", \"Unit\"]\n",
    "df[\"Timestamp\"] = pd.to_datetime(df[\"Timestamp\"], errors=\"coerce\")\n",
    "df = df.dropna()\n",
    "df[\"Year-Month\"] = df[\"Timestamp\"].dt.to_period(\"M\")\n",
    "df[\"Rainfall (mm)\"] = pd.to_numeric(df[\"Rainfall (mm)\"], errors=\"coerce\").fillna(0)\n",
    "monthly_rainfall = df.groupby(\"Year-Month\")[\"Rainfall (mm)\"].sum().reset_index()\n",
    "monthly_rainfall[\"Flood Risk\"] = monthly_rainfall[\"Rainfall (mm)\"].apply(flood_risk)\n",
    "monthly_rainfall.to_csv(\"Katihar1.csv\", index=False)\n",
    "print(\"\\nSUCCESS: Rainfall data processed 32 (Jhawa)\")\n",
    "\n",
    "# Process data for Kursela sub-district\n",
    "df = pd.read_excel(\"Rainfall_Kursela.xlsx\", sheet_name=\"Rainfall - Rainfall_Kursela\", skiprows=5)\n",
    "df.columns = [\"Source\", \"Rain Type\", \"Timestamp\", \"Rainfall (mm)\", \"Unit\"]\n",
    "df[\"Timestamp\"] = pd.to_datetime(df[\"Timestamp\"], errors=\"coerce\")\n",
    "df = df.dropna()\n",
    "df[\"Year-Month\"] = df[\"Timestamp\"].dt.to_period(\"M\")\n",
    "df[\"Rainfall (mm)\"] = pd.to_numeric(df[\"Rainfall (mm)\"], errors=\"coerce\").fillna(0)\n",
    "monthly_rainfall = df.groupby(\"Year-Month\")[\"Rainfall (mm)\"].sum().reset_index()\n",
    "monthly_rainfall[\"Flood Risk\"] = monthly_rainfall[\"Rainfall (mm)\"].apply(flood_risk)\n",
    "monthly_rainfall.to_csv(\"Katihar2.csv\", index=False)\n",
    "print(\"\\nSUCCESS: Rainfall data processed 33 (Kursela)\")\n",
    "\n",
    "# Process data for Labha sub-district\n",
    "df = pd.read_excel(\"Rainfall_Labha.xlsx\", sheet_name=\"Rainfall - Rainfall_Labha\", skiprows=5)\n",
    "df.columns = [\"Source\", \"Rain Type\", \"Timestamp\", \"Rainfall (mm)\", \"Unit\"]\n",
    "df[\"Timestamp\"] = pd.to_datetime(df[\"Timestamp\"], errors=\"coerce\")\n",
    "df = df.dropna()\n",
    "df[\"Year-Month\"] = df[\"Timestamp\"].dt.to_period(\"M\")\n",
    "df[\"Rainfall (mm)\"] = pd.to_numeric(df[\"Rainfall (mm)\"], errors=\"coerce\").fillna(0)\n",
    "monthly_rainfall = df.groupby(\"Year-Month\")[\"Rainfall (mm)\"].sum().reset_index()\n",
    "monthly_rainfall[\"Flood Risk\"] = monthly_rainfall[\"Rainfall (mm)\"].apply(flood_risk)\n",
    "monthly_rainfall.to_csv(\"Katihar3.csv\", index=False)\n",
    "print(\"\\nSUCCESS: Rainfall data processed 34 (Labha)\")\n",
    "\n",
    "# Combine all processed data for Katihar\n",
    "df_combined = pd.concat([\n",
    "    pd.read_csv(\"Katihar1.csv\").assign(Sub_District=\"Jhawa\"),\n",
    "    pd.read_csv(\"Katihar2.csv\").assign(Sub_District=\"Kursela\"),\n",
    "    pd.read_csv(\"Katihar3.csv\").assign(Sub_District=\"Labha\"),\n",
    "])\n",
    "\n",
    "df_combined.to_csv(\"Katihar.csv\", index=False)\n",
    "print(\"\\nSUCCESS: Combined data saved to Katihar.csv\")"
   ]
  },
  {
   "cell_type": "code",
   "execution_count": null,
   "metadata": {},
   "outputs": [],
   "source": [
    "# Function to process rainfall data for a sub-district\n",
    "def process_rainfall_data(file_name, sheet_name, output_file):\n",
    "    df = pd.read_excel(file_name, sheet_name=sheet_name, skiprows=5)\n",
    "    df.columns = [\"Source\", \"Rain Type\", \"Timestamp\", \"Rainfall (mm)\", \"Unit\"]\n",
    "    df[\"Timestamp\"] = pd.to_datetime(df[\"Timestamp\"], errors=\"coerce\")\n",
    "    df = df.dropna()\n",
    "    df[\"Year-Month\"] = df[\"Timestamp\"].dt.to_period(\"M\")\n",
    "    df[\"Rainfall (mm)\"] = pd.to_numeric(df[\"Rainfall (mm)\"], errors=\"coerce\").fillna(0)\n",
    "    monthly_rainfall = df.groupby(\"Year-Month\")[\"Rainfall (mm)\"].sum().reset_index()\n",
    "    monthly_rainfall[\"Flood Risk\"] = monthly_rainfall[\"Rainfall (mm)\"].apply(flood_risk)\n",
    "    monthly_rainfall.to_csv(output_file, index=False)\n",
    "    print(f\"\\nSUCCESS: Rainfall data processed for {sheet_name.split(' - ')[1]}\")"
   ]
  },
  {
   "cell_type": "code",
   "execution_count": null,
   "metadata": {},
   "outputs": [
    {
     "name": "stderr",
     "output_type": "stream",
     "text": [
      "C:\\Users\\Aryan Pratik\\AppData\\Local\\Temp\\ipykernel_28288\\2461301273.py:5: UserWarning: Could not infer format, so each element will be parsed individually, falling back to `dateutil`. To ensure parsing is consistent and as-expected, please specify a format.\n",
      "  df[\"Timestamp\"] = pd.to_datetime(df[\"Timestamp\"], errors=\"coerce\")\n"
     ]
    },
    {
     "name": "stdout",
     "output_type": "stream",
     "text": [
      "\n",
      "SUCCESS: Rainfall data processed for Rainfall_Khagaria\n"
     ]
    },
    {
     "name": "stderr",
     "output_type": "stream",
     "text": [
      "C:\\Users\\Aryan Pratik\\AppData\\Local\\Temp\\ipykernel_28288\\2461301273.py:5: UserWarning: Could not infer format, so each element will be parsed individually, falling back to `dateutil`. To ensure parsing is consistent and as-expected, please specify a format.\n",
      "  df[\"Timestamp\"] = pd.to_datetime(df[\"Timestamp\"], errors=\"coerce\")\n"
     ]
    },
    {
     "name": "stdout",
     "output_type": "stream",
     "text": [
      "\n",
      "SUCCESS: Rainfall data processed for Rainfall_Baltara\n",
      "\n",
      "SUCCESS: Rainfall data processed for Rainfall_Badlaghat\n"
     ]
    },
    {
     "name": "stderr",
     "output_type": "stream",
     "text": [
      "C:\\Users\\Aryan Pratik\\AppData\\Local\\Temp\\ipykernel_28288\\2461301273.py:5: UserWarning: Could not infer format, so each element will be parsed individually, falling back to `dateutil`. To ensure parsing is consistent and as-expected, please specify a format.\n",
      "  df[\"Timestamp\"] = pd.to_datetime(df[\"Timestamp\"], errors=\"coerce\")\n",
      "C:\\Users\\Aryan Pratik\\AppData\\Local\\Temp\\ipykernel_28288\\2461301273.py:5: UserWarning: Could not infer format, so each element will be parsed individually, falling back to `dateutil`. To ensure parsing is consistent and as-expected, please specify a format.\n",
      "  df[\"Timestamp\"] = pd.to_datetime(df[\"Timestamp\"], errors=\"coerce\")\n"
     ]
    },
    {
     "name": "stdout",
     "output_type": "stream",
     "text": [
      "\n",
      "SUCCESS: Rainfall data processed for Rainfall_Dhamaraghat\n",
      "\n",
      "SUCCESS: Combined data saved to Khagaria.csv\n"
     ]
    }
   ],
   "source": [
    "# Process data for each sub-district\n",
    "process_rainfall_data(\"Rainfall_Khagaria.xlsx\", \"Rainfall - Rainfall_Khagaria\", \"Khagaria1.csv\")\n",
    "process_rainfall_data(\"Rainfall_Baltara.xlsx\", \"Rainfall - Rainfall_Baltara\", \"Khagaria2.csv\")\n",
    "process_rainfall_data(\"Rainfall_Badlaghat.xlsx\", \"Rainfall - Rainfall_Badlaghat\", \"Khagaria3.csv\")\n",
    "process_rainfall_data(\"Rainfall_Dhamaraghat.xlsx\", \"Rainfall - Rainfall_Dhamaraghat\", \"Khagaria4.csv\")\n",
    "\n",
    "# Combine all processed data for Khagaria\n",
    "df_combined = pd.concat([\n",
    "    pd.read_csv(\"Khagaria1.csv\").assign(Sub_District=\"Khagaria\"),\n",
    "    pd.read_csv(\"Khagaria2.csv\").assign(Sub_District=\"Baltara\"),\n",
    "    pd.read_csv(\"Khagaria3.csv\").assign(Sub_District=\"Badalghat\"),\n",
    "    pd.read_csv(\"Khagaria4.csv\").assign(Sub_District=\"Dhamaraghat\"),\n",
    "])\n",
    "\n",
    "df_combined.to_csv(\"Khagaria.csv\", index=False)\n",
    "print(\"\\nSUCCESS: Combined data saved to Khagaria.csv\")"
   ]
  },
  {
   "cell_type": "code",
   "execution_count": 12,
   "metadata": {},
   "outputs": [
    {
     "name": "stderr",
     "output_type": "stream",
     "text": [
      "C:\\Users\\Aryan Pratik\\AppData\\Local\\Temp\\ipykernel_28288\\2461301273.py:5: UserWarning: Could not infer format, so each element will be parsed individually, falling back to `dateutil`. To ensure parsing is consistent and as-expected, please specify a format.\n",
      "  df[\"Timestamp\"] = pd.to_datetime(df[\"Timestamp\"], errors=\"coerce\")\n"
     ]
    },
    {
     "name": "stdout",
     "output_type": "stream",
     "text": [
      "\n",
      "SUCCESS: Rainfall data processed for Rainfall_Chargharia\n"
     ]
    },
    {
     "name": "stderr",
     "output_type": "stream",
     "text": [
      "C:\\Users\\Aryan Pratik\\AppData\\Local\\Temp\\ipykernel_28288\\2461301273.py:5: UserWarning: Could not infer format, so each element will be parsed individually, falling back to `dateutil`. To ensure parsing is consistent and as-expected, please specify a format.\n",
      "  df[\"Timestamp\"] = pd.to_datetime(df[\"Timestamp\"], errors=\"coerce\")\n"
     ]
    },
    {
     "name": "stdout",
     "output_type": "stream",
     "text": [
      "\n",
      "SUCCESS: Rainfall data processed for Rainfall_Galgalia\n"
     ]
    },
    {
     "name": "stderr",
     "output_type": "stream",
     "text": [
      "C:\\Users\\Aryan Pratik\\AppData\\Local\\Temp\\ipykernel_28288\\2461301273.py:5: UserWarning: Could not infer format, so each element will be parsed individually, falling back to `dateutil`. To ensure parsing is consistent and as-expected, please specify a format.\n",
      "  df[\"Timestamp\"] = pd.to_datetime(df[\"Timestamp\"], errors=\"coerce\")\n"
     ]
    },
    {
     "name": "stdout",
     "output_type": "stream",
     "text": [
      "\n",
      "SUCCESS: Rainfall data processed for Rainfall_Moujabadi\n"
     ]
    },
    {
     "name": "stderr",
     "output_type": "stream",
     "text": [
      "C:\\Users\\Aryan Pratik\\AppData\\Local\\Temp\\ipykernel_28288\\2461301273.py:5: UserWarning: Could not infer format, so each element will be parsed individually, falling back to `dateutil`. To ensure parsing is consistent and as-expected, please specify a format.\n",
      "  df[\"Timestamp\"] = pd.to_datetime(df[\"Timestamp\"], errors=\"coerce\")\n"
     ]
    },
    {
     "name": "stdout",
     "output_type": "stream",
     "text": [
      "\n",
      "SUCCESS: Rainfall data processed for Rainfall_Taibpur\n",
      "\n",
      "SUCCESS: Combined data saved to Kishanganj.csv\n"
     ]
    }
   ],
   "source": [
    "process_rainfall_data(\"Rainfall_Chargharia.xlsx\", \"Rainfall - Rainfall_Chargharia\", \"Kishanganj1.csv\")\n",
    "process_rainfall_data(\"Rainfall_Galgalia.xlsx\", \"Rainfall - Rainfall_Galgalia\", \"Kishanganj2.csv\")\n",
    "process_rainfall_data(\"Rainfall_Moujabadi.xlsx\", \"Rainfall - Rainfall_Moujabadi\", \"Kishanganj3.csv\")\n",
    "process_rainfall_data(\"Rainfall_Taibpur.xlsx\", \"Rainfall - Rainfall_Taibpur\", \"Kishanganj4.csv\")\n",
    "\n",
    "# Combine all processed data for Kishanganj\n",
    "df_combined = pd.concat([\n",
    "    pd.read_csv(\"Kishanganj1.csv\").assign(Sub_District=\"Chargharia\"),\n",
    "    pd.read_csv(\"Kishanganj2.csv\").assign(Sub_District=\"Galgalia\"),\n",
    "    pd.read_csv(\"Kishanganj3.csv\").assign(Sub_District=\"Moujabadi\"),\n",
    "    pd.read_csv(\"Kishanganj4.csv\").assign(Sub_District=\"Taibpur\"),\n",
    "])\n",
    "\n",
    "df_combined.to_csv(\"Kishanganj.csv\", index=False)\n",
    "print(\"\\nSUCCESS: Combined data saved to Kishanganj.csv\")"
   ]
  },
  {
   "cell_type": "code",
   "execution_count": 13,
   "metadata": {},
   "outputs": [
    {
     "name": "stderr",
     "output_type": "stream",
     "text": [
      "C:\\Users\\Aryan Pratik\\AppData\\Local\\Temp\\ipykernel_28288\\2461301273.py:5: UserWarning: Could not infer format, so each element will be parsed individually, falling back to `dateutil`. To ensure parsing is consistent and as-expected, please specify a format.\n",
      "  df[\"Timestamp\"] = pd.to_datetime(df[\"Timestamp\"], errors=\"coerce\")\n"
     ]
    },
    {
     "name": "stdout",
     "output_type": "stream",
     "text": [
      "\n",
      "SUCCESS: Rainfall data processed for Rainfall_Lakhisarai\n"
     ]
    },
    {
     "name": "stderr",
     "output_type": "stream",
     "text": [
      "C:\\Users\\Aryan Pratik\\AppData\\Local\\Temp\\ipykernel_28288\\2461301273.py:5: UserWarning: Could not infer format, so each element will be parsed individually, falling back to `dateutil`. To ensure parsing is consistent and as-expected, please specify a format.\n",
      "  df[\"Timestamp\"] = pd.to_datetime(df[\"Timestamp\"], errors=\"coerce\")\n",
      "C:\\Users\\Aryan Pratik\\AppData\\Local\\Temp\\ipykernel_28288\\2461301273.py:5: UserWarning: Could not infer format, so each element will be parsed individually, falling back to `dateutil`. To ensure parsing is consistent and as-expected, please specify a format.\n",
      "  df[\"Timestamp\"] = pd.to_datetime(df[\"Timestamp\"], errors=\"coerce\")\n",
      "C:\\Users\\Aryan Pratik\\AppData\\Local\\Temp\\ipykernel_28288\\2461301273.py:5: UserWarning: Could not infer format, so each element will be parsed individually, falling back to `dateutil`. To ensure parsing is consistent and as-expected, please specify a format.\n",
      "  df[\"Timestamp\"] = pd.to_datetime(df[\"Timestamp\"], errors=\"coerce\")\n"
     ]
    },
    {
     "name": "stdout",
     "output_type": "stream",
     "text": [
      "\n",
      "SUCCESS: Rainfall data processed for Rainfall_Mankatha\n",
      "\n",
      "SUCCESS: Rainfall data processed for Rainfall_Manpur\n",
      "\n",
      "SUCCESS: Rainfall data processed for Rainfall_Suryagadha\n",
      "\n",
      "SUCCESS: Combined data saved to Lakhisarai.csv\n"
     ]
    }
   ],
   "source": [
    "# Process data for each sub-district\n",
    "process_rainfall_data(\"Rainfall_Lakhisarai.xlsx\", \"Rainfall - Rainfall_Lakhisarai\", \"Lakhisarai1.csv\")\n",
    "process_rainfall_data(\"Rainfall_Mankatha.xlsx\", \"Rainfall - Rainfall_Mankatha\", \"Lakhisarai2.csv\")\n",
    "process_rainfall_data(\"Rainfall_Manpur.xlsx\", \"Rainfall - Rainfall_Manpur\", \"Lakhisarai3.csv\")\n",
    "process_rainfall_data(\"Rainfall_Suryagadha.xlsx\", \"Rainfall - Rainfall_Suryagadha\", \"Lakhisarai4.csv\")\n",
    "\n",
    "# Combine all processed data for Lakhisarai\n",
    "df_combined = pd.concat([\n",
    "    pd.read_csv(\"Lakhisarai1.csv\").assign(Sub_District=\"Lakhisarai\"),\n",
    "    pd.read_csv(\"Lakhisarai2.csv\").assign(Sub_District=\"Mankatha\"),\n",
    "    pd.read_csv(\"Lakhisarai3.csv\").assign(Sub_District=\"Manpur\"),\n",
    "    pd.read_csv(\"Lakhisarai4.csv\").assign(Sub_District=\"Suryagadha\"),\n",
    "])\n",
    "\n",
    "df_combined.to_csv(\"Lakhisarai.csv\", index=False)\n",
    "print(\"\\nSUCCESS: Combined data saved to Lakhisarai.csv\")"
   ]
  },
  {
   "cell_type": "code",
   "execution_count": 17,
   "metadata": {},
   "outputs": [
    {
     "name": "stderr",
     "output_type": "stream",
     "text": [
      "C:\\Users\\Aryan Pratik\\AppData\\Local\\Temp\\ipykernel_28288\\2461301273.py:5: UserWarning: Could not infer format, so each element will be parsed individually, falling back to `dateutil`. To ensure parsing is consistent and as-expected, please specify a format.\n",
      "  df[\"Timestamp\"] = pd.to_datetime(df[\"Timestamp\"], errors=\"coerce\")\n",
      "C:\\Users\\Aryan Pratik\\AppData\\Local\\Temp\\ipykernel_28288\\2461301273.py:5: UserWarning: Could not infer format, so each element will be parsed individually, falling back to `dateutil`. To ensure parsing is consistent and as-expected, please specify a format.\n",
      "  df[\"Timestamp\"] = pd.to_datetime(df[\"Timestamp\"], errors=\"coerce\")\n",
      "C:\\Users\\Aryan Pratik\\AppData\\Local\\Temp\\ipykernel_28288\\2461301273.py:5: UserWarning: Could not infer format, so each element will be parsed individually, falling back to `dateutil`. To ensure parsing is consistent and as-expected, please specify a format.\n",
      "  df[\"Timestamp\"] = pd.to_datetime(df[\"Timestamp\"], errors=\"coerce\")\n"
     ]
    },
    {
     "name": "stdout",
     "output_type": "stream",
     "text": [
      "\n",
      "SUCCESS: Rainfall data processed for Rainfall_Madhepura\n",
      "\n",
      "SUCCESS: Rainfall data processed for Rainfall_Chausa\n",
      "\n",
      "SUCCESS: Rainfall data processed for Rainfall_Kumarkhand\n",
      "\n",
      "SUCCESS: Rainfall data processed for Rainfall_Murliganj\n",
      "\n",
      "SUCCESS: Rainfall data processed for Rainfall_Uda kishang\n",
      "\n",
      "SUCCESS: Combined data saved to Madhepura.csv\n"
     ]
    },
    {
     "name": "stderr",
     "output_type": "stream",
     "text": [
      "C:\\Users\\Aryan Pratik\\AppData\\Local\\Temp\\ipykernel_28288\\2461301273.py:5: UserWarning: Could not infer format, so each element will be parsed individually, falling back to `dateutil`. To ensure parsing is consistent and as-expected, please specify a format.\n",
      "  df[\"Timestamp\"] = pd.to_datetime(df[\"Timestamp\"], errors=\"coerce\")\n",
      "C:\\Users\\Aryan Pratik\\AppData\\Local\\Temp\\ipykernel_28288\\2461301273.py:5: UserWarning: Could not infer format, so each element will be parsed individually, falling back to `dateutil`. To ensure parsing is consistent and as-expected, please specify a format.\n",
      "  df[\"Timestamp\"] = pd.to_datetime(df[\"Timestamp\"], errors=\"coerce\")\n"
     ]
    }
   ],
   "source": [
    "# Process data for each sub-district\n",
    "process_rainfall_data(\"Rainfall_Madhepura.xlsx\", \"Rainfall - Rainfall_Madhepura\", \"Madhepura1.csv\")\n",
    "process_rainfall_data(\"Rainfall_Chausa.xlsx\", \"Rainfall - Rainfall_Chausa\", \"Madhepura2.csv\")\n",
    "process_rainfall_data(\"Rainfall_Kumarkhand.xlsx\", \"Rainfall - Rainfall_Kumarkhand\", \"Madhepura3.csv\")\n",
    "process_rainfall_data(\"Rainfall_Murliganj.xlsx\", \"Rainfall - Rainfall_Murliganj\", \"Madhepura4.csv\")\n",
    "process_rainfall_data(\"Rainfall_Uda kishanganj.xlsx\", \"Rainfall - Rainfall_Uda kishang\", \"Madhepura5.csv\")\n",
    "\n",
    "# Combine all processed data for Madhepura\n",
    "df_combined = pd.concat([\n",
    "    pd.read_csv(\"Madhepura1.csv\").assign(Sub_District=\"Madhepura\"),\n",
    "    pd.read_csv(\"Madhepura2.csv\").assign(Sub_District=\"Chausa\"),\n",
    "    pd.read_csv(\"Madhepura3.csv\").assign(Sub_District=\"Kumarkhand\"),\n",
    "    pd.read_csv(\"Madhepura4.csv\").assign(Sub_District=\"Murliganj\"),\n",
    "    pd.read_csv(\"Madhepura5.csv\").assign(Sub_District=\"Uda kishanganj\"),\n",
    "])\n",
    "\n",
    "df_combined.to_csv(\"Madhepura.csv\", index=False)\n",
    "print(\"\\nSUCCESS: Combined data saved to Madhepura.csv\")"
   ]
  },
  {
   "cell_type": "code",
   "execution_count": 18,
   "metadata": {},
   "outputs": [
    {
     "name": "stderr",
     "output_type": "stream",
     "text": [
      "C:\\Users\\Aryan Pratik\\AppData\\Local\\Temp\\ipykernel_28288\\2461301273.py:5: UserWarning: Could not infer format, so each element will be parsed individually, falling back to `dateutil`. To ensure parsing is consistent and as-expected, please specify a format.\n",
      "  df[\"Timestamp\"] = pd.to_datetime(df[\"Timestamp\"], errors=\"coerce\")\n"
     ]
    },
    {
     "name": "stdout",
     "output_type": "stream",
     "text": [
      "\n",
      "SUCCESS: Rainfall data processed for Rainfall_Jainagar\n"
     ]
    },
    {
     "name": "stderr",
     "output_type": "stream",
     "text": [
      "C:\\Users\\Aryan Pratik\\AppData\\Local\\Temp\\ipykernel_28288\\2461301273.py:5: UserWarning: Could not infer format, so each element will be parsed individually, falling back to `dateutil`. To ensure parsing is consistent and as-expected, please specify a format.\n",
      "  df[\"Timestamp\"] = pd.to_datetime(df[\"Timestamp\"], errors=\"coerce\")\n"
     ]
    },
    {
     "name": "stdout",
     "output_type": "stream",
     "text": [
      "\n",
      "SUCCESS: Rainfall data processed for Rainfall_Jhanjharpur\n"
     ]
    },
    {
     "name": "stderr",
     "output_type": "stream",
     "text": [
      "C:\\Users\\Aryan Pratik\\AppData\\Local\\Temp\\ipykernel_28288\\2461301273.py:5: UserWarning: Could not infer format, so each element will be parsed individually, falling back to `dateutil`. To ensure parsing is consistent and as-expected, please specify a format.\n",
      "  df[\"Timestamp\"] = pd.to_datetime(df[\"Timestamp\"], errors=\"coerce\")\n"
     ]
    },
    {
     "name": "stdout",
     "output_type": "stream",
     "text": [
      "\n",
      "SUCCESS: Rainfall data processed for Rainfall_Kapasiya\n"
     ]
    },
    {
     "name": "stderr",
     "output_type": "stream",
     "text": [
      "C:\\Users\\Aryan Pratik\\AppData\\Local\\Temp\\ipykernel_28288\\2461301273.py:5: UserWarning: Could not infer format, so each element will be parsed individually, falling back to `dateutil`. To ensure parsing is consistent and as-expected, please specify a format.\n",
      "  df[\"Timestamp\"] = pd.to_datetime(df[\"Timestamp\"], errors=\"coerce\")\n"
     ]
    },
    {
     "name": "stdout",
     "output_type": "stream",
     "text": [
      "\n",
      "SUCCESS: Rainfall data processed for Rainfall_Saharghat\n",
      "\n",
      "SUCCESS: Rainfall data processed for Rainfall_Saulighat\n",
      "\n",
      "SUCCESS: Combined data saved to Madhubani.csv\n"
     ]
    },
    {
     "name": "stderr",
     "output_type": "stream",
     "text": [
      "C:\\Users\\Aryan Pratik\\AppData\\Local\\Temp\\ipykernel_28288\\2461301273.py:5: UserWarning: Could not infer format, so each element will be parsed individually, falling back to `dateutil`. To ensure parsing is consistent and as-expected, please specify a format.\n",
      "  df[\"Timestamp\"] = pd.to_datetime(df[\"Timestamp\"], errors=\"coerce\")\n"
     ]
    }
   ],
   "source": [
    "# Process data for each sub-district of Madhubani\n",
    "process_rainfall_data(\"Rainfall_Jainagar.xlsx\", \"Rainfall - Rainfall_Jainagar\", \"Madhubani1.csv\")\n",
    "process_rainfall_data(\"Rainfall_Jhanjharpur.xlsx\", \"Rainfall - Rainfall_Jhanjharpur\", \"Madhubani2.csv\")\n",
    "process_rainfall_data(\"Rainfall_Kapasiya.xlsx\", \"Rainfall - Rainfall_Kapasiya\", \"Madhubani3.csv\")\n",
    "process_rainfall_data(\"Rainfall_Saharghat.xlsx\", \"Rainfall - Rainfall_Saharghat\", \"Madhubani4.csv\")\n",
    "process_rainfall_data(\"Rainfall_Saulighat.xlsx\", \"Rainfall - Rainfall_Saulighat\", \"Madhubani5.csv\")\n",
    "\n",
    "# Combine all processed data for Madhubani\n",
    "df_combined = pd.concat([\n",
    "    pd.read_csv(\"Madhubani1.csv\").assign(Sub_District=\"Jainagar\"),\n",
    "    pd.read_csv(\"Madhubani2.csv\").assign(Sub_District=\"Jhanjharpur\"),\n",
    "    pd.read_csv(\"Madhubani3.csv\").assign(Sub_District=\"Kapasiya\"),\n",
    "    pd.read_csv(\"Madhubani4.csv\").assign(Sub_District=\"Saharghat\"),\n",
    "    pd.read_csv(\"Madhubani5.csv\").assign(Sub_District=\"Saulighat\"),\n",
    "])\n",
    "\n",
    "df_combined.to_csv(\"Madhubani.csv\", index=False)\n",
    "print(\"\\nSUCCESS: Combined data saved to Madhubani.csv\")"
   ]
  },
  {
   "cell_type": "code",
   "execution_count": 22,
   "metadata": {},
   "outputs": [
    {
     "name": "stdout",
     "output_type": "stream",
     "text": [
      "\n",
      "SUCCESS: Rainfall data processed 57\n"
     ]
    },
    {
     "name": "stderr",
     "output_type": "stream",
     "text": [
      "C:\\Users\\Aryan Pratik\\AppData\\Local\\Temp\\ipykernel_28288\\3838563889.py:4: UserWarning: Could not infer format, so each element will be parsed individually, falling back to `dateutil`. To ensure parsing is consistent and as-expected, please specify a format.\n",
      "  df[\"Timestamp\"] = pd.to_datetime(df[\"Timestamp\"], errors=\"coerce\")\n"
     ]
    }
   ],
   "source": [
    "# Motihari.csv\n",
    "df = pd.read_excel(\"Rainfall_Ntroad xing (ranganadi).xlsx\", sheet_name=\"Rainfall - Rainfall_Ntroad xing\", skiprows=5)\n",
    "df.columns = [\"Source\", \"Rain Type\", \"Timestamp\", \"Rainfall (mm)\", \"Unit\"]\n",
    "df[\"Timestamp\"] = pd.to_datetime(df[\"Timestamp\"], errors=\"coerce\")\n",
    "df = df.dropna()\n",
    "df[\"Year-Month\"] = df[\"Timestamp\"].dt.to_period(\"M\")\n",
    "df[\"Rainfall (mm)\"] = pd.to_numeric(df[\"Rainfall (mm)\"], errors=\"coerce\").fillna(0)\n",
    "monthly_rainfall = df.groupby(\"Year-Month\")[\"Rainfall (mm)\"].sum().reset_index()\n",
    "monthly_rainfall[\"Flood Risk\"] = monthly_rainfall[\"Rainfall (mm)\"].apply(flood_risk)\n",
    "monthly_rainfall[\"Sub_District\"] = \"Ntroad xing (ranganadi)\"\n",
    "monthly_rainfall = monthly_rainfall[[\"Year-Month\", \"Rainfall (mm)\", \"Flood Risk\", \"Sub_District\"]]\n",
    "monthly_rainfall.to_csv(\"Motihari.csv\", index=False)\n",
    "print(\"\\nSUCCESS: Rainfall data processed 57\")"
   ]
  },
  {
   "cell_type": "code",
   "execution_count": 23,
   "metadata": {},
   "outputs": [
    {
     "name": "stdout",
     "output_type": "stream",
     "text": [
      "\n",
      "SUCCESS: Rainfall data processed for Rainfall_Munger\n",
      "\n",
      "SUCCESS: Rainfall data processed for Rainfall_Kalyanpur\n",
      "\n",
      "SUCCESS: Rainfall data processed for Rainfall_Bariyarpur\n",
      "\n",
      "SUCCESS: Combined data saved to Munger.csv\n"
     ]
    },
    {
     "name": "stderr",
     "output_type": "stream",
     "text": [
      "C:\\Users\\Aryan Pratik\\AppData\\Local\\Temp\\ipykernel_28288\\2461301273.py:5: UserWarning: Could not infer format, so each element will be parsed individually, falling back to `dateutil`. To ensure parsing is consistent and as-expected, please specify a format.\n",
      "  df[\"Timestamp\"] = pd.to_datetime(df[\"Timestamp\"], errors=\"coerce\")\n",
      "C:\\Users\\Aryan Pratik\\AppData\\Local\\Temp\\ipykernel_28288\\2461301273.py:5: UserWarning: Could not infer format, so each element will be parsed individually, falling back to `dateutil`. To ensure parsing is consistent and as-expected, please specify a format.\n",
      "  df[\"Timestamp\"] = pd.to_datetime(df[\"Timestamp\"], errors=\"coerce\")\n",
      "C:\\Users\\Aryan Pratik\\AppData\\Local\\Temp\\ipykernel_28288\\2461301273.py:5: UserWarning: Could not infer format, so each element will be parsed individually, falling back to `dateutil`. To ensure parsing is consistent and as-expected, please specify a format.\n",
      "  df[\"Timestamp\"] = pd.to_datetime(df[\"Timestamp\"], errors=\"coerce\")\n"
     ]
    }
   ],
   "source": [
    "# Process data for each sub-district of Munger\n",
    "process_rainfall_data(\"Rainfall_Munger.xlsx\", \"Rainfall - Rainfall_Munger\", \"Munger1.csv\")\n",
    "process_rainfall_data(\"Rainfall_Kalyanpur.xlsx\", \"Rainfall - Rainfall_Kalyanpur\", \"Munger2.csv\")\n",
    "process_rainfall_data(\"Rainfall_Bariyarpur.xlsx\", \"Rainfall - Rainfall_Bariyarpur\", \"Munger3.csv\")\n",
    "\n",
    "# Combine all processed data for Munger\n",
    "df_combined = pd.concat([\n",
    "    pd.read_csv(\"Munger1.csv\").assign(Sub_District=\"Munger\"),\n",
    "    pd.read_csv(\"Munger2.csv\").assign(Sub_District=\"Kalyanpur\"),\n",
    "    pd.read_csv(\"Munger3.csv\").assign(Sub_District=\"Bariyarpur\"),\n",
    "])\n",
    "\n",
    "df_combined.to_csv(\"Munger.csv\", index=False)\n",
    "print(\"\\nSUCCESS: Combined data saved to Munger.csv\")"
   ]
  },
  {
   "cell_type": "code",
   "execution_count": 29,
   "metadata": {},
   "outputs": [
    {
     "name": "stderr",
     "output_type": "stream",
     "text": [
      "C:\\Users\\Aryan Pratik\\AppData\\Local\\Temp\\ipykernel_28288\\2461301273.py:5: UserWarning: Could not infer format, so each element will be parsed individually, falling back to `dateutil`. To ensure parsing is consistent and as-expected, please specify a format.\n",
      "  df[\"Timestamp\"] = pd.to_datetime(df[\"Timestamp\"], errors=\"coerce\")\n"
     ]
    },
    {
     "name": "stdout",
     "output_type": "stream",
     "text": [
      "\n",
      "SUCCESS: Rainfall data processed for Rainfall_Sikandarpur\n"
     ]
    },
    {
     "name": "stderr",
     "output_type": "stream",
     "text": [
      "C:\\Users\\Aryan Pratik\\AppData\\Local\\Temp\\ipykernel_28288\\2461301273.py:5: UserWarning: Could not infer format, so each element will be parsed individually, falling back to `dateutil`. To ensure parsing is consistent and as-expected, please specify a format.\n",
      "  df[\"Timestamp\"] = pd.to_datetime(df[\"Timestamp\"], errors=\"coerce\")\n"
     ]
    },
    {
     "name": "stdout",
     "output_type": "stream",
     "text": [
      "\n",
      "SUCCESS: Rainfall data processed for Rainfall_Benibad\n"
     ]
    },
    {
     "name": "stderr",
     "output_type": "stream",
     "text": [
      "C:\\Users\\Aryan Pratik\\AppData\\Local\\Temp\\ipykernel_28288\\2461301273.py:5: UserWarning: Could not infer format, so each element will be parsed individually, falling back to `dateutil`. To ensure parsing is consistent and as-expected, please specify a format.\n",
      "  df[\"Timestamp\"] = pd.to_datetime(df[\"Timestamp\"], errors=\"coerce\")\n"
     ]
    },
    {
     "name": "stdout",
     "output_type": "stream",
     "text": [
      "\n",
      "SUCCESS: Rainfall data processed for Rainfall_Kanti\n"
     ]
    },
    {
     "name": "stderr",
     "output_type": "stream",
     "text": [
      "C:\\Users\\Aryan Pratik\\AppData\\Local\\Temp\\ipykernel_28288\\2461301273.py:5: UserWarning: Could not infer format, so each element will be parsed individually, falling back to `dateutil`. To ensure parsing is consistent and as-expected, please specify a format.\n",
      "  df[\"Timestamp\"] = pd.to_datetime(df[\"Timestamp\"], errors=\"coerce\")\n"
     ]
    },
    {
     "name": "stdout",
     "output_type": "stream",
     "text": [
      "\n",
      "SUCCESS: Rainfall data processed for Rainfall_Rewaghat\n"
     ]
    },
    {
     "name": "stderr",
     "output_type": "stream",
     "text": [
      "C:\\Users\\Aryan Pratik\\AppData\\Local\\Temp\\ipykernel_28288\\2461301273.py:5: UserWarning: Could not infer format, so each element will be parsed individually, falling back to `dateutil`. To ensure parsing is consistent and as-expected, please specify a format.\n",
      "  df[\"Timestamp\"] = pd.to_datetime(df[\"Timestamp\"], errors=\"coerce\")\n"
     ]
    },
    {
     "name": "stdout",
     "output_type": "stream",
     "text": [
      "\n",
      "SUCCESS: Rainfall data processed for Rainfall_Runisaidpur\n",
      "\n",
      "SUCCESS: Rainfall data processed for Rainfall_Sakra\n",
      "\n",
      "SUCCESS: Combined data saved to Muzzafarpur.csv\n"
     ]
    },
    {
     "name": "stderr",
     "output_type": "stream",
     "text": [
      "C:\\Users\\Aryan Pratik\\AppData\\Local\\Temp\\ipykernel_28288\\2461301273.py:5: UserWarning: Could not infer format, so each element will be parsed individually, falling back to `dateutil`. To ensure parsing is consistent and as-expected, please specify a format.\n",
      "  df[\"Timestamp\"] = pd.to_datetime(df[\"Timestamp\"], errors=\"coerce\")\n"
     ]
    }
   ],
   "source": [
    "# Processing all Muzaffarpur files\n",
    "process_rainfall_data(\"Rainfall_Sikandarpur (muzzafarpur).xlsx\", \"Rainfall - Rainfall_Sikandarpur\", \n",
    "                      \"Muzzafarpur1.csv\")\n",
    "process_rainfall_data(\"Rainfall_Benibad.xlsx\", \n",
    "                      \"Rainfall - Rainfall_Benibad\", \n",
    "                      \"Muzzafarpur2.csv\")\n",
    "process_rainfall_data(\"Rainfall_Kanti.xlsx\", \n",
    "                      \"Rainfall - Rainfall_Kanti\", \n",
    "                      \"Muzzafarpur3.csv\")\n",
    "process_rainfall_data(\"Rainfall_Rewaghat.xlsx\", \n",
    "                      \"Rainfall - Rainfall_Rewaghat\", \n",
    "                      \"Muzzafarpur4.csv\")\n",
    "process_rainfall_data(\"Rainfall_Runisaidpur.xlsx\", \n",
    "                      \"Rainfall - Rainfall_Runisaidpur\", \n",
    "                      \"Muzzafarpur5.csv\")\n",
    "process_rainfall_data(\"Rainfall_Sakra.xlsx\", \n",
    "                      \"Rainfall - Rainfall_Sakra\", \n",
    "                      \"Muzzafarpur6.csv\")\n",
    "\n",
    "# Combine all processed data for Muzaffarpur\n",
    "df_combined = pd.concat([\n",
    "    pd.read_csv(\"Muzzafarpur1.csv\").assign(Sub_District=\"Sikandarpur\"),\n",
    "    pd.read_csv(\"Muzzafarpur2.csv\").assign(Sub_District=\"Benibad\"),\n",
    "    pd.read_csv(\"Muzzafarpur3.csv\").assign(Sub_District=\"Kanti\"),\n",
    "    pd.read_csv(\"Muzzafarpur4.csv\").assign(Sub_District=\"Rewaghat\"),\n",
    "    pd.read_csv(\"Muzzafarpur5.csv\").assign(Sub_District=\"Runisaidpur\"),\n",
    "    pd.read_csv(\"Muzzafarpur6.csv\").assign(Sub_District=\"Sakra\"),\n",
    "])\n",
    "\n",
    "df_combined.to_csv(\"Muzzafarpur.csv\", index=False)\n",
    "print(\"\\nSUCCESS: Combined data saved to Muzzafarpur.csv\")"
   ]
  },
  {
   "cell_type": "code",
   "execution_count": 30,
   "metadata": {},
   "outputs": [
    {
     "name": "stdout",
     "output_type": "stream",
     "text": [
      "\n",
      "SUCCESS: Rainfall data processed for Nalanda (Giriyak)\n"
     ]
    },
    {
     "name": "stderr",
     "output_type": "stream",
     "text": [
      "C:\\Users\\Aryan Pratik\\AppData\\Local\\Temp\\ipykernel_28288\\2158308151.py:4: UserWarning: Could not infer format, so each element will be parsed individually, falling back to `dateutil`. To ensure parsing is consistent and as-expected, please specify a format.\n",
      "  df[\"Timestamp\"] = pd.to_datetime(df[\"Timestamp\"], errors=\"coerce\")\n"
     ]
    }
   ],
   "source": [
    "# Nalanda.csv\n",
    "df = pd.read_excel(\"Rainfall_Giriyak.xlsx\", sheet_name=\"Rainfall - Rainfall_Giriyak\", skiprows=5)\n",
    "df.columns = [\"Source\", \"Rain Type\", \"Timestamp\", \"Rainfall (mm)\", \"Unit\"]\n",
    "df[\"Timestamp\"] = pd.to_datetime(df[\"Timestamp\"], errors=\"coerce\")\n",
    "df = df.dropna()\n",
    "df[\"Year-Month\"] = df[\"Timestamp\"].dt.to_period(\"M\")\n",
    "df[\"Rainfall (mm)\"] = pd.to_numeric(df[\"Rainfall (mm)\"], errors=\"coerce\").fillna(0)\n",
    "monthly_rainfall = df.groupby(\"Year-Month\")[\"Rainfall (mm)\"].sum().reset_index()\n",
    "monthly_rainfall[\"Flood Risk\"] = monthly_rainfall[\"Rainfall (mm)\"].apply(flood_risk)\n",
    "monthly_rainfall[\"Sub_District\"] = \"Giriyak\"\n",
    "monthly_rainfall = monthly_rainfall[[\"Year-Month\", \"Rainfall (mm)\", \"Flood Risk\", \"Sub_District\"]]\n",
    "monthly_rainfall.to_csv(\"Nalanda.csv\", index=False)\n",
    "print(\"\\nSUCCESS: Rainfall data processed for Nalanda (Giriyak)\")"
   ]
  },
  {
   "cell_type": "code",
   "execution_count": 31,
   "metadata": {},
   "outputs": [
    {
     "name": "stderr",
     "output_type": "stream",
     "text": [
      "C:\\Users\\Aryan Pratik\\AppData\\Local\\Temp\\ipykernel_28288\\2461301273.py:5: UserWarning: Could not infer format, so each element will be parsed individually, falling back to `dateutil`. To ensure parsing is consistent and as-expected, please specify a format.\n",
      "  df[\"Timestamp\"] = pd.to_datetime(df[\"Timestamp\"], errors=\"coerce\")\n"
     ]
    },
    {
     "name": "stdout",
     "output_type": "stream",
     "text": [
      "\n",
      "SUCCESS: Rainfall data processed for Rainfall_Nawada\n"
     ]
    },
    {
     "name": "stderr",
     "output_type": "stream",
     "text": [
      "C:\\Users\\Aryan Pratik\\AppData\\Local\\Temp\\ipykernel_28288\\2461301273.py:5: UserWarning: Could not infer format, so each element will be parsed individually, falling back to `dateutil`. To ensure parsing is consistent and as-expected, please specify a format.\n",
      "  df[\"Timestamp\"] = pd.to_datetime(df[\"Timestamp\"], errors=\"coerce\")\n"
     ]
    },
    {
     "name": "stdout",
     "output_type": "stream",
     "text": [
      "\n",
      "SUCCESS: Rainfall data processed for Rainfall_Nardiganj\n"
     ]
    },
    {
     "name": "stderr",
     "output_type": "stream",
     "text": [
      "C:\\Users\\Aryan Pratik\\AppData\\Local\\Temp\\ipykernel_28288\\2461301273.py:5: UserWarning: Could not infer format, so each element will be parsed individually, falling back to `dateutil`. To ensure parsing is consistent and as-expected, please specify a format.\n",
      "  df[\"Timestamp\"] = pd.to_datetime(df[\"Timestamp\"], errors=\"coerce\")\n"
     ]
    },
    {
     "name": "stdout",
     "output_type": "stream",
     "text": [
      "\n",
      "SUCCESS: Rainfall data processed for Rainfall_Kadirganj\n",
      "\n",
      "SUCCESS: Rainfall data processed for Rainfall_Hisua\n",
      "\n",
      "SUCCESS: Combined data saved to Nawada.csv\n"
     ]
    },
    {
     "name": "stderr",
     "output_type": "stream",
     "text": [
      "C:\\Users\\Aryan Pratik\\AppData\\Local\\Temp\\ipykernel_28288\\2461301273.py:5: UserWarning: Could not infer format, so each element will be parsed individually, falling back to `dateutil`. To ensure parsing is consistent and as-expected, please specify a format.\n",
      "  df[\"Timestamp\"] = pd.to_datetime(df[\"Timestamp\"], errors=\"coerce\")\n"
     ]
    }
   ],
   "source": [
    "# Process rainfall data for Nawada\n",
    "process_rainfall_data(\"Rainfall_Nawada.xlsx\", \"Rainfall - Rainfall_Nawada\", \"Nawada1.csv\")\n",
    "process_rainfall_data(\"Rainfall_Nardiganj.xlsx\", \"Rainfall - Rainfall_Nardiganj\", \"Nawada2.csv\")\n",
    "process_rainfall_data(\"Rainfall_Kadirganj.xlsx\", \"Rainfall - Rainfall_Kadirganj\", \"Nawada3.csv\")\n",
    "process_rainfall_data(\"Rainfall_Hisua.xlsx\", \"Rainfall - Rainfall_Hisua\", \"Nawada4.csv\")\n",
    "\n",
    "# Combine all processed data for Nawada\n",
    "df_combined = pd.concat([\n",
    "    pd.read_csv(\"Nawada1.csv\").assign(Sub_District=\"Nawada\"),\n",
    "    pd.read_csv(\"Nawada2.csv\").assign(Sub_District=\"Nardiganj\"),\n",
    "    pd.read_csv(\"Nawada3.csv\").assign(Sub_District=\"Kadirganj\"),\n",
    "    pd.read_csv(\"Nawada4.csv\").assign(Sub_District=\"Hisua\"),\n",
    "])\n",
    "\n",
    "df_combined.to_csv(\"Nawada.csv\", index=False)\n",
    "print(\"\\nSUCCESS: Combined data saved to Nawada.csv\")"
   ]
  },
  {
   "cell_type": "code",
   "execution_count": 37,
   "metadata": {},
   "outputs": [
    {
     "name": "stderr",
     "output_type": "stream",
     "text": [
      "C:\\Users\\Aryan Pratik\\AppData\\Local\\Temp\\ipykernel_28288\\2461301273.py:5: UserWarning: Could not infer format, so each element will be parsed individually, falling back to `dateutil`. To ensure parsing is consistent and as-expected, please specify a format.\n",
      "  df[\"Timestamp\"] = pd.to_datetime(df[\"Timestamp\"], errors=\"coerce\")\n"
     ]
    },
    {
     "name": "stdout",
     "output_type": "stream",
     "text": [
      "\n",
      "SUCCESS: Rainfall data processed for Rainfall_Gandak barr\n"
     ]
    },
    {
     "name": "stderr",
     "output_type": "stream",
     "text": [
      "C:\\Users\\Aryan Pratik\\AppData\\Local\\Temp\\ipykernel_28288\\2461301273.py:5: UserWarning: Could not infer format, so each element will be parsed individually, falling back to `dateutil`. To ensure parsing is consistent and as-expected, please specify a format.\n",
      "  df[\"Timestamp\"] = pd.to_datetime(df[\"Timestamp\"], errors=\"coerce\")\n"
     ]
    },
    {
     "name": "stdout",
     "output_type": "stream",
     "text": [
      "\n",
      "SUCCESS: Rainfall data processed for Rainfall_Bagaha\n"
     ]
    },
    {
     "name": "stderr",
     "output_type": "stream",
     "text": [
      "C:\\Users\\Aryan Pratik\\AppData\\Local\\Temp\\ipykernel_28288\\2461301273.py:5: UserWarning: Could not infer format, so each element will be parsed individually, falling back to `dateutil`. To ensure parsing is consistent and as-expected, please specify a format.\n",
      "  df[\"Timestamp\"] = pd.to_datetime(df[\"Timestamp\"], errors=\"coerce\")\n"
     ]
    },
    {
     "name": "stdout",
     "output_type": "stream",
     "text": [
      "\n",
      "SUCCESS: Rainfall data processed for Rainfall_Chanpatia\n"
     ]
    },
    {
     "name": "stderr",
     "output_type": "stream",
     "text": [
      "C:\\Users\\Aryan Pratik\\AppData\\Local\\Temp\\ipykernel_28288\\2461301273.py:5: UserWarning: Could not infer format, so each element will be parsed individually, falling back to `dateutil`. To ensure parsing is consistent and as-expected, please specify a format.\n",
      "  df[\"Timestamp\"] = pd.to_datetime(df[\"Timestamp\"], errors=\"coerce\")\n"
     ]
    },
    {
     "name": "stdout",
     "output_type": "stream",
     "text": [
      "\n",
      "SUCCESS: Rainfall data processed for Rainfall_Thakraha\n",
      "\n",
      "SUCCESS: Rainfall data processed for Rainfall_Triveni\n",
      "\n",
      "SUCCESS: Combined data saved to PashchimChamparan.csv\n"
     ]
    },
    {
     "name": "stderr",
     "output_type": "stream",
     "text": [
      "C:\\Users\\Aryan Pratik\\AppData\\Local\\Temp\\ipykernel_28288\\2461301273.py:5: UserWarning: Could not infer format, so each element will be parsed individually, falling back to `dateutil`. To ensure parsing is consistent and as-expected, please specify a format.\n",
      "  df[\"Timestamp\"] = pd.to_datetime(df[\"Timestamp\"], errors=\"coerce\")\n"
     ]
    }
   ],
   "source": [
    "# Process rainfall data for Pashchim Champaran\n",
    "process_rainfall_data(\"Rainfall_Gandak Barrage.xlsx\", \"Rainfall - Rainfall_Gandak barr\", \"PashchimChamparan1.csv\")\n",
    "process_rainfall_data(\"Rainfall_Bagaha.xlsx\", \"Rainfall - Rainfall_Bagaha\", \"PashchimChamparan2.csv\")\n",
    "process_rainfall_data(\"Rainfall_Chanpatia.xlsx\", \"Rainfall - Rainfall_Chanpatia\", \"PashchimChamparan3.csv\")\n",
    "process_rainfall_data(\"Rainfall_Thakraha.xlsx\", \"Rainfall - Rainfall_Thakraha\", \"PashchimChamparan4.csv\")\n",
    "process_rainfall_data(\"Rainfall_Triveni.xlsx\", \"Rainfall - Rainfall_Triveni\", \"PashchimChamparan5.csv\")\n",
    "\n",
    "# Combine all processed data for Pashchim Champaran\n",
    "df_combined = pd.concat([\n",
    "    pd.read_csv(\"PashchimChamparan1.csv\").assign(Sub_District=\"Gandak Barrage\"),\n",
    "    pd.read_csv(\"PashchimChamparan2.csv\").assign(Sub_District=\"Bagaha\"),\n",
    "    pd.read_csv(\"PashchimChamparan3.csv\").assign(Sub_District=\"Chanpatia\"),\n",
    "    pd.read_csv(\"PashchimChamparan4.csv\").assign(Sub_District=\"Thakraha\"),\n",
    "    pd.read_csv(\"PashchimChamparan5.csv\").assign(Sub_District=\"Triveni\"),\n",
    "])\n",
    "\n",
    "df_combined.to_csv(\"PashchimChamparan.csv\", index=False)\n",
    "print(\"\\nSUCCESS: Combined data saved to PashchimChamparan.csv\")"
   ]
  },
  {
   "cell_type": "code",
   "execution_count": 44,
   "metadata": {},
   "outputs": [
    {
     "name": "stderr",
     "output_type": "stream",
     "text": [
      "C:\\Users\\Aryan Pratik\\AppData\\Local\\Temp\\ipykernel_28288\\2461301273.py:5: UserWarning: Could not infer format, so each element will be parsed individually, falling back to `dateutil`. To ensure parsing is consistent and as-expected, please specify a format.\n",
      "  df[\"Timestamp\"] = pd.to_datetime(df[\"Timestamp\"], errors=\"coerce\")\n",
      "C:\\Users\\Aryan Pratik\\AppData\\Local\\Temp\\ipykernel_28288\\2461301273.py:5: UserWarning: Could not infer format, so each element will be parsed individually, falling back to `dateutil`. To ensure parsing is consistent and as-expected, please specify a format.\n",
      "  df[\"Timestamp\"] = pd.to_datetime(df[\"Timestamp\"], errors=\"coerce\")\n"
     ]
    },
    {
     "name": "stdout",
     "output_type": "stream",
     "text": [
      "\n",
      "SUCCESS: Rainfall data processed for Rainfall_Bankaghat\n",
      "\n",
      "SUCCESS: Rainfall data processed for Rainfall_Danapur\n"
     ]
    },
    {
     "name": "stderr",
     "output_type": "stream",
     "text": [
      "C:\\Users\\Aryan Pratik\\AppData\\Local\\Temp\\ipykernel_28288\\2461301273.py:5: UserWarning: Could not infer format, so each element will be parsed individually, falling back to `dateutil`. To ensure parsing is consistent and as-expected, please specify a format.\n",
      "  df[\"Timestamp\"] = pd.to_datetime(df[\"Timestamp\"], errors=\"coerce\")\n",
      "C:\\Users\\Aryan Pratik\\AppData\\Local\\Temp\\ipykernel_28288\\2461301273.py:5: UserWarning: Could not infer format, so each element will be parsed individually, falling back to `dateutil`. To ensure parsing is consistent and as-expected, please specify a format.\n",
      "  df[\"Timestamp\"] = pd.to_datetime(df[\"Timestamp\"], errors=\"coerce\")\n"
     ]
    },
    {
     "name": "stdout",
     "output_type": "stream",
     "text": [
      "\n",
      "SUCCESS: Rainfall data processed for Rainfall_Dighaghat\n",
      "\n",
      "SUCCESS: Rainfall data processed for Rainfall_Fatehpur\n"
     ]
    },
    {
     "name": "stderr",
     "output_type": "stream",
     "text": [
      "C:\\Users\\Aryan Pratik\\AppData\\Local\\Temp\\ipykernel_28288\\2461301273.py:5: UserWarning: Could not infer format, so each element will be parsed individually, falling back to `dateutil`. To ensure parsing is consistent and as-expected, please specify a format.\n",
      "  df[\"Timestamp\"] = pd.to_datetime(df[\"Timestamp\"], errors=\"coerce\")\n"
     ]
    },
    {
     "name": "stdout",
     "output_type": "stream",
     "text": [
      "\n",
      "SUCCESS: Rainfall data processed for Rainfall_Gandhighat\n"
     ]
    },
    {
     "name": "stderr",
     "output_type": "stream",
     "text": [
      "C:\\Users\\Aryan Pratik\\AppData\\Local\\Temp\\ipykernel_28288\\2461301273.py:5: UserWarning: Could not infer format, so each element will be parsed individually, falling back to `dateutil`. To ensure parsing is consistent and as-expected, please specify a format.\n",
      "  df[\"Timestamp\"] = pd.to_datetime(df[\"Timestamp\"], errors=\"coerce\")\n"
     ]
    },
    {
     "name": "stdout",
     "output_type": "stream",
     "text": [
      "\n",
      "SUCCESS: Rainfall data processed for Rainfall_Hathidah\n"
     ]
    },
    {
     "name": "stderr",
     "output_type": "stream",
     "text": [
      "C:\\Users\\Aryan Pratik\\AppData\\Local\\Temp\\ipykernel_28288\\2461301273.py:5: UserWarning: Could not infer format, so each element will be parsed individually, falling back to `dateutil`. To ensure parsing is consistent and as-expected, please specify a format.\n",
      "  df[\"Timestamp\"] = pd.to_datetime(df[\"Timestamp\"], errors=\"coerce\")\n",
      "C:\\Users\\Aryan Pratik\\AppData\\Local\\Temp\\ipykernel_28288\\2461301273.py:5: UserWarning: Could not infer format, so each element will be parsed individually, falling back to `dateutil`. To ensure parsing is consistent and as-expected, please specify a format.\n",
      "  df[\"Timestamp\"] = pd.to_datetime(df[\"Timestamp\"], errors=\"coerce\")\n"
     ]
    },
    {
     "name": "stdout",
     "output_type": "stream",
     "text": [
      "\n",
      "SUCCESS: Rainfall data processed for Rainfall_Koelwar\n",
      "\n",
      "SUCCESS: Rainfall data processed for Rainfall_Kolhachak\n"
     ]
    },
    {
     "name": "stderr",
     "output_type": "stream",
     "text": [
      "C:\\Users\\Aryan Pratik\\AppData\\Local\\Temp\\ipykernel_28288\\2461301273.py:5: UserWarning: Could not infer format, so each element will be parsed individually, falling back to `dateutil`. To ensure parsing is consistent and as-expected, please specify a format.\n",
      "  df[\"Timestamp\"] = pd.to_datetime(df[\"Timestamp\"], errors=\"coerce\")\n",
      "C:\\Users\\Aryan Pratik\\AppData\\Local\\Temp\\ipykernel_28288\\2461301273.py:5: UserWarning: Could not infer format, so each element will be parsed individually, falling back to `dateutil`. To ensure parsing is consistent and as-expected, please specify a format.\n",
      "  df[\"Timestamp\"] = pd.to_datetime(df[\"Timestamp\"], errors=\"coerce\")\n",
      "C:\\Users\\Aryan Pratik\\AppData\\Local\\Temp\\ipykernel_28288\\2461301273.py:5: UserWarning: Could not infer format, so each element will be parsed individually, falling back to `dateutil`. To ensure parsing is consistent and as-expected, please specify a format.\n",
      "  df[\"Timestamp\"] = pd.to_datetime(df[\"Timestamp\"], errors=\"coerce\")\n"
     ]
    },
    {
     "name": "stdout",
     "output_type": "stream",
     "text": [
      "\n",
      "SUCCESS: Rainfall data processed for Rainfall_Maner\n",
      "\n",
      "SUCCESS: Rainfall data processed for Rainfall_Masaurhi\n",
      "\n",
      "SUCCESS: Rainfall data processed for Rainfall_Paliganj\n",
      "\n",
      "SUCCESS: Rainfall data processed for Rainfall_Pandarak\n"
     ]
    },
    {
     "name": "stderr",
     "output_type": "stream",
     "text": [
      "C:\\Users\\Aryan Pratik\\AppData\\Local\\Temp\\ipykernel_28288\\2461301273.py:5: UserWarning: Could not infer format, so each element will be parsed individually, falling back to `dateutil`. To ensure parsing is consistent and as-expected, please specify a format.\n",
      "  df[\"Timestamp\"] = pd.to_datetime(df[\"Timestamp\"], errors=\"coerce\")\n",
      "C:\\Users\\Aryan Pratik\\AppData\\Local\\Temp\\ipykernel_28288\\2461301273.py:5: UserWarning: Could not infer format, so each element will be parsed individually, falling back to `dateutil`. To ensure parsing is consistent and as-expected, please specify a format.\n",
      "  df[\"Timestamp\"] = pd.to_datetime(df[\"Timestamp\"], errors=\"coerce\")\n"
     ]
    },
    {
     "name": "stdout",
     "output_type": "stream",
     "text": [
      "\n",
      "SUCCESS: Rainfall data processed for Rainfall_Saksohra\n",
      "\n",
      "SUCCESS: Combined data saved to 'Patna.csv'\n"
     ]
    }
   ],
   "source": [
    "process_rainfall_data(\"Rainfall_Bankaghat.xlsx\", \"Rainfall - Rainfall_Bankaghat\", \"Patna1.csv\")\n",
    "process_rainfall_data(\"Rainfall_Danapur.xlsx\", \"Rainfall - Rainfall_Danapur\", \"Patna2.csv\")\n",
    "process_rainfall_data(\"Rainfall_Dighaghat.xlsx\", \"Rainfall - Rainfall_Dighaghat\", \"Patna3.csv\")\n",
    "process_rainfall_data(\"Rainfall_Fatehpur.xlsx\", \"Rainfall - Rainfall_Fatehpur\", \"Patna4.csv\")\n",
    "process_rainfall_data(\"Rainfall_Gandhighat.xlsx\", \"Rainfall - Rainfall_Gandhighat\", \"Patna5.csv\")\n",
    "process_rainfall_data(\"Rainfall_Hathidah.xlsx\", \"Rainfall - Rainfall_Hathidah\", \"Patna6.csv\")\n",
    "process_rainfall_data(\"Rainfall_Koelwar.xlsx\", \"Rainfall - Rainfall_Koelwar\", \"Patna7.csv\")\n",
    "process_rainfall_data(\"Rainfall_Kolhachak.xlsx\", \"Rainfall - Rainfall_Kolhachak\", \"Patna8.csv\")\n",
    "process_rainfall_data(\"Rainfall_Maner.xlsx\", \"Rainfall - Rainfall_Maner\", \"Patna9.csv\")\n",
    "process_rainfall_data(\"Rainfall_Masaurhi.xlsx\", \"Rainfall - Rainfall_Masaurhi\", \"Patna10.csv\")\n",
    "process_rainfall_data(\"Rainfall_Paliganj.xlsx\", \"Rainfall - Rainfall_Paliganj\", \"Patna11.csv\")\n",
    "process_rainfall_data(\"Rainfall_Pandarak.xlsx\", \"Rainfall - Rainfall_Pandarak\", \"Patna12.csv\")\n",
    "process_rainfall_data(\"Rainfall_Saksohra.xlsx\", \"Rainfall - Rainfall_Saksohra\", \"Patna13.csv\")\n",
    "\n",
    "# Final Step: Combine all CSVs\n",
    "df_combined = pd.concat([pd.read_csv(f\"Patna{i}.csv\") for i in range(1, 14)])\n",
    "df_combined.to_csv(\"Patna.csv\", index=False)\n",
    "print(\"\\nSUCCESS: Combined data saved to 'Patna.csv'\")"
   ]
  },
  {
   "cell_type": "code",
   "execution_count": 49,
   "metadata": {},
   "outputs": [
    {
     "name": "stderr",
     "output_type": "stream",
     "text": [
      "C:\\Users\\Aryan Pratik\\AppData\\Local\\Temp\\ipykernel_28288\\1534266676.py:4: UserWarning: Could not infer format, so each element will be parsed individually, falling back to `dateutil`. To ensure parsing is consistent and as-expected, please specify a format.\n",
      "  df[\"Timestamp\"] = pd.to_datetime(df[\"Timestamp\"], errors=\"coerce\")\n"
     ]
    },
    {
     "name": "stdout",
     "output_type": "stream",
     "text": [
      "\n",
      "SUCCESS: Rainfall data processed for Purba Champaran (Ahirwalia)\n"
     ]
    },
    {
     "name": "stderr",
     "output_type": "stream",
     "text": [
      "C:\\Users\\Aryan Pratik\\AppData\\Local\\Temp\\ipykernel_28288\\1534266676.py:16: UserWarning: Could not infer format, so each element will be parsed individually, falling back to `dateutil`. To ensure parsing is consistent and as-expected, please specify a format.\n",
      "  df[\"Timestamp\"] = pd.to_datetime(df[\"Timestamp\"], errors=\"coerce\")\n"
     ]
    },
    {
     "name": "stdout",
     "output_type": "stream",
     "text": [
      "\n",
      "SUCCESS: Rainfall data processed for Purba Champaran (Chatia)\n"
     ]
    },
    {
     "name": "stderr",
     "output_type": "stream",
     "text": [
      "C:\\Users\\Aryan Pratik\\AppData\\Local\\Temp\\ipykernel_28288\\1534266676.py:28: UserWarning: Could not infer format, so each element will be parsed individually, falling back to `dateutil`. To ensure parsing is consistent and as-expected, please specify a format.\n",
      "  df[\"Timestamp\"] = pd.to_datetime(df[\"Timestamp\"], errors=\"coerce\")\n"
     ]
    },
    {
     "name": "stdout",
     "output_type": "stream",
     "text": [
      "\n",
      "SUCCESS: Rainfall data processed for Purba Champaran (Chintawanpur)\n"
     ]
    },
    {
     "name": "stderr",
     "output_type": "stream",
     "text": [
      "C:\\Users\\Aryan Pratik\\AppData\\Local\\Temp\\ipykernel_28288\\1534266676.py:40: UserWarning: Could not infer format, so each element will be parsed individually, falling back to `dateutil`. To ensure parsing is consistent and as-expected, please specify a format.\n",
      "  df[\"Timestamp\"] = pd.to_datetime(df[\"Timestamp\"], errors=\"coerce\")\n"
     ]
    },
    {
     "name": "stdout",
     "output_type": "stream",
     "text": [
      "\n",
      "SUCCESS: Rainfall data processed for Purba Champaran (Lakhoura)\n"
     ]
    },
    {
     "name": "stderr",
     "output_type": "stream",
     "text": [
      "C:\\Users\\Aryan Pratik\\AppData\\Local\\Temp\\ipykernel_28288\\1534266676.py:52: UserWarning: Could not infer format, so each element will be parsed individually, falling back to `dateutil`. To ensure parsing is consistent and as-expected, please specify a format.\n",
      "  df[\"Timestamp\"] = pd.to_datetime(df[\"Timestamp\"], errors=\"coerce\")\n"
     ]
    },
    {
     "name": "stdout",
     "output_type": "stream",
     "text": [
      "\n",
      "SUCCESS: Rainfall data processed for Purba Champaran (Lalbegiaghat)\n"
     ]
    },
    {
     "name": "stderr",
     "output_type": "stream",
     "text": [
      "C:\\Users\\Aryan Pratik\\AppData\\Local\\Temp\\ipykernel_28288\\1534266676.py:64: UserWarning: Could not infer format, so each element will be parsed individually, falling back to `dateutil`. To ensure parsing is consistent and as-expected, please specify a format.\n",
      "  df[\"Timestamp\"] = pd.to_datetime(df[\"Timestamp\"], errors=\"coerce\")\n"
     ]
    },
    {
     "name": "stdout",
     "output_type": "stream",
     "text": [
      "\n",
      "SUCCESS: Rainfall data processed for Purba Champaran (Madhuban)\n",
      "\n",
      "SUCCESS: Rainfall data processed for Purba Champaran (Sugauli)\n",
      "\n",
      "SUCCESS: Combined rainfall data for Purba Champaran processed\n"
     ]
    },
    {
     "name": "stderr",
     "output_type": "stream",
     "text": [
      "C:\\Users\\Aryan Pratik\\AppData\\Local\\Temp\\ipykernel_28288\\1534266676.py:76: UserWarning: Could not infer format, so each element will be parsed individually, falling back to `dateutil`. To ensure parsing is consistent and as-expected, please specify a format.\n",
      "  df[\"Timestamp\"] = pd.to_datetime(df[\"Timestamp\"], errors=\"coerce\")\n"
     ]
    }
   ],
   "source": [
    "# Purba Champaran - Ahirwalia.csv\n",
    "df = pd.read_excel(\"Rainfall_Ahirwalia.xlsx\", sheet_name=\"Rainfall - Rainfall_Ahirwalia\", skiprows=5)\n",
    "df.columns = [\"Source\", \"Rain Type\", \"Timestamp\", \"Rainfall (mm)\", \"Unit\"]\n",
    "df[\"Timestamp\"] = pd.to_datetime(df[\"Timestamp\"], errors=\"coerce\")\n",
    "df = df.dropna()\n",
    "df[\"Year-Month\"] = df[\"Timestamp\"].dt.to_period(\"M\")\n",
    "df[\"Rainfall (mm)\"] = pd.to_numeric(df[\"Rainfall (mm)\"], errors=\"coerce\").fillna(0)\n",
    "monthly_rainfall = df.groupby(\"Year-Month\")[\"Rainfall (mm)\"].sum().reset_index()\n",
    "monthly_rainfall[\"Flood Risk\"] = monthly_rainfall[\"Rainfall (mm)\"].apply(flood_risk)\n",
    "monthly_rainfall.to_csv(\"PurbaChamparan_Ahirwalia.csv\", index=False)\n",
    "print(\"\\nSUCCESS: Rainfall data processed for Purba Champaran (Ahirwalia)\")\n",
    "\n",
    "# Purba Champaran - Chatia.csv\n",
    "df = pd.read_excel(\"Rainfall_Chatia.xlsx\", sheet_name=\"Rainfall - Rainfall_Chatia\", skiprows=5)\n",
    "df.columns = [\"Source\", \"Rain Type\", \"Timestamp\", \"Rainfall (mm)\", \"Unit\"]\n",
    "df[\"Timestamp\"] = pd.to_datetime(df[\"Timestamp\"], errors=\"coerce\")\n",
    "df = df.dropna()\n",
    "df[\"Year-Month\"] = df[\"Timestamp\"].dt.to_period(\"M\")\n",
    "df[\"Rainfall (mm)\"] = pd.to_numeric(df[\"Rainfall (mm)\"], errors=\"coerce\").fillna(0)\n",
    "monthly_rainfall = df.groupby(\"Year-Month\")[\"Rainfall (mm)\"].sum().reset_index()\n",
    "monthly_rainfall[\"Flood Risk\"] = monthly_rainfall[\"Rainfall (mm)\"].apply(flood_risk)\n",
    "monthly_rainfall.to_csv(\"PurbaChamparan_Chatia.csv\", index=False)\n",
    "print(\"\\nSUCCESS: Rainfall data processed for Purba Champaran (Chatia)\")\n",
    "\n",
    "# Purba Champaran - Chintawanpur.csv\n",
    "df = pd.read_excel(\"Rainfall_Chintawanpur.xlsx\", sheet_name=\"Rainfall - Rainfall_Chintawanpu\", skiprows=5)\n",
    "df.columns = [\"Source\", \"Rain Type\", \"Timestamp\", \"Rainfall (mm)\", \"Unit\"]\n",
    "df[\"Timestamp\"] = pd.to_datetime(df[\"Timestamp\"], errors=\"coerce\")\n",
    "df = df.dropna()\n",
    "df[\"Year-Month\"] = df[\"Timestamp\"].dt.to_period(\"M\")\n",
    "df[\"Rainfall (mm)\"] = pd.to_numeric(df[\"Rainfall (mm)\"], errors=\"coerce\").fillna(0)\n",
    "monthly_rainfall = df.groupby(\"Year-Month\")[\"Rainfall (mm)\"].sum().reset_index()\n",
    "monthly_rainfall[\"Flood Risk\"] = monthly_rainfall[\"Rainfall (mm)\"].apply(flood_risk)\n",
    "monthly_rainfall.to_csv(\"PurbaChamparan_Chintawanpur.csv\", index=False)\n",
    "print(\"\\nSUCCESS: Rainfall data processed for Purba Champaran (Chintawanpur)\")\n",
    "\n",
    "# Purba Champaran - Lakhoura.csv\n",
    "df = pd.read_excel(\"Rainfall_Lakhoura.xlsx\", sheet_name=\"Rainfall - Rainfall_Lakhoura\", skiprows=5)\n",
    "df.columns = [\"Source\", \"Rain Type\", \"Timestamp\", \"Rainfall (mm)\", \"Unit\"]\n",
    "df[\"Timestamp\"] = pd.to_datetime(df[\"Timestamp\"], errors=\"coerce\")\n",
    "df = df.dropna()\n",
    "df[\"Year-Month\"] = df[\"Timestamp\"].dt.to_period(\"M\")\n",
    "df[\"Rainfall (mm)\"] = pd.to_numeric(df[\"Rainfall (mm)\"], errors=\"coerce\").fillna(0)\n",
    "monthly_rainfall = df.groupby(\"Year-Month\")[\"Rainfall (mm)\"].sum().reset_index()\n",
    "monthly_rainfall[\"Flood Risk\"] = monthly_rainfall[\"Rainfall (mm)\"].apply(flood_risk)\n",
    "monthly_rainfall.to_csv(\"PurbaChamparan_Lakhoura.csv\", index=False)\n",
    "print(\"\\nSUCCESS: Rainfall data processed for Purba Champaran (Lakhoura)\")\n",
    "\n",
    "# Purba Champaran - Lalbegiaghat.csv\n",
    "df = pd.read_excel(\"Rainfall_Lalbegiaghat.xlsx\", sheet_name=\"Rainfall - Rainfall_Lalbegiagha\", skiprows=5)\n",
    "df.columns = [\"Source\", \"Rain Type\", \"Timestamp\", \"Rainfall (mm)\", \"Unit\"]\n",
    "df[\"Timestamp\"] = pd.to_datetime(df[\"Timestamp\"], errors=\"coerce\")\n",
    "df = df.dropna()\n",
    "df[\"Year-Month\"] = df[\"Timestamp\"].dt.to_period(\"M\")\n",
    "df[\"Rainfall (mm)\"] = pd.to_numeric(df[\"Rainfall (mm)\"], errors=\"coerce\").fillna(0)\n",
    "monthly_rainfall = df.groupby(\"Year-Month\")[\"Rainfall (mm)\"].sum().reset_index()\n",
    "monthly_rainfall[\"Flood Risk\"] = monthly_rainfall[\"Rainfall (mm)\"].apply(flood_risk)\n",
    "monthly_rainfall.to_csv(\"PurbaChamparan_Lalbegiaghat.csv\", index=False)\n",
    "print(\"\\nSUCCESS: Rainfall data processed for Purba Champaran (Lalbegiaghat)\")\n",
    "\n",
    "# Purba Champaran - Madhuban.csv\n",
    "df = pd.read_excel(\"Rainfall_Madhuban.xlsx\", sheet_name=\"Rainfall - Rainfall_Madhuban\", skiprows=5)\n",
    "df.columns = [\"Source\", \"Rain Type\", \"Timestamp\", \"Rainfall (mm)\", \"Unit\"]\n",
    "df[\"Timestamp\"] = pd.to_datetime(df[\"Timestamp\"], errors=\"coerce\")\n",
    "df = df.dropna()\n",
    "df[\"Year-Month\"] = df[\"Timestamp\"].dt.to_period(\"M\")\n",
    "df[\"Rainfall (mm)\"] = pd.to_numeric(df[\"Rainfall (mm)\"], errors=\"coerce\").fillna(0)\n",
    "monthly_rainfall = df.groupby(\"Year-Month\")[\"Rainfall (mm)\"].sum().reset_index()\n",
    "monthly_rainfall[\"Flood Risk\"] = monthly_rainfall[\"Rainfall (mm)\"].apply(flood_risk)\n",
    "monthly_rainfall.to_csv(\"PurbaChamparan_Madhuban.csv\", index=False)\n",
    "print(\"\\nSUCCESS: Rainfall data processed for Purba Champaran (Madhuban)\")\n",
    "\n",
    "# Purba Champaran - Sugauli.csv\n",
    "df = pd.read_excel(\"Rainfall_Sugauli.xlsx\", sheet_name=\"Rainfall - Rainfall_Sugauli\", skiprows=5)\n",
    "df.columns = [\"Source\", \"Rain Type\", \"Timestamp\", \"Rainfall (mm)\", \"Unit\"]\n",
    "df[\"Timestamp\"] = pd.to_datetime(df[\"Timestamp\"], errors=\"coerce\")\n",
    "df = df.dropna()\n",
    "df[\"Year-Month\"] = df[\"Timestamp\"].dt.to_period(\"M\")\n",
    "df[\"Rainfall (mm)\"] = pd.to_numeric(df[\"Rainfall (mm)\"], errors=\"coerce\").fillna(0)\n",
    "monthly_rainfall = df.groupby(\"Year-Month\")[\"Rainfall (mm)\"].sum().reset_index()\n",
    "monthly_rainfall[\"Flood Risk\"] = monthly_rainfall[\"Rainfall (mm)\"].apply(flood_risk)\n",
    "monthly_rainfall.to_csv(\"PurbaChamparan_Sugauli.csv\", index=False)\n",
    "print(\"\\nSUCCESS: Rainfall data processed for Purba Champaran (Sugauli)\")\n",
    "\n",
    "# Final Step\n",
    "df_combined = pd.concat([\n",
    "    pd.read_csv(\"PurbaChamparan_Ahirwalia.csv\"),\n",
    "    pd.read_csv(\"PurbaChamparan_Chatia.csv\"),\n",
    "    pd.read_csv(\"PurbaChamparan_Chintawanpur.csv\"),\n",
    "    pd.read_csv(\"PurbaChamparan_Lakhoura.csv\"),\n",
    "    pd.read_csv(\"PurbaChamparan_Lalbegiaghat.csv\"),\n",
    "    pd.read_csv(\"PurbaChamparan_Madhuban.csv\"),\n",
    "    pd.read_csv(\"PurbaChamparan_Sugauli.csv\"),\n",
    "])\n",
    "\n",
    "df_combined.to_csv(\"PurbaChamparan.csv\", index=False)\n",
    "print(\"\\nSUCCESS: Combined rainfall data for Purba Champaran processed\")"
   ]
  },
  {
   "cell_type": "code",
   "execution_count": 50,
   "metadata": {},
   "outputs": [
    {
     "name": "stderr",
     "output_type": "stream",
     "text": [
      "C:\\Users\\Aryan Pratik\\AppData\\Local\\Temp\\ipykernel_28288\\68505519.py:4: UserWarning: Could not infer format, so each element will be parsed individually, falling back to `dateutil`. To ensure parsing is consistent and as-expected, please specify a format.\n",
      "  df[\"Timestamp\"] = pd.to_datetime(df[\"Timestamp\"], errors=\"coerce\")\n"
     ]
    },
    {
     "name": "stdout",
     "output_type": "stream",
     "text": [
      "\n",
      "SUCCESS: Rainfall data processed for Purnia (Rauta)\n"
     ]
    },
    {
     "name": "stderr",
     "output_type": "stream",
     "text": [
      "C:\\Users\\Aryan Pratik\\AppData\\Local\\Temp\\ipykernel_28288\\68505519.py:16: UserWarning: Could not infer format, so each element will be parsed individually, falling back to `dateutil`. To ensure parsing is consistent and as-expected, please specify a format.\n",
      "  df[\"Timestamp\"] = pd.to_datetime(df[\"Timestamp\"], errors=\"coerce\")\n"
     ]
    },
    {
     "name": "stdout",
     "output_type": "stream",
     "text": [
      "\n",
      "SUCCESS: Rainfall data processed for Purnia (Amour)\n"
     ]
    },
    {
     "name": "stderr",
     "output_type": "stream",
     "text": [
      "C:\\Users\\Aryan Pratik\\AppData\\Local\\Temp\\ipykernel_28288\\68505519.py:28: UserWarning: Could not infer format, so each element will be parsed individually, falling back to `dateutil`. To ensure parsing is consistent and as-expected, please specify a format.\n",
      "  df[\"Timestamp\"] = pd.to_datetime(df[\"Timestamp\"], errors=\"coerce\")\n"
     ]
    },
    {
     "name": "stdout",
     "output_type": "stream",
     "text": [
      "\n",
      "SUCCESS: Rainfall data processed for Purnia (Dhengraghat)\n",
      "\n",
      "SUCCESS: Combined rainfall data for Purnia processed\n"
     ]
    }
   ],
   "source": [
    "# Purnia - Rauta.csv\n",
    "df = pd.read_excel(\"Rainfall_Rauta.xlsx\", sheet_name=\"Rainfall - Rainfall_Rauta\", skiprows=5)\n",
    "df.columns = [\"Source\", \"Rain Type\", \"Timestamp\", \"Rainfall (mm)\", \"Unit\"]\n",
    "df[\"Timestamp\"] = pd.to_datetime(df[\"Timestamp\"], errors=\"coerce\")\n",
    "df = df.dropna()\n",
    "df[\"Year-Month\"] = df[\"Timestamp\"].dt.to_period(\"M\")\n",
    "df[\"Rainfall (mm)\"] = pd.to_numeric(df[\"Rainfall (mm)\"], errors=\"coerce\").fillna(0)\n",
    "monthly_rainfall = df.groupby(\"Year-Month\")[\"Rainfall (mm)\"].sum().reset_index()\n",
    "monthly_rainfall[\"Flood Risk\"] = monthly_rainfall[\"Rainfall (mm)\"].apply(flood_risk)\n",
    "monthly_rainfall.to_csv(\"Purnia_Rauta.csv\", index=False)\n",
    "print(\"\\nSUCCESS: Rainfall data processed for Purnia (Rauta)\")\n",
    "\n",
    "# Purnia - Amour.csv\n",
    "df = pd.read_excel(\"Rainfall_Amour.xlsx\", sheet_name=\"Rainfall - Rainfall_Amour\", skiprows=5)\n",
    "df.columns = [\"Source\", \"Rain Type\", \"Timestamp\", \"Rainfall (mm)\", \"Unit\"]\n",
    "df[\"Timestamp\"] = pd.to_datetime(df[\"Timestamp\"], errors=\"coerce\")\n",
    "df = df.dropna()\n",
    "df[\"Year-Month\"] = df[\"Timestamp\"].dt.to_period(\"M\")\n",
    "df[\"Rainfall (mm)\"] = pd.to_numeric(df[\"Rainfall (mm)\"], errors=\"coerce\").fillna(0)\n",
    "monthly_rainfall = df.groupby(\"Year-Month\")[\"Rainfall (mm)\"].sum().reset_index()\n",
    "monthly_rainfall[\"Flood Risk\"] = monthly_rainfall[\"Rainfall (mm)\"].apply(flood_risk)\n",
    "monthly_rainfall.to_csv(\"Purnia_Amour.csv\", index=False)\n",
    "print(\"\\nSUCCESS: Rainfall data processed for Purnia (Amour)\")\n",
    "\n",
    "# Purnia - Dhengraghat.csv\n",
    "df = pd.read_excel(\"Rainfall_Dhengraghat.xlsx\", sheet_name=\"Rainfall - Rainfall_Dhengraghat\", skiprows=5)\n",
    "df.columns = [\"Source\", \"Rain Type\", \"Timestamp\", \"Rainfall (mm)\", \"Unit\"]\n",
    "df[\"Timestamp\"] = pd.to_datetime(df[\"Timestamp\"], errors=\"coerce\")\n",
    "df = df.dropna()\n",
    "df[\"Year-Month\"] = df[\"Timestamp\"].dt.to_period(\"M\")\n",
    "df[\"Rainfall (mm)\"] = pd.to_numeric(df[\"Rainfall (mm)\"], errors=\"coerce\").fillna(0)\n",
    "monthly_rainfall = df.groupby(\"Year-Month\")[\"Rainfall (mm)\"].sum().reset_index()\n",
    "monthly_rainfall[\"Flood Risk\"] = monthly_rainfall[\"Rainfall (mm)\"].apply(flood_risk)\n",
    "monthly_rainfall.to_csv(\"Purnia_Dhengraghat.csv\", index=False)\n",
    "print(\"\\nSUCCESS: Rainfall data processed for Purnia (Dhengraghat)\")\n",
    "\n",
    "# Final Step\n",
    "df_combined = pd.concat([\n",
    "    pd.read_csv(\"Purnia_Rauta.csv\"),\n",
    "    pd.read_csv(\"Purnia_Amour.csv\"),\n",
    "    pd.read_csv(\"Purnia_Dhengraghat.csv\"),\n",
    "])\n",
    "\n",
    "df_combined.to_csv(\"Purnia.csv\", index=False)\n",
    "print(\"\\nSUCCESS: Combined rainfall data for Purnia processed\")"
   ]
  },
  {
   "cell_type": "code",
   "execution_count": 58,
   "metadata": {},
   "outputs": [
    {
     "name": "stderr",
     "output_type": "stream",
     "text": [
      "C:\\Users\\Aryan Pratik\\AppData\\Local\\Temp\\ipykernel_28288\\456627533.py:4: UserWarning: Could not infer format, so each element will be parsed individually, falling back to `dateutil`. To ensure parsing is consistent and as-expected, please specify a format.\n",
      "  df[\"Timestamp\"] = pd.to_datetime(df[\"Timestamp\"], errors=\"coerce\")\n"
     ]
    },
    {
     "name": "stdout",
     "output_type": "stream",
     "text": [
      "\n",
      "SUCCESS: Rainfall data processed for Rohtas (Indrapuri barrage)\n"
     ]
    },
    {
     "name": "stderr",
     "output_type": "stream",
     "text": [
      "C:\\Users\\Aryan Pratik\\AppData\\Local\\Temp\\ipykernel_28288\\456627533.py:16: UserWarning: Could not infer format, so each element will be parsed individually, falling back to `dateutil`. To ensure parsing is consistent and as-expected, please specify a format.\n",
      "  df[\"Timestamp\"] = pd.to_datetime(df[\"Timestamp\"], errors=\"coerce\")\n"
     ]
    },
    {
     "name": "stdout",
     "output_type": "stream",
     "text": [
      "\n",
      "SUCCESS: Rainfall data processed for Rohtas (Banjari)\n"
     ]
    },
    {
     "name": "stderr",
     "output_type": "stream",
     "text": [
      "C:\\Users\\Aryan Pratik\\AppData\\Local\\Temp\\ipykernel_28288\\456627533.py:28: UserWarning: Could not infer format, so each element will be parsed individually, falling back to `dateutil`. To ensure parsing is consistent and as-expected, please specify a format.\n",
      "  df[\"Timestamp\"] = pd.to_datetime(df[\"Timestamp\"], errors=\"coerce\")\n"
     ]
    },
    {
     "name": "stdout",
     "output_type": "stream",
     "text": [
      "\n",
      "SUCCESS: Rainfall data processed for Rohtas (Indrapuri)\n",
      "\n",
      "SUCCESS: Rainfall data processed for Rohtas (Yadunathpur)\n",
      "\n",
      "SUCCESS: Combined rainfall data for Rohtas processed\n"
     ]
    },
    {
     "name": "stderr",
     "output_type": "stream",
     "text": [
      "C:\\Users\\Aryan Pratik\\AppData\\Local\\Temp\\ipykernel_28288\\456627533.py:40: UserWarning: Could not infer format, so each element will be parsed individually, falling back to `dateutil`. To ensure parsing is consistent and as-expected, please specify a format.\n",
      "  df[\"Timestamp\"] = pd.to_datetime(df[\"Timestamp\"], errors=\"coerce\")\n"
     ]
    }
   ],
   "source": [
    "# Rohtas - Indrapuri barrage.csv\n",
    "df = pd.read_excel(\"Rainfall_Indrapuri barrage.xlsx\", sheet_name=\"Rainfall - Rainfall_Indrapuri b\", skiprows=5)\n",
    "df.columns = [\"Source\", \"Rain Type\", \"Timestamp\", \"Rainfall (mm)\", \"Unit\"]\n",
    "df[\"Timestamp\"] = pd.to_datetime(df[\"Timestamp\"], errors=\"coerce\")\n",
    "df = df.dropna()\n",
    "df[\"Year-Month\"] = df[\"Timestamp\"].dt.to_period(\"M\")\n",
    "df[\"Rainfall (mm)\"] = pd.to_numeric(df[\"Rainfall (mm)\"], errors=\"coerce\").fillna(0)\n",
    "monthly_rainfall = df.groupby(\"Year-Month\")[\"Rainfall (mm)\"].sum().reset_index()\n",
    "monthly_rainfall[\"Flood Risk\"] = monthly_rainfall[\"Rainfall (mm)\"].apply(flood_risk)\n",
    "monthly_rainfall.to_csv(\"Rohtas_Indrapuri_Barrage.csv\", index=False)\n",
    "print(\"\\nSUCCESS: Rainfall data processed for Rohtas (Indrapuri barrage)\")\n",
    "\n",
    "# Rohtas - Banjari.csv\n",
    "df = pd.read_excel(\"Rainfall_Banjari.xlsx\", sheet_name=\"Rainfall - Rainfall_Banjari\", skiprows=5)\n",
    "df.columns = [\"Source\", \"Rain Type\", \"Timestamp\", \"Rainfall (mm)\", \"Unit\"]\n",
    "df[\"Timestamp\"] = pd.to_datetime(df[\"Timestamp\"], errors=\"coerce\")\n",
    "df = df.dropna()\n",
    "df[\"Year-Month\"] = df[\"Timestamp\"].dt.to_period(\"M\")\n",
    "df[\"Rainfall (mm)\"] = pd.to_numeric(df[\"Rainfall (mm)\"], errors=\"coerce\").fillna(0)\n",
    "monthly_rainfall = df.groupby(\"Year-Month\")[\"Rainfall (mm)\"].sum().reset_index()\n",
    "monthly_rainfall[\"Flood Risk\"] = monthly_rainfall[\"Rainfall (mm)\"].apply(flood_risk)\n",
    "monthly_rainfall.to_csv(\"Rohtas_Banjari.csv\", index=False)\n",
    "print(\"\\nSUCCESS: Rainfall data processed for Rohtas (Banjari)\")\n",
    "\n",
    "# Rohtas - Indrapuri.csv\n",
    "df = pd.read_excel(\"Rainfall_Indrapuri.xlsx\", sheet_name=\"Rainfall - Rainfall_Indrapuri\", skiprows=5)\n",
    "df.columns = [\"Source\", \"Rain Type\", \"Timestamp\", \"Rainfall (mm)\", \"Unit\"]\n",
    "df[\"Timestamp\"] = pd.to_datetime(df[\"Timestamp\"], errors=\"coerce\")\n",
    "df = df.dropna()\n",
    "df[\"Year-Month\"] = df[\"Timestamp\"].dt.to_period(\"M\")\n",
    "df[\"Rainfall (mm)\"] = pd.to_numeric(df[\"Rainfall (mm)\"], errors=\"coerce\").fillna(0)\n",
    "monthly_rainfall = df.groupby(\"Year-Month\")[\"Rainfall (mm)\"].sum().reset_index()\n",
    "monthly_rainfall[\"Flood Risk\"] = monthly_rainfall[\"Rainfall (mm)\"].apply(flood_risk)\n",
    "monthly_rainfall.to_csv(\"Rohtas_Indrapuri.csv\", index=False)\n",
    "print(\"\\nSUCCESS: Rainfall data processed for Rohtas (Indrapuri)\")\n",
    "\n",
    "# Rohtas - Yadunathpur.csv\n",
    "df = pd.read_excel(\"Rainfall_Yadunathpur.xlsx\", sheet_name=\"Rainfall - Rainfall_Yadunathpur\", skiprows=5)\n",
    "df.columns = [\"Source\", \"Rain Type\", \"Timestamp\", \"Rainfall (mm)\", \"Unit\"]\n",
    "df[\"Timestamp\"] = pd.to_datetime(df[\"Timestamp\"], errors=\"coerce\")\n",
    "df = df.dropna()\n",
    "df[\"Year-Month\"] = df[\"Timestamp\"].dt.to_period(\"M\")\n",
    "df[\"Rainfall (mm)\"] = pd.to_numeric(df[\"Rainfall (mm)\"], errors=\"coerce\").fillna(0)\n",
    "monthly_rainfall = df.groupby(\"Year-Month\")[\"Rainfall (mm)\"].sum().reset_index()\n",
    "monthly_rainfall[\"Flood Risk\"] = monthly_rainfall[\"Rainfall (mm)\"].apply(flood_risk)\n",
    "monthly_rainfall.to_csv(\"Rohtas_Yadunathpur.csv\", index=False)\n",
    "print(\"\\nSUCCESS: Rainfall data processed for Rohtas (Yadunathpur)\")\n",
    "\n",
    "# Final Step\n",
    "df_combined = pd.concat([\n",
    "    pd.read_csv(\"Rohtas_Indrapuri_Barrage.csv\"),\n",
    "    pd.read_csv(\"Rohtas_Banjari.csv\"),\n",
    "    pd.read_csv(\"Rohtas_Indrapuri.csv\"),\n",
    "    pd.read_csv(\"Rohtas_Yadunathpur.csv\"),\n",
    "])\n",
    "\n",
    "df_combined.to_csv(\"Rohtas.csv\", index=False)\n",
    "print(\"\\nSUCCESS: Combined rainfall data for Rohtas processed\")"
   ]
  },
  {
   "cell_type": "code",
   "execution_count": 67,
   "metadata": {},
   "outputs": [
    {
     "name": "stderr",
     "output_type": "stream",
     "text": [
      "C:\\Users\\Aryan Pratik\\AppData\\Local\\Temp\\ipykernel_28288\\3633339471.py:4: UserWarning: Could not infer format, so each element will be parsed individually, falling back to `dateutil`. To ensure parsing is consistent and as-expected, please specify a format.\n",
      "  df[\"Timestamp\"] = pd.to_datetime(df[\"Timestamp\"], errors=\"coerce\")\n"
     ]
    },
    {
     "name": "stdout",
     "output_type": "stream",
     "text": [
      "\n",
      "SUCCESS: Rainfall data processed for Samastipur (Mohauddin Nagar)\n"
     ]
    },
    {
     "name": "stderr",
     "output_type": "stream",
     "text": [
      "C:\\Users\\Aryan Pratik\\AppData\\Local\\Temp\\ipykernel_28288\\3633339471.py:16: UserWarning: Could not infer format, so each element will be parsed individually, falling back to `dateutil`. To ensure parsing is consistent and as-expected, please specify a format.\n",
      "  df[\"Timestamp\"] = pd.to_datetime(df[\"Timestamp\"], errors=\"coerce\")\n"
     ]
    },
    {
     "name": "stdout",
     "output_type": "stream",
     "text": [
      "\n",
      "SUCCESS: Rainfall data processed for Samastipur (Dalsingh Sarai)\n"
     ]
    },
    {
     "name": "stderr",
     "output_type": "stream",
     "text": [
      "C:\\Users\\Aryan Pratik\\AppData\\Local\\Temp\\ipykernel_28288\\3633339471.py:28: UserWarning: Could not infer format, so each element will be parsed individually, falling back to `dateutil`. To ensure parsing is consistent and as-expected, please specify a format.\n",
      "  df[\"Timestamp\"] = pd.to_datetime(df[\"Timestamp\"], errors=\"coerce\")\n"
     ]
    },
    {
     "name": "stdout",
     "output_type": "stream",
     "text": [
      "\n",
      "SUCCESS: Rainfall data processed for Samastipur (Rosera)\n",
      "\n",
      "SUCCESS: Rainfall data processed for Samastipur (Samastipur)\n",
      "\n",
      "SUCCESS: Combined rainfall data for Samastipur processed\n"
     ]
    },
    {
     "name": "stderr",
     "output_type": "stream",
     "text": [
      "C:\\Users\\Aryan Pratik\\AppData\\Local\\Temp\\ipykernel_28288\\3633339471.py:40: UserWarning: Could not infer format, so each element will be parsed individually, falling back to `dateutil`. To ensure parsing is consistent and as-expected, please specify a format.\n",
      "  df[\"Timestamp\"] = pd.to_datetime(df[\"Timestamp\"], errors=\"coerce\")\n"
     ]
    }
   ],
   "source": [
    "# Samastipur - Mohauddin Nagar.csv\n",
    "df = pd.read_excel(\"Rainfall_Mohauddin nagar.xlsx\", sheet_name=\"Rainfall - Rainfall_Mohauddin n\", skiprows=5)\n",
    "df.columns = [\"Source\", \"Rain Type\", \"Timestamp\", \"Rainfall (mm)\", \"Unit\"]\n",
    "df[\"Timestamp\"] = pd.to_datetime(df[\"Timestamp\"], errors=\"coerce\")\n",
    "df = df.dropna()\n",
    "df[\"Year-Month\"] = df[\"Timestamp\"].dt.to_period(\"M\")\n",
    "df[\"Rainfall (mm)\"] = pd.to_numeric(df[\"Rainfall (mm)\"], errors=\"coerce\").fillna(0)\n",
    "monthly_rainfall = df.groupby(\"Year-Month\")[\"Rainfall (mm)\"].sum().reset_index()\n",
    "monthly_rainfall[\"Flood Risk\"] = monthly_rainfall[\"Rainfall (mm)\"].apply(flood_risk)\n",
    "monthly_rainfall.to_csv(\"Samastipur_Mohauddin_Nagar.csv\", index=False)\n",
    "print(\"\\nSUCCESS: Rainfall data processed for Samastipur (Mohauddin Nagar)\")\n",
    "\n",
    "# Samastipur - Dalsingh Sarai.csv\n",
    "df = pd.read_excel(\"Rainfall_Dalsingh sarai.xlsx\", sheet_name=\"Rainfall - Rainfall_Dalsingh sa\", skiprows=5)\n",
    "df.columns = [\"Source\", \"Rain Type\", \"Timestamp\", \"Rainfall (mm)\", \"Unit\"]\n",
    "df[\"Timestamp\"] = pd.to_datetime(df[\"Timestamp\"], errors=\"coerce\")\n",
    "df = df.dropna()\n",
    "df[\"Year-Month\"] = df[\"Timestamp\"].dt.to_period(\"M\")\n",
    "df[\"Rainfall (mm)\"] = pd.to_numeric(df[\"Rainfall (mm)\"], errors=\"coerce\").fillna(0)\n",
    "monthly_rainfall = df.groupby(\"Year-Month\")[\"Rainfall (mm)\"].sum().reset_index()\n",
    "monthly_rainfall[\"Flood Risk\"] = monthly_rainfall[\"Rainfall (mm)\"].apply(flood_risk)\n",
    "monthly_rainfall.to_csv(\"Samastipur_Dalsingh_Sarai.csv\", index=False)\n",
    "print(\"\\nSUCCESS: Rainfall data processed for Samastipur (Dalsingh Sarai)\")\n",
    "\n",
    "# Samastipur - Rosera.csv\n",
    "df = pd.read_excel(\"Rainfall_Rosera.xlsx\", sheet_name=\"Rainfall - Rainfall_Rosera\", skiprows=5)\n",
    "df.columns = [\"Source\", \"Rain Type\", \"Timestamp\", \"Rainfall (mm)\", \"Unit\"]\n",
    "df[\"Timestamp\"] = pd.to_datetime(df[\"Timestamp\"], errors=\"coerce\")\n",
    "df = df.dropna()\n",
    "df[\"Year-Month\"] = df[\"Timestamp\"].dt.to_period(\"M\")\n",
    "df[\"Rainfall (mm)\"] = pd.to_numeric(df[\"Rainfall (mm)\"], errors=\"coerce\").fillna(0)\n",
    "monthly_rainfall = df.groupby(\"Year-Month\")[\"Rainfall (mm)\"].sum().reset_index()\n",
    "monthly_rainfall[\"Flood Risk\"] = monthly_rainfall[\"Rainfall (mm)\"].apply(flood_risk)\n",
    "monthly_rainfall.to_csv(\"Samastipur_Rosera.csv\", index=False)\n",
    "print(\"\\nSUCCESS: Rainfall data processed for Samastipur (Rosera)\")\n",
    "\n",
    "# Samastipur - Samastipur.csv\n",
    "df = pd.read_excel(\"Rainfall_Samastipur.xlsx\", sheet_name=\"Rainfall - Rainfall_Samastipur\", skiprows=5)\n",
    "df.columns = [\"Source\", \"Rain Type\", \"Timestamp\", \"Rainfall (mm)\", \"Unit\"]\n",
    "df[\"Timestamp\"] = pd.to_datetime(df[\"Timestamp\"], errors=\"coerce\")\n",
    "df = df.dropna()\n",
    "df[\"Year-Month\"] = df[\"Timestamp\"].dt.to_period(\"M\")\n",
    "df[\"Rainfall (mm)\"] = pd.to_numeric(df[\"Rainfall (mm)\"], errors=\"coerce\").fillna(0)\n",
    "monthly_rainfall = df.groupby(\"Year-Month\")[\"Rainfall (mm)\"].sum().reset_index()\n",
    "monthly_rainfall[\"Flood Risk\"] = monthly_rainfall[\"Rainfall (mm)\"].apply(flood_risk)\n",
    "monthly_rainfall.to_csv(\"Samastipur_Samastipur.csv\", index=False)\n",
    "print(\"\\nSUCCESS: Rainfall data processed for Samastipur (Samastipur)\")\n",
    "\n",
    "# Final Step\n",
    "df_combined = pd.concat([\n",
    "    pd.read_csv(\"Samastipur_Mohauddin_Nagar.csv\"),\n",
    "    pd.read_csv(\"Samastipur_Dalsingh_Sarai.csv\"),\n",
    "    pd.read_csv(\"Samastipur_Rosera.csv\"),\n",
    "    pd.read_csv(\"Samastipur_Samastipur.csv\"),\n",
    "])\n",
    "\n",
    "df_combined.to_csv(\"Samastipur.csv\", index=False)\n",
    "print(\"\\nSUCCESS: Combined rainfall data for Samastipur processed\")"
   ]
  },
  {
   "cell_type": "code",
   "execution_count": 77,
   "metadata": {},
   "outputs": [
    {
     "name": "stderr",
     "output_type": "stream",
     "text": [
      "C:\\Users\\Aryan Pratik\\AppData\\Local\\Temp\\ipykernel_28288\\2043647233.py:4: UserWarning: Could not infer format, so each element will be parsed individually, falling back to `dateutil`. To ensure parsing is consistent and as-expected, please specify a format.\n",
      "  df[\"Timestamp\"] = pd.to_datetime(df[\"Timestamp\"], errors=\"coerce\")\n"
     ]
    },
    {
     "name": "stdout",
     "output_type": "stream",
     "text": [
      "\n",
      "SUCCESS: Rainfall data processed for Saran (Chhapra)\n"
     ]
    },
    {
     "name": "stderr",
     "output_type": "stream",
     "text": [
      "C:\\Users\\Aryan Pratik\\AppData\\Local\\Temp\\ipykernel_28288\\2043647233.py:16: UserWarning: Could not infer format, so each element will be parsed individually, falling back to `dateutil`. To ensure parsing is consistent and as-expected, please specify a format.\n",
      "  df[\"Timestamp\"] = pd.to_datetime(df[\"Timestamp\"], errors=\"coerce\")\n"
     ]
    },
    {
     "name": "stdout",
     "output_type": "stream",
     "text": [
      "\n",
      "SUCCESS: Rainfall data processed for Saran (Dighwara)\n"
     ]
    },
    {
     "name": "stderr",
     "output_type": "stream",
     "text": [
      "C:\\Users\\Aryan Pratik\\AppData\\Local\\Temp\\ipykernel_28288\\2043647233.py:28: UserWarning: Could not infer format, so each element will be parsed individually, falling back to `dateutil`. To ensure parsing is consistent and as-expected, please specify a format.\n",
      "  df[\"Timestamp\"] = pd.to_datetime(df[\"Timestamp\"], errors=\"coerce\")\n"
     ]
    },
    {
     "name": "stdout",
     "output_type": "stream",
     "text": [
      "\n",
      "SUCCESS: Rainfall data processed for Saran (Doriganj)\n",
      "\n",
      "SUCCESS: Rainfall data processed for Saran (Manjhi)\n",
      "\n",
      "SUCCESS: Rainfall data processed for Saran (Sitlapur)\n",
      "\n",
      "SUCCESS: Combined rainfall data for Saran processed\n"
     ]
    },
    {
     "name": "stderr",
     "output_type": "stream",
     "text": [
      "C:\\Users\\Aryan Pratik\\AppData\\Local\\Temp\\ipykernel_28288\\2043647233.py:40: UserWarning: Could not infer format, so each element will be parsed individually, falling back to `dateutil`. To ensure parsing is consistent and as-expected, please specify a format.\n",
      "  df[\"Timestamp\"] = pd.to_datetime(df[\"Timestamp\"], errors=\"coerce\")\n",
      "C:\\Users\\Aryan Pratik\\AppData\\Local\\Temp\\ipykernel_28288\\2043647233.py:52: UserWarning: Could not infer format, so each element will be parsed individually, falling back to `dateutil`. To ensure parsing is consistent and as-expected, please specify a format.\n",
      "  df[\"Timestamp\"] = pd.to_datetime(df[\"Timestamp\"], errors=\"coerce\")\n"
     ]
    }
   ],
   "source": [
    "# Saran - Chhapra.csv\n",
    "df = pd.read_excel(\"Rainfall_Chhapra.xlsx\", sheet_name=\"Rainfall - Rainfall_Chhapra\", skiprows=5)\n",
    "df.columns = [\"Source\", \"Rain Type\", \"Timestamp\", \"Rainfall (mm)\", \"Unit\"]\n",
    "df[\"Timestamp\"] = pd.to_datetime(df[\"Timestamp\"], errors=\"coerce\")\n",
    "df = df.dropna()\n",
    "df[\"Year-Month\"] = df[\"Timestamp\"].dt.to_period(\"M\")\n",
    "df[\"Rainfall (mm)\"] = pd.to_numeric(df[\"Rainfall (mm)\"], errors=\"coerce\").fillna(0)\n",
    "monthly_rainfall = df.groupby(\"Year-Month\")[\"Rainfall (mm)\"].sum().reset_index()\n",
    "monthly_rainfall[\"Flood Risk\"] = monthly_rainfall[\"Rainfall (mm)\"].apply(flood_risk)\n",
    "monthly_rainfall.to_csv(\"Saran_Chhapra.csv\", index=False)\n",
    "print(\"\\nSUCCESS: Rainfall data processed for Saran (Chhapra)\")\n",
    "\n",
    "# Saran - Dighwara.csv\n",
    "df = pd.read_excel(\"Rainfall_Dighwara.xlsx\", sheet_name=\"Rainfall - Rainfall_Dighwara\", skiprows=5)\n",
    "df.columns = [\"Source\", \"Rain Type\", \"Timestamp\", \"Rainfall (mm)\", \"Unit\"]\n",
    "df[\"Timestamp\"] = pd.to_datetime(df[\"Timestamp\"], errors=\"coerce\")\n",
    "df = df.dropna()\n",
    "df[\"Year-Month\"] = df[\"Timestamp\"].dt.to_period(\"M\")\n",
    "df[\"Rainfall (mm)\"] = pd.to_numeric(df[\"Rainfall (mm)\"], errors=\"coerce\").fillna(0)\n",
    "monthly_rainfall = df.groupby(\"Year-Month\")[\"Rainfall (mm)\"].sum().reset_index()\n",
    "monthly_rainfall[\"Flood Risk\"] = monthly_rainfall[\"Rainfall (mm)\"].apply(flood_risk)\n",
    "monthly_rainfall.to_csv(\"Saran_Dighwara.csv\", index=False)\n",
    "print(\"\\nSUCCESS: Rainfall data processed for Saran (Dighwara)\")\n",
    "\n",
    "# Saran - Doriganj.csv\n",
    "df = pd.read_excel(\"Rainfall_Doriganj.xlsx\", sheet_name=\"Rainfall - Rainfall_Doriganj\", skiprows=5)\n",
    "df.columns = [\"Source\", \"Rain Type\", \"Timestamp\", \"Rainfall (mm)\", \"Unit\"]\n",
    "df[\"Timestamp\"] = pd.to_datetime(df[\"Timestamp\"], errors=\"coerce\")\n",
    "df = df.dropna()\n",
    "df[\"Year-Month\"] = df[\"Timestamp\"].dt.to_period(\"M\")\n",
    "df[\"Rainfall (mm)\"] = pd.to_numeric(df[\"Rainfall (mm)\"], errors=\"coerce\").fillna(0)\n",
    "monthly_rainfall = df.groupby(\"Year-Month\")[\"Rainfall (mm)\"].sum().reset_index()\n",
    "monthly_rainfall[\"Flood Risk\"] = monthly_rainfall[\"Rainfall (mm)\"].apply(flood_risk)\n",
    "monthly_rainfall.to_csv(\"Saran_Doriganj.csv\", index=False)\n",
    "print(\"\\nSUCCESS: Rainfall data processed for Saran (Doriganj)\")\n",
    "\n",
    "# Saran - Manjhi.csv\n",
    "df = pd.read_excel(\"Rainfall_Manjhi.xlsx\", sheet_name=\"Rainfall - Rainfall_Manjhi\", skiprows=5)\n",
    "df.columns = [\"Source\", \"Rain Type\", \"Timestamp\", \"Rainfall (mm)\", \"Unit\"]\n",
    "df[\"Timestamp\"] = pd.to_datetime(df[\"Timestamp\"], errors=\"coerce\")\n",
    "df = df.dropna()\n",
    "df[\"Year-Month\"] = df[\"Timestamp\"].dt.to_period(\"M\")\n",
    "df[\"Rainfall (mm)\"] = pd.to_numeric(df[\"Rainfall (mm)\"], errors=\"coerce\").fillna(0)\n",
    "monthly_rainfall = df.groupby(\"Year-Month\")[\"Rainfall (mm)\"].sum().reset_index()\n",
    "monthly_rainfall[\"Flood Risk\"] = monthly_rainfall[\"Rainfall (mm)\"].apply(flood_risk)\n",
    "monthly_rainfall.to_csv(\"Saran_Manjhi.csv\", index=False)\n",
    "print(\"\\nSUCCESS: Rainfall data processed for Saran (Manjhi)\")\n",
    "\n",
    "# Saran - Sitlapur.csv\n",
    "df = pd.read_excel(\"Rainfall_Sitalpur.xlsx\", sheet_name=\"Rainfall - Rainfall_Sitalpur\", skiprows=5)\n",
    "df.columns = [\"Source\", \"Rain Type\", \"Timestamp\", \"Rainfall (mm)\", \"Unit\"]\n",
    "df[\"Timestamp\"] = pd.to_datetime(df[\"Timestamp\"], errors=\"coerce\")\n",
    "df = df.dropna()\n",
    "df[\"Year-Month\"] = df[\"Timestamp\"].dt.to_period(\"M\")\n",
    "df[\"Rainfall (mm)\"] = pd.to_numeric(df[\"Rainfall (mm)\"], errors=\"coerce\").fillna(0)\n",
    "monthly_rainfall = df.groupby(\"Year-Month\")[\"Rainfall (mm)\"].sum().reset_index()\n",
    "monthly_rainfall[\"Flood Risk\"] = monthly_rainfall[\"Rainfall (mm)\"].apply(flood_risk)\n",
    "monthly_rainfall.to_csv(\"Saran_Sitalpur.csv\", index=False)\n",
    "print(\"\\nSUCCESS: Rainfall data processed for Saran (Sitlapur)\")\n",
    "\n",
    "# Final Step\n",
    "df_combined = pd.concat([\n",
    "    pd.read_csv(\"Saran_Chhapra.csv\"),\n",
    "    pd.read_csv(\"Saran_Dighwara.csv\"),\n",
    "    pd.read_csv(\"Saran_Doriganj.csv\"),\n",
    "    pd.read_csv(\"Saran_Manjhi.csv\"),\n",
    "    pd.read_csv(\"Saran_Sitalpur.csv\"),\n",
    "])\n",
    "\n",
    "df_combined.to_csv(\"Saran.csv\", index=False)\n",
    "print(\"\\nSUCCESS: Combined rainfall data for Saran processed\")"
   ]
  },
  {
   "cell_type": "code",
   "execution_count": 78,
   "metadata": {},
   "outputs": [
    {
     "name": "stderr",
     "output_type": "stream",
     "text": [
      "C:\\Users\\Aryan Pratik\\AppData\\Local\\Temp\\ipykernel_28288\\1510105838.py:4: UserWarning: Could not infer format, so each element will be parsed individually, falling back to `dateutil`. To ensure parsing is consistent and as-expected, please specify a format.\n",
      "  df[\"Timestamp\"] = pd.to_datetime(df[\"Timestamp\"], errors=\"coerce\")\n"
     ]
    },
    {
     "name": "stdout",
     "output_type": "stream",
     "text": [
      "\n",
      "SUCCESS: Rainfall data processed for Bairgania\n"
     ]
    },
    {
     "name": "stderr",
     "output_type": "stream",
     "text": [
      "C:\\Users\\Aryan Pratik\\AppData\\Local\\Temp\\ipykernel_28288\\1510105838.py:16: UserWarning: Could not infer format, so each element will be parsed individually, falling back to `dateutil`. To ensure parsing is consistent and as-expected, please specify a format.\n",
      "  df[\"Timestamp\"] = pd.to_datetime(df[\"Timestamp\"], errors=\"coerce\")\n"
     ]
    },
    {
     "name": "stdout",
     "output_type": "stream",
     "text": [
      "\n",
      "SUCCESS: Rainfall data processed for Belsand\n"
     ]
    },
    {
     "name": "stderr",
     "output_type": "stream",
     "text": [
      "C:\\Users\\Aryan Pratik\\AppData\\Local\\Temp\\ipykernel_28288\\1510105838.py:28: UserWarning: Could not infer format, so each element will be parsed individually, falling back to `dateutil`. To ensure parsing is consistent and as-expected, please specify a format.\n",
      "  df[\"Timestamp\"] = pd.to_datetime(df[\"Timestamp\"], errors=\"coerce\")\n"
     ]
    },
    {
     "name": "stdout",
     "output_type": "stream",
     "text": [
      "\n",
      "SUCCESS: Rainfall data processed for Indo-nepal border (bhutahi)\n"
     ]
    },
    {
     "name": "stderr",
     "output_type": "stream",
     "text": [
      "C:\\Users\\Aryan Pratik\\AppData\\Local\\Temp\\ipykernel_28288\\1510105838.py:40: UserWarning: Could not infer format, so each element will be parsed individually, falling back to `dateutil`. To ensure parsing is consistent and as-expected, please specify a format.\n",
      "  df[\"Timestamp\"] = pd.to_datetime(df[\"Timestamp\"], errors=\"coerce\")\n"
     ]
    },
    {
     "name": "stdout",
     "output_type": "stream",
     "text": [
      "\n",
      "SUCCESS: Rainfall data processed for Dheng bridge\n",
      "\n",
      "SUCCESS: Rainfall data processed for Sonbarsa\n",
      "\n",
      "SUCCESS: Combined rainfall data for Saran processed\n"
     ]
    },
    {
     "name": "stderr",
     "output_type": "stream",
     "text": [
      "C:\\Users\\Aryan Pratik\\AppData\\Local\\Temp\\ipykernel_28288\\1510105838.py:52: UserWarning: Could not infer format, so each element will be parsed individually, falling back to `dateutil`. To ensure parsing is consistent and as-expected, please specify a format.\n",
      "  df[\"Timestamp\"] = pd.to_datetime(df[\"Timestamp\"], errors=\"coerce\")\n"
     ]
    }
   ],
   "source": [
    "# Sitamarhi1.csv (Bairgania)\n",
    "df = pd.read_excel(\"Rainfall_Bairgania.xlsx\", sheet_name=\"Rainfall - Rainfall_Bairgania\", skiprows=5)\n",
    "df.columns = [\"Source\", \"Rain Type\", \"Timestamp\", \"Rainfall (mm)\", \"Unit\"]\n",
    "df[\"Timestamp\"] = pd.to_datetime(df[\"Timestamp\"], errors=\"coerce\")\n",
    "df = df.dropna()\n",
    "df[\"Year-Month\"] = df[\"Timestamp\"].dt.to_period(\"M\")\n",
    "df[\"Rainfall (mm)\"] = pd.to_numeric(df[\"Rainfall (mm)\"], errors=\"coerce\").fillna(0)\n",
    "monthly_rainfall = df.groupby(\"Year-Month\")[\"Rainfall (mm)\"].sum().reset_index()\n",
    "monthly_rainfall[\"Flood Risk\"] = monthly_rainfall[\"Rainfall (mm)\"].apply(flood_risk)\n",
    "monthly_rainfall.to_csv(\"Sitamarhi1.csv\", index=False)\n",
    "print(\"\\nSUCCESS: Rainfall data processed for Bairgania\")\n",
    "\n",
    "# Sitamarhi2.csv (Belsand)\n",
    "df = pd.read_excel(\"Rainfall_Belsand.xlsx\", sheet_name=\"Rainfall - Rainfall_Belsand\", skiprows=5)\n",
    "df.columns = [\"Source\", \"Rain Type\", \"Timestamp\", \"Rainfall (mm)\", \"Unit\"]\n",
    "df[\"Timestamp\"] = pd.to_datetime(df[\"Timestamp\"], errors=\"coerce\")\n",
    "df = df.dropna()\n",
    "df[\"Year-Month\"] = df[\"Timestamp\"].dt.to_period(\"M\")\n",
    "df[\"Rainfall (mm)\"] = pd.to_numeric(df[\"Rainfall (mm)\"], errors=\"coerce\").fillna(0)\n",
    "monthly_rainfall = df.groupby(\"Year-Month\")[\"Rainfall (mm)\"].sum().reset_index()\n",
    "monthly_rainfall[\"Flood Risk\"] = monthly_rainfall[\"Rainfall (mm)\"].apply(flood_risk)\n",
    "monthly_rainfall.to_csv(\"Sitamarhi2.csv\", index=False)\n",
    "print(\"\\nSUCCESS: Rainfall data processed for Belsand\")\n",
    "\n",
    "# Sitamarhi3.csv (Indo-nepal border (bhutahi))\n",
    "df = pd.read_excel(\"Rainfall_Indo-nepal border (bhutahi).xlsx\", sheet_name=\"Rainfall - Rainfall_Indo-nepal \", skiprows=5)\n",
    "df.columns = [\"Source\", \"Rain Type\", \"Timestamp\", \"Rainfall (mm)\", \"Unit\"]\n",
    "df[\"Timestamp\"] = pd.to_datetime(df[\"Timestamp\"], errors=\"coerce\")\n",
    "df = df.dropna()\n",
    "df[\"Year-Month\"] = df[\"Timestamp\"].dt.to_period(\"M\")\n",
    "df[\"Rainfall (mm)\"] = pd.to_numeric(df[\"Rainfall (mm)\"], errors=\"coerce\").fillna(0)\n",
    "monthly_rainfall = df.groupby(\"Year-Month\")[\"Rainfall (mm)\"].sum().reset_index()\n",
    "monthly_rainfall[\"Flood Risk\"] = monthly_rainfall[\"Rainfall (mm)\"].apply(flood_risk)\n",
    "monthly_rainfall.to_csv(\"Sitamarhi3.csv\", index=False)\n",
    "print(\"\\nSUCCESS: Rainfall data processed for Indo-nepal border (bhutahi)\")\n",
    "\n",
    "# Sitamarhi4.csv (Dheng bridge)\n",
    "df = pd.read_excel(\"Rainfall_Dheng bridge.xlsx\", sheet_name=\"Rainfall - Rainfall_Dheng bridg\", skiprows=5)\n",
    "df.columns = [\"Source\", \"Rain Type\", \"Timestamp\", \"Rainfall (mm)\", \"Unit\"]\n",
    "df[\"Timestamp\"] = pd.to_datetime(df[\"Timestamp\"], errors=\"coerce\")\n",
    "df = df.dropna()\n",
    "df[\"Year-Month\"] = df[\"Timestamp\"].dt.to_period(\"M\")\n",
    "df[\"Rainfall (mm)\"] = pd.to_numeric(df[\"Rainfall (mm)\"], errors=\"coerce\").fillna(0)\n",
    "monthly_rainfall = df.groupby(\"Year-Month\")[\"Rainfall (mm)\"].sum().reset_index()\n",
    "monthly_rainfall[\"Flood Risk\"] = monthly_rainfall[\"Rainfall (mm)\"].apply(flood_risk)\n",
    "monthly_rainfall.to_csv(\"Sitamarhi4.csv\", index=False)\n",
    "print(\"\\nSUCCESS: Rainfall data processed for Dheng bridge\")\n",
    "\n",
    "# Sitamarhi5.csv (Sonbarsa)\n",
    "df = pd.read_excel(\"Rainfall_Sonbarsa.xlsx\", sheet_name=\"Rainfall - Rainfall_Sonbarsa\", skiprows=5)\n",
    "df.columns = [\"Source\", \"Rain Type\", \"Timestamp\", \"Rainfall (mm)\", \"Unit\"]\n",
    "df[\"Timestamp\"] = pd.to_datetime(df[\"Timestamp\"], errors=\"coerce\")\n",
    "df = df.dropna()\n",
    "df[\"Year-Month\"] = df[\"Timestamp\"].dt.to_period(\"M\")\n",
    "df[\"Rainfall (mm)\"] = pd.to_numeric(df[\"Rainfall (mm)\"], errors=\"coerce\").fillna(0)\n",
    "monthly_rainfall = df.groupby(\"Year-Month\")[\"Rainfall (mm)\"].sum().reset_index()\n",
    "monthly_rainfall[\"Flood Risk\"] = monthly_rainfall[\"Rainfall (mm)\"].apply(flood_risk)\n",
    "monthly_rainfall.to_csv(\"Sitamarhi5.csv\", index=False)\n",
    "print(\"\\nSUCCESS: Rainfall data processed for Sonbarsa\")\n",
    "\n",
    "# Final Step\n",
    "df_combined = pd.concat([\n",
    "    pd.read_csv(\"Sitamarhi1.csv\"),\n",
    "    pd.read_csv(\"Sitamarhi2.csv\"),\n",
    "    pd.read_csv(\"Sitamarhi3.csv\"),\n",
    "    pd.read_csv(\"Sitamarhi4.csv\"),\n",
    "    pd.read_csv(\"Sitamarhi5.csv\"),\n",
    "])\n",
    "\n",
    "df_combined.to_csv(\"Sitamarhi.csv\", index=False)\n",
    "print(\"\\nSUCCESS: Combined rainfall data for Saran processed\")"
   ]
  },
  {
   "cell_type": "code",
   "execution_count": 81,
   "metadata": {},
   "outputs": [
    {
     "name": "stderr",
     "output_type": "stream",
     "text": [
      "C:\\Users\\Aryan Pratik\\AppData\\Local\\Temp\\ipykernel_28288\\2613392829.py:4: UserWarning: Could not infer format, so each element will be parsed individually, falling back to `dateutil`. To ensure parsing is consistent and as-expected, please specify a format.\n",
      "  df[\"Timestamp\"] = pd.to_datetime(df[\"Timestamp\"], errors=\"coerce\")\n"
     ]
    },
    {
     "name": "stdout",
     "output_type": "stream",
     "text": [
      "\n",
      "SUCCESS: Rainfall data processed for Darauli\n",
      "\n",
      "SUCCESS: Rainfall data processed for Gangpur Siswan\n",
      "\n",
      "SUCCESS: Combined rainfall data for Saran processed\n"
     ]
    },
    {
     "name": "stderr",
     "output_type": "stream",
     "text": [
      "C:\\Users\\Aryan Pratik\\AppData\\Local\\Temp\\ipykernel_28288\\2613392829.py:16: UserWarning: Could not infer format, so each element will be parsed individually, falling back to `dateutil`. To ensure parsing is consistent and as-expected, please specify a format.\n",
      "  df[\"Timestamp\"] = pd.to_datetime(df[\"Timestamp\"], errors=\"coerce\")\n"
     ]
    }
   ],
   "source": [
    "# Siwan1.csv (Darauli)\n",
    "df = pd.read_excel(\"Rainfall_Darauli.xlsx\", sheet_name=\"Rainfall - Rainfall_Darauli\", skiprows=5)\n",
    "df.columns = [\"Source\", \"Rain Type\", \"Timestamp\", \"Rainfall (mm)\", \"Unit\"]\n",
    "df[\"Timestamp\"] = pd.to_datetime(df[\"Timestamp\"], errors=\"coerce\")\n",
    "df = df.dropna()\n",
    "df[\"Year-Month\"] = df[\"Timestamp\"].dt.to_period(\"M\")\n",
    "df[\"Rainfall (mm)\"] = pd.to_numeric(df[\"Rainfall (mm)\"], errors=\"coerce\").fillna(0)\n",
    "monthly_rainfall = df.groupby(\"Year-Month\")[\"Rainfall (mm)\"].sum().reset_index()\n",
    "monthly_rainfall[\"Flood Risk\"] = monthly_rainfall[\"Rainfall (mm)\"].apply(flood_risk)\n",
    "monthly_rainfall.to_csv(\"Siwan1.csv\", index=False)\n",
    "print(\"\\nSUCCESS: Rainfall data processed for Darauli\")\n",
    "\n",
    "# Siwan2.csv (Gangpur Siswan)\n",
    "df = pd.read_excel(\"Rainfall_Gangpur siswan.xlsx\", sheet_name=\"Rainfall - Rainfall_Gangpur sis\", skiprows=5)\n",
    "df.columns = [\"Source\", \"Rain Type\", \"Timestamp\", \"Rainfall (mm)\", \"Unit\"]\n",
    "df[\"Timestamp\"] = pd.to_datetime(df[\"Timestamp\"], errors=\"coerce\")\n",
    "df = df.dropna()\n",
    "df[\"Year-Month\"] = df[\"Timestamp\"].dt.to_period(\"M\")\n",
    "df[\"Rainfall (mm)\"] = pd.to_numeric(df[\"Rainfall (mm)\"], errors=\"coerce\").fillna(0)\n",
    "monthly_rainfall = df.groupby(\"Year-Month\")[\"Rainfall (mm)\"].sum().reset_index()\n",
    "monthly_rainfall[\"Flood Risk\"] = monthly_rainfall[\"Rainfall (mm)\"].apply(flood_risk)\n",
    "monthly_rainfall.to_csv(\"Siwan2.csv\", index=False)\n",
    "print(\"\\nSUCCESS: Rainfall data processed for Gangpur Siswan\")\n",
    "\n",
    "# Final Step\n",
    "df_combined = pd.concat([\n",
    "    pd.read_csv(\"Siwan1.csv\"),\n",
    "    pd.read_csv(\"Siwan2.csv\"),\n",
    "])\n",
    "\n",
    "df_combined.to_csv(\"Siwan.csv\", index=False)\n",
    "print(\"\\nSUCCESS: Combined rainfall data for Saran processed\")"
   ]
  },
  {
   "cell_type": "code",
   "execution_count": 83,
   "metadata": {},
   "outputs": [
    {
     "name": "stderr",
     "output_type": "stream",
     "text": [
      "C:\\Users\\Aryan Pratik\\AppData\\Local\\Temp\\ipykernel_28288\\587254405.py:4: UserWarning: Could not infer format, so each element will be parsed individually, falling back to `dateutil`. To ensure parsing is consistent and as-expected, please specify a format.\n",
      "  df[\"Timestamp\"] = pd.to_datetime(df[\"Timestamp\"], errors=\"coerce\")\n"
     ]
    },
    {
     "name": "stdout",
     "output_type": "stream",
     "text": [
      "\n",
      "SUCCESS: Rainfall data processed for Basua\n"
     ]
    },
    {
     "name": "stderr",
     "output_type": "stream",
     "text": [
      "C:\\Users\\Aryan Pratik\\AppData\\Local\\Temp\\ipykernel_28288\\587254405.py:16: UserWarning: Could not infer format, so each element will be parsed individually, falling back to `dateutil`. To ensure parsing is consistent and as-expected, please specify a format.\n",
      "  df[\"Timestamp\"] = pd.to_datetime(df[\"Timestamp\"], errors=\"coerce\")\n",
      "C:\\Users\\Aryan Pratik\\AppData\\Local\\Temp\\ipykernel_28288\\587254405.py:28: UserWarning: Could not infer format, so each element will be parsed individually, falling back to `dateutil`. To ensure parsing is consistent and as-expected, please specify a format.\n",
      "  df[\"Timestamp\"] = pd.to_datetime(df[\"Timestamp\"], errors=\"coerce\")\n"
     ]
    },
    {
     "name": "stdout",
     "output_type": "stream",
     "text": [
      "\n",
      "SUCCESS: Rainfall data processed for Birpur\n",
      "\n",
      "SUCCESS: Rainfall data processed for Kosi barrage\n",
      "\n",
      "SUCCESS: Rainfall data processed for Nirmali\n",
      "\n",
      "SUCCESS: Combined rainfall data for Saran processed\n"
     ]
    },
    {
     "name": "stderr",
     "output_type": "stream",
     "text": [
      "C:\\Users\\Aryan Pratik\\AppData\\Local\\Temp\\ipykernel_28288\\587254405.py:40: UserWarning: Could not infer format, so each element will be parsed individually, falling back to `dateutil`. To ensure parsing is consistent and as-expected, please specify a format.\n",
      "  df[\"Timestamp\"] = pd.to_datetime(df[\"Timestamp\"], errors=\"coerce\")\n"
     ]
    }
   ],
   "source": [
    "# Supaul1.csv (Basua)\n",
    "df = pd.read_excel(\"Rainfall_Basua.xlsx\", sheet_name=\"Rainfall - Rainfall_Basua\", skiprows=5)\n",
    "df.columns = [\"Source\", \"Rain Type\", \"Timestamp\", \"Rainfall (mm)\", \"Unit\"]\n",
    "df[\"Timestamp\"] = pd.to_datetime(df[\"Timestamp\"], errors=\"coerce\")\n",
    "df = df.dropna()\n",
    "df[\"Year-Month\"] = df[\"Timestamp\"].dt.to_period(\"M\")\n",
    "df[\"Rainfall (mm)\"] = pd.to_numeric(df[\"Rainfall (mm)\"], errors=\"coerce\").fillna(0)\n",
    "monthly_rainfall = df.groupby(\"Year-Month\")[\"Rainfall (mm)\"].sum().reset_index()\n",
    "monthly_rainfall[\"Flood Risk\"] = monthly_rainfall[\"Rainfall (mm)\"].apply(flood_risk)\n",
    "monthly_rainfall.to_csv(\"Supaul1.csv\", index=False)\n",
    "print(\"\\nSUCCESS: Rainfall data processed for Basua\")\n",
    "\n",
    "# Supaul2.csv (Birpur)\n",
    "df = pd.read_excel(\"Rainfall_Birpur.xlsx\", sheet_name=\"Rainfall - Rainfall_Birpur\", skiprows=5)\n",
    "df.columns = [\"Source\", \"Rain Type\", \"Timestamp\", \"Rainfall (mm)\", \"Unit\"]\n",
    "df[\"Timestamp\"] = pd.to_datetime(df[\"Timestamp\"], errors=\"coerce\")\n",
    "df = df.dropna()\n",
    "df[\"Year-Month\"] = df[\"Timestamp\"].dt.to_period(\"M\")\n",
    "df[\"Rainfall (mm)\"] = pd.to_numeric(df[\"Rainfall (mm)\"], errors=\"coerce\").fillna(0)\n",
    "monthly_rainfall = df.groupby(\"Year-Month\")[\"Rainfall (mm)\"].sum().reset_index()\n",
    "monthly_rainfall[\"Flood Risk\"] = monthly_rainfall[\"Rainfall (mm)\"].apply(flood_risk)\n",
    "monthly_rainfall.to_csv(\"Supaul2.csv\", index=False)\n",
    "print(\"\\nSUCCESS: Rainfall data processed for Birpur\")\n",
    "\n",
    "# Supaul3.csv (Kosi barrage)\n",
    "df = pd.read_excel(\"Rainfall_Kosi barrage.xlsx\", sheet_name=\"Rainfall - Rainfall_Kosi barrag\", skiprows=5)\n",
    "df.columns = [\"Source\", \"Rain Type\", \"Timestamp\", \"Rainfall (mm)\", \"Unit\"]\n",
    "df[\"Timestamp\"] = pd.to_datetime(df[\"Timestamp\"], errors=\"coerce\")\n",
    "df = df.dropna()\n",
    "df[\"Year-Month\"] = df[\"Timestamp\"].dt.to_period(\"M\")\n",
    "df[\"Rainfall (mm)\"] = pd.to_numeric(df[\"Rainfall (mm)\"], errors=\"coerce\").fillna(0)\n",
    "monthly_rainfall = df.groupby(\"Year-Month\")[\"Rainfall (mm)\"].sum().reset_index()\n",
    "monthly_rainfall[\"Flood Risk\"] = monthly_rainfall[\"Rainfall (mm)\"].apply(flood_risk)\n",
    "monthly_rainfall.to_csv(\"Supaul3.csv\", index=False)\n",
    "print(\"\\nSUCCESS: Rainfall data processed for Kosi barrage\")\n",
    "\n",
    "# Supaul4.csv (Nirmali)\n",
    "df = pd.read_excel(\"Rainfall_Nirmali.xlsx\", sheet_name=\"Rainfall - Rainfall_Nirmali\", skiprows=5)\n",
    "df.columns = [\"Source\", \"Rain Type\", \"Timestamp\", \"Rainfall (mm)\", \"Unit\"]\n",
    "df[\"Timestamp\"] = pd.to_datetime(df[\"Timestamp\"], errors=\"coerce\")\n",
    "df = df.dropna()\n",
    "df[\"Year-Month\"] = df[\"Timestamp\"].dt.to_period(\"M\")\n",
    "df[\"Rainfall (mm)\"] = pd.to_numeric(df[\"Rainfall (mm)\"], errors=\"coerce\").fillna(0)\n",
    "monthly_rainfall = df.groupby(\"Year-Month\")[\"Rainfall (mm)\"].sum().reset_index()\n",
    "monthly_rainfall[\"Flood Risk\"] = monthly_rainfall[\"Rainfall (mm)\"].apply(flood_risk)\n",
    "monthly_rainfall.to_csv(\"Supaul4.csv\", index=False)\n",
    "print(\"\\nSUCCESS: Rainfall data processed for Nirmali\")\n",
    "\n",
    "# Final Step\n",
    "df_combined = pd.concat([\n",
    "    pd.read_csv(\"Supaul1.csv\"),\n",
    "    pd.read_csv(\"Supaul2.csv\"),\n",
    "    pd.read_csv(\"Supaul3.csv\"),\n",
    "    pd.read_csv(\"Supaul4.csv\"),\n",
    "])\n",
    "\n",
    "df_combined.to_csv(\"Supaul.csv\", index=False)\n",
    "print(\"\\nSUCCESS: Combined rainfall data for Saran processed\")"
   ]
  },
  {
   "cell_type": "code",
   "execution_count": 87,
   "metadata": {},
   "outputs": [
    {
     "name": "stdout",
     "output_type": "stream",
     "text": [
      "Combined data saved as 'bihar_full_rainfall_data.csv'\n"
     ]
    }
   ],
   "source": [
    "import pandas as pd\n",
    "\n",
    "# List of paths to the CSV files\n",
    "csv_file_paths = [\n",
    "    'Araria.csv',\n",
    "    'Arwal.csv',\n",
    "    'Aurangabad.csv',\n",
    "    'Banka.csv',\n",
    "    'Begusarai.csv',\n",
    "    'Bhagalpur.csv',\n",
    "    'Bhojpur.csv',\n",
    "    'Buxar.csv',\n",
    "    'Darbhanga.csv',\n",
    "    'Gaya.csv',\n",
    "    'Gopalganj.csv',\n",
    "    'Jamui.csv',\n",
    "    'Jehanabad.csv',\n",
    "    'Kaimur.csv',\n",
    "    'Katihar.csv',\n",
    "    'Khagaria.csv',\n",
    "    'Kishanganj.csv',\n",
    "    'Lakhisarai.csv',\n",
    "    'Madhepura.csv',\n",
    "    'Madhubani.csv',\n",
    "    'Motihari.csv',\n",
    "    'Munger.csv',\n",
    "    'Muzzafarpur.csv',\n",
    "    'Nalanda.csv',\n",
    "    'Nawada.csv',\n",
    "    'PashchimChamparan.csv',\n",
    "    'Patna.csv',\n",
    "    'PurbaChamparan.csv',\n",
    "    'Purnia.csv',\n",
    "    'Rohtas.csv',\n",
    "    'Samastipur.csv',\n",
    "    'Saran.csv',\n",
    "    'Sitamarhi.csv',\n",
    "    'Siwan.csv',\n",
    "    'Supaul.csv',\n",
    "]\n",
    "\n",
    "# List to hold DataFrames\n",
    "district_dataframes = []\n",
    "\n",
    "# Iterate over each file path\n",
    "for file_path in csv_file_paths:\n",
    "    # Read the CSV file into a DataFrame\n",
    "    district_df = pd.read_csv(file_path)\n",
    "    \n",
    "    # Optionally, add a column for the district name (you can customize how to extract it)\n",
    "    district_name = file_path.split('/')[-1].split('.')[0]  # Using filename as district name\n",
    "    district_df['District'] = district_name\n",
    "    \n",
    "    # Append the DataFrame to the list\n",
    "    district_dataframes.append(district_df)\n",
    "\n",
    "# Concatenate all the DataFrames into one\n",
    "full_bihar_data = pd.concat(district_dataframes, ignore_index=True)\n",
    "\n",
    "# Save the combined data as a new CSV file\n",
    "full_bihar_data.to_csv('bihar_full_rainfall_data.csv', index=False)\n",
    "\n",
    "print(\"Combined data saved as 'bihar_full_rainfall_data.csv'\")\n"
   ]
  }
 ],
 "metadata": {
  "kernelspec": {
   "display_name": "Python 3",
   "language": "python",
   "name": "python3"
  },
  "language_info": {
   "codemirror_mode": {
    "name": "ipython",
    "version": 3
   },
   "file_extension": ".py",
   "mimetype": "text/x-python",
   "name": "python",
   "nbconvert_exporter": "python",
   "pygments_lexer": "ipython3",
   "version": "3.10.0"
  }
 },
 "nbformat": 4,
 "nbformat_minor": 2
}
